{
 "cells": [
  {
   "cell_type": "code",
   "execution_count": 145,
   "metadata": {},
   "outputs": [],
   "source": [
    "import os\n",
    "import pandas as pd\n",
    "import yaml\n",
    "import copy\n",
    "import random\n",
    "from pathlib import Path\n",
    "import matplotlib.pyplot as plt\n",
    "\n",
    "import aot\n"
   ]
  },
  {
   "cell_type": "code",
   "execution_count": 146,
   "metadata": {},
   "outputs": [
    {
     "name": "stdout",
     "output_type": "stream",
     "text": [
      "videos number:  1405\n"
     ]
    }
   ],
   "source": [
    "base_dir = Path(aot.__path__[0])\n",
    "core_expt_yaml_path = base_dir / \"experiment/core_exp_settings.yml\"\n",
    "stimuli_temp_path = base_dir / \"experiment/stimuli_settings_temp.yml\"\n",
    "core_settings = yaml.load(open(core_expt_yaml_path), Loader=yaml.FullLoader)\n",
    "stimuli_settings_temp = yaml.load(\n",
    "    open(stimuli_temp_path), Loader=yaml.FullLoader)\n",
    "\n",
    "settings_root_path = base_dir / core_settings[\"paths\"][\"settings_path\"]\n",
    "video_db_path = base_dir / 'data/videos/database_originals.tsv'\n",
    "video_db = pd.read_csv(video_db_path, sep='\\t')\n",
    "main_settings_path = settings_root_path / 'main'\n",
    "\n",
    "videos_names = []\n",
    "for i in range(1,len(video_db)):\n",
    "    if video_db['grade'][i] == 'j' or video_db['grade'][i] == 'NA':\n",
    "        videos_names.append(video_db['video_name'][i])\n",
    "print(\"videos number: \", len(videos_names))\n",
    "\n",
    "origin_videos_number = len(videos_names)\n",
    "subject_number = core_settings['various']['subject_number']\n",
    "session_number = core_settings['various']['session_number']\n",
    "run_number = core_settings['various']['run_number']\n",
    "# only for main run\n",
    "blank_number_per_run = core_settings['various']['blank_number_per_run']\n",
    "unique_video_number_per_session = core_settings['various']['unique_video_number_per_session']\n",
    "video_number_per_run_main = int(\n",
    "    (unique_video_number_per_session*4) / run_number)\n",
    "# only 1 subject and 1 session for grading\n",
    "video_number_per_run_grading = int(origin_videos_number / run_number)\n"
   ]
  },
  {
   "cell_type": "code",
   "execution_count": 147,
   "metadata": {},
   "outputs": [],
   "source": [
    "def read_settings_file(subject, ses, run):\n",
    "    settings_file = main_settings_path / f\"experiment_settings_sub_{str(subject).zfill(2)}_ses_{str(ses).zfill(2)}_run_{str(run).zfill(2)}.yml\"\n",
    "    settings = yaml.load(open(settings_file), Loader=yaml.FullLoader)\n",
    "    return settings"
   ]
  },
  {
   "cell_type": "code",
   "execution_count": 148,
   "metadata": {},
   "outputs": [],
   "source": [
    "def read_settings_files_session(subject, ses):#return a list of settings files for a given session\n",
    "    settings_files = [read_settings_file(subject, ses, run) for run in range(1,run_number+1)]\n",
    "    sessions_movies = [settings['stimuli']['movie_files'] for settings in settings_files]\n",
    "    return sessions_movies"
   ]
  },
  {
   "cell_type": "code",
   "execution_count": 149,
   "metadata": {},
   "outputs": [
    {
     "name": "stdout",
     "output_type": "stream",
     "text": [
      "subject 1, session 1 replay: True\n",
      "subject 1, session 2 replay: True\n",
      "subject 1, session 3 replay: True\n",
      "subject 1, session 4 replay: True\n",
      "subject 1, session 5 replay: True\n",
      "subject 1, session 6 replay: True\n",
      "subject 2, session 1 replay: True\n",
      "subject 2, session 2 replay: True\n",
      "subject 2, session 3 replay: True\n",
      "subject 2, session 4 replay: True\n",
      "subject 2, session 5 replay: True\n",
      "subject 2, session 6 replay: True\n",
      "subject 3, session 1 replay: True\n",
      "subject 3, session 2 replay: True\n",
      "subject 3, session 3 replay: True\n",
      "subject 3, session 4 replay: True\n",
      "subject 3, session 5 replay: True\n",
      "subject 3, session 6 replay: True\n",
      "subject 4, session 1 replay: True\n",
      "subject 4, session 2 replay: True\n",
      "subject 4, session 3 replay: True\n",
      "subject 4, session 4 replay: True\n",
      "subject 4, session 5 replay: True\n",
      "subject 4, session 6 replay: True\n",
      "subject 5, session 1 replay: True\n",
      "subject 5, session 2 replay: True\n",
      "subject 5, session 3 replay: True\n",
      "subject 5, session 4 replay: True\n",
      "subject 5, session 5 replay: True\n",
      "subject 5, session 6 replay: True\n"
     ]
    }
   ],
   "source": [
    "def check_video_replay_of_session(session_movies):\n",
    "    #check if the same video is replayed in a session\n",
    "    #append all the lists of movies in a session\n",
    "    all_movies = []\n",
    "    for run_movies in session_movies:\n",
    "        all_movies += run_movies\n",
    "    #remove the blanks\n",
    "    all_movies = [movie for movie in all_movies if movie != 'blank']\n",
    "    #check if there is a replay\n",
    "    stack = []\n",
    "    for movie in all_movies:\n",
    "        if movie in stack:\n",
    "            stack.remove(movie)\n",
    "        else:\n",
    "            stack.append(movie)\n",
    "    return len(stack) == 0\n",
    "\n",
    "def check_video_replay_all_session():\n",
    "    for subject in range(1, subject_number+1):\n",
    "        for ses in range(1, session_number+1):\n",
    "            session_movies = read_settings_files_session(subject, ses)\n",
    "            #print(f\"subject {subject}, session {ses} movies: {session_movies}\")\n",
    "            is_replay = check_video_replay_of_session(session_movies)\n",
    "            print(f\"subject {subject}, session {ses} replay: {is_replay}\")\n",
    "\n",
    "check_video_replay_all_session()"
   ]
  },
  {
   "cell_type": "code",
   "execution_count": 150,
   "metadata": {},
   "outputs": [
    {
     "name": "stdout",
     "output_type": "stream",
     "text": [
      "subject 1, session 1 duality: True\n",
      "subject 1, session 2 duality: True\n",
      "subject 1, session 3 duality: True\n",
      "subject 1, session 4 duality: True\n",
      "subject 1, session 5 duality: True\n",
      "subject 1, session 6 duality: True\n",
      "subject 2, session 1 duality: True\n",
      "subject 2, session 2 duality: True\n",
      "subject 2, session 3 duality: True\n",
      "subject 2, session 4 duality: True\n",
      "subject 2, session 5 duality: True\n",
      "subject 2, session 6 duality: True\n",
      "subject 3, session 1 duality: True\n",
      "subject 3, session 2 duality: True\n",
      "subject 3, session 3 duality: True\n",
      "subject 3, session 4 duality: True\n",
      "subject 3, session 5 duality: True\n",
      "subject 3, session 6 duality: True\n",
      "subject 4, session 1 duality: True\n",
      "subject 4, session 2 duality: True\n",
      "subject 4, session 3 duality: True\n",
      "subject 4, session 4 duality: True\n",
      "subject 4, session 5 duality: True\n",
      "subject 4, session 6 duality: True\n",
      "subject 5, session 1 duality: True\n",
      "subject 5, session 2 duality: True\n",
      "subject 5, session 3 duality: True\n",
      "subject 5, session 4 duality: True\n",
      "subject 5, session 5 duality: True\n",
      "subject 5, session 6 duality: True\n"
     ]
    }
   ],
   "source": [
    "def check_video_direction_duality_of_session(session_movies):\n",
    "    #check whether the videos in a session are duality pairs(R_S_movie,S_movie)\n",
    "    #append all the lists of movies in a session\n",
    "    def check_duality(video1,video2):\n",
    "        if video1.startswith('R_') and video2.startswith('S_'):\n",
    "            return video1[4:] == video2[2:]\n",
    "        elif video1.startswith('S_') and video2.startswith('R_'):\n",
    "            return video1[2:] == video2[4:]\n",
    "        else:\n",
    "            return False\n",
    "    def is_duality_in_stack(video, video_stack):#with side effect that remove the duality pair\n",
    "        for v in video_stack:\n",
    "            if check_duality(video,v):\n",
    "                video_stack.remove(v)\n",
    "                return True\n",
    "        return False\n",
    "    all_movies = []\n",
    "    for run_movies in session_movies:\n",
    "        all_movies += run_movies\n",
    "    #remove the blanks\n",
    "    all_movies = [movie for movie in all_movies if movie != 'blank']\n",
    "    stack = []\n",
    "    for movie in all_movies:\n",
    "        if not is_duality_in_stack(movie, stack):\n",
    "            stack.append(movie)\n",
    "    return len(stack) == 0\n",
    "\n",
    "def check_video_direction_duality_all_session():\n",
    "    for subject in range(1, subject_number+1):\n",
    "        for ses in range(1, session_number+1):\n",
    "            session_movies = read_settings_files_session(subject, ses)\n",
    "            #print(f\"subject {subject}, session {ses} movies: {session_movies}\")\n",
    "            is_duality = check_video_direction_duality_of_session(session_movies)\n",
    "            print(f\"subject {subject}, session {ses} duality: {is_duality}\")\n",
    "\n",
    "check_video_direction_duality_all_session()\n",
    "    "
   ]
  }
 ],
 "metadata": {
  "kernelspec": {
   "display_name": "base",
   "language": "python",
   "name": "python3"
  },
  "language_info": {
   "codemirror_mode": {
    "name": "ipython",
    "version": 3
   },
   "file_extension": ".py",
   "mimetype": "text/x-python",
   "name": "python",
   "nbconvert_exporter": "python",
   "pygments_lexer": "ipython3",
   "version": "3.9.12"
  },
  "orig_nbformat": 4
 },
 "nbformat": 4,
 "nbformat_minor": 2
}
