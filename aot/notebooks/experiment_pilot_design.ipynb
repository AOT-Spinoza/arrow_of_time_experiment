{
 "cells": [
  {
   "cell_type": "code",
   "execution_count": 1,
   "metadata": {},
   "outputs": [],
   "source": [
    "import os\n",
    "import pandas as pd\n",
    "import yaml\n",
    "import copy\n",
    "import random\n",
    "from pathlib import Path\n",
    "import matplotlib.pyplot as plt\n",
    "\n",
    "import aot"
   ]
  },
  {
   "cell_type": "code",
   "execution_count": 2,
   "metadata": {},
   "outputs": [],
   "source": [
    "base_dir = Path(aot.__path__[0])\n",
    "core_expt_yaml_path = base_dir / \"experiment/core_exp_settings.yml\"\n",
    "stimuli_temp_path = base_dir / \"experiment/stimuli_settings_temp.yml\"\n",
    "core_settings = yaml.load(open(core_expt_yaml_path), Loader=yaml.FullLoader)\n",
    "stimuli_settings_temp = yaml.load(open(stimuli_temp_path), Loader=yaml.FullLoader)  \n",
    "\n",
    "settings_root_path = base_dir / core_settings[\"paths\"][\"settings_path\"] \n",
    "video_db_path = base_dir / 'data/videos/database_originals.tsv'\n",
    "video_db = pd.read_csv(video_db_path, sep='\\t')"
   ]
  },
  {
   "cell_type": "code",
   "execution_count": 3,
   "metadata": {},
   "outputs": [],
   "source": [
    "task90_movie_number = 90\n",
    "task90_blank_number = 15\n",
    "task80_movie_number = 80\n",
    "task80_blank_number = 20\n",
    "task72_movie_number = 72\n",
    "task72_blank_number = 20"
   ]
  },
  {
   "cell_type": "code",
   "execution_count": 4,
   "metadata": {},
   "outputs": [
    {
     "name": "stdout",
     "output_type": "stream",
     "text": [
      "videos number:  528\n"
     ]
    }
   ],
   "source": [
    "videos_names = []\n",
    "for i in range(1, len(video_db)):\n",
    "    if video_db['grade'][i] == 'j' or video_db['grade'][i] == 'NA':\n",
    "        videos_names.append(video_db['video_name'][i])\n",
    "print(\"videos number: \", len(videos_names))\n",
    "\n",
    "origin_videos_number = len(videos_names)"
   ]
  },
  {
   "cell_type": "code",
   "execution_count": 5,
   "metadata": {},
   "outputs": [],
   "source": [
    "random.shuffle(videos_names)\n",
    "task90_videos = videos_names[:task90_movie_number]\n",
    "task80_videos = videos_names[:task80_movie_number]\n",
    "task72_videos = videos_names[:task72_movie_number]"
   ]
  },
  {
   "cell_type": "code",
   "execution_count": 6,
   "metadata": {},
   "outputs": [],
   "source": [
    "def make_pilot_session(task_number,task_videos,blank_number):\n",
    "    def distribute(videos,blank_number,type='random'):\n",
    "        if type == 'random':\n",
    "            playlist = videos+['blank']*blank_number\n",
    "            random.shuffle(playlist)\n",
    "            return playlist\n",
    "        elif type == 'uniform':\n",
    "            movie_number_per_blank = int(len(videos)/blank_number)\n",
    "            for i in range(blank_number):\n",
    "                videos.insert((i+1)*movie_number_per_blank+i,\"blank\")\n",
    "            return videos\n",
    "    \n",
    "    def make_pilot_run(run_number,task_videos,blank_number):\n",
    "        videos = copy.deepcopy(task_videos)\n",
    "        #add S_ and R_S_ to the video names with 0.5 probability for each one\n",
    "        for i in range(len(videos)):\n",
    "            videos[i] = 'S_' + videos[i]\n",
    "            '''\n",
    "            if random.random() < 0.5:\n",
    "                \n",
    "                videos[i] = 'S_' + videos[i]\n",
    "            else:\n",
    "                videos[i] = 'R_S_' + videos[i]\n",
    "            '''\n",
    "        settings = copy.deepcopy(stimuli_settings_temp)\n",
    "        random.shuffle(videos)\n",
    "        settings[\"stimuli\"][\"movie_files\"] = distribute(videos,blank_number)\n",
    "        '''\n",
    "        movie_number_per_blank = int(len(videos)/blank_number)\n",
    "        for i in range(blank_number):\n",
    "            settings['stimuli']['movie_files'].insert((i+1)*movie_number_per_blank+i,\"blank\")\n",
    "        '''\n",
    "        with open(\n",
    "            str(settings_root_path)\n",
    "            + \"/\"\n",
    "            + \"pilot\"\n",
    "            + \"/experiment_settings_\"\n",
    "            + \"task_\"\n",
    "            + str(task_number).zfill(2)\n",
    "            + \"_run_\"\n",
    "            + str(run_number).zfill(2)\n",
    "            + \".yml\",\n",
    "            \"w\",\n",
    "        ) as outfile:\n",
    "            print(\n",
    "                str(settings_root_path)\n",
    "                + \"/\"\n",
    "                + \"pilot\"\n",
    "                + \"/experiment_settings_\"\n",
    "                + \"task_\"\n",
    "                + str(task_number).zfill(2)\n",
    "                + \"_run_\"\n",
    "                + str(run_number).zfill(2)\n",
    "                + \".yml\",\n",
    "                \"w\",\n",
    "            )\n",
    "            print(settings)\n",
    "            print(\" \")\n",
    "            yaml.dump(settings, outfile, default_flow_style=False)\n",
    "        return settings\n",
    "\n",
    "    run1_settings = make_pilot_run(1,task_videos,blank_number)\n",
    "    run2_settings = make_pilot_run(2,task_videos,blank_number)\n"
   ]
  },
  {
   "cell_type": "code",
   "execution_count": 7,
   "metadata": {},
   "outputs": [
    {
     "name": "stdout",
     "output_type": "stream",
     "text": [
      "/Users/shufanzhang/Documents/PhD/Arrow_of_time/arrow_of_time_spinoza/aot/data/experiment/settings/pilot/experiment_settings_task_90_run_01.yml w\n",
      "{'stimuli': {'movie_files': ['S_yt-BeF1BUrjY_8_117.mp4', 'S_yt-qlR-TG7veA4_17.mp4', 'S_yt-F3B1i_Yt8_o_20.mp4', 'S_yt-5C0_rps3vyM_22.mp4', 'S_yt-dLTag3L1w94_566.mp4', 'S_yt-mWL9DHq4eRI_501.mp4', 'S_video_inspire_alabama_montgomery_countryside_00007.1080-h264.mp4', 'blank', 'blank', 'blank', 'S_yt-MIDWkOZcQUs_72.mp4', 'S_yt-JizcV7kYuqM_132.mp4', 'S_comp_GMT312_162NC_139M_1041_AFRICA_NIGHT_v14_SDR_FINAL_20180706_SDR_2K_AVC.mp4', 'S_ILSVRC2015_train_00415001.mp4', 'S_Y011_C008_SDR_2K_AVC.mp4', 'blank', 'S_yt-YWfInCviN1s_126.mp4', 'S_yt-cu4AVz6o2eg_24.mp4', 'S_yt-tDRPy0Rj6AU_141.mp4', 'S_yt-72bAjwP-nWM_30.mp4', 'S_wc-3IayTPy_A3nF_17.mp4', 'S_KP_A010_C002_SDR_20190717_SDR_2K_AVC.mp4', 'S_yt-bl9EuWKeVmY_6.mp4', 'S_yt-4slVHFGPwEs_744.mp4', 'S_yt-GigCK1Gssew_185.mp4', 'S_yt-r5kRl-2lVxc_2.mp4', 'S_yt-ChAhBD9LrsU_223.mp4', 'S_comp_GMT329_117NC_401C_1037_IRELAND_TO_ASIA_v48_SDR_PS_FINAL_20180725_F0F6300_SDR_2K_AVC.mp4', 'S_yt-0qWYjx341mc_7.mp4', 'blank', 'S_yt-ZynGxEtFNdk_243.mp4', 'S_comp_H007_C003_PS_v01_SDR_PS_20180925_SDR_2K_AVC.mp4', 'blank', 'S_comp_GL_G004_C010_PSNK_v04_SDR_PS_FINAL_20180709_SDR_2K_AVC.mp4', 'S_yt-GpVFUM8K0yE_68.mp4', 'S_yt-FDMROdv8N0A_118.mp4', 'blank', 'S_yt-w7dXHLrfZI4_223.mp4', 'S_yt-I2n2eo2zoZs_133.mp4', 'S_yt-E2Klz_wBAf8_285.mp4', 'S_yt-A1XT1fT1c8w_24.mp4', 'S_video_inspire_oregon_lone-ranch-beach_00001.1080-h264.mp4', 'S_video_inspire_california_vineyard_sierra-mar_sunrise_110.1080-h264.mp4', 'S_comp_CH_C002_C005_PSNK_v05_SDR_PS_FINAL_20180709_SDR_2K_AVC.mp4', 'S_comp_A001_C001_120530_v04_SDR_FINAL_20180706_SDR_2K_AVC.mp4', 'S_G010_C026_UHD_SDR_v02_2K_AVC.mp4', 'S_yt-pB-AcJ71tzA_20.mp4', 'S_S003_C020_SDR_2K_AVC.mp4', 'S_yt-MXCxHM_Ms8A_15.mp4', 'blank', 'S_ILSVRC2015_train_00418000.mp4', 'S_wc-DVD7mCf3fqw1_2.mp4', 'S_yt-djFogwgoaEk_94.mp4', 'S_yt-SvCjZ59S9wk_211.mp4', 'S_ILSVRC2015_train_00750000.mp4', 'S_yt-q8mfIumbHuo_84.mp4', 'S_comp_L012_c002_PS_v01_SDR_PS_20180925_SDR_2K_AVC.mp4', 'blank', 'S_G008_C015_UHD_SDR_2K_AVC.mp4', 'S_yt-nA-1mD3ky2c_37.mp4', 'S_yt-o96A55Szxkc_982.mp4', 'S_yt-RL1chIcbTPQ_11.mp4', 'S_yt-IdhdCU1HQ30_50.mp4', 'S_comp_A012_C014_1223PT_v53_SDR_PS_FINAL_20180709_F0F8700_SDR_2K_AVC.mp4', 'S_comp_GMT026_363A_103NC_E1027_KOREA_JAPAN_NIGHT_v18_SDR_PS_20180907_SDR_2K_AVC.mp4', 'S_BO_A014_C023_SDR_20190717_F240F3709_SDR_2K_AVC.mp4', 'S_yt-omUwZYZrWy0_375.mp4', 'S_yt-e9ttJw0BUuU_40.mp4', 'S_yt-A-RhzHTz38g_21.mp4', 'S_comp_A013_C012_0122D6_CC_v01_SDR_PS_FINAL_20180709_SDR_2K_AVC.mp4', 'S_video_inspire_sanfrancisco_castro_005.1080-h264.mp4', 'S_yt-49utbRVtx1U_16.mp4', 'S_ILSVRC2015_train_00555002.mp4', 'blank', 'S_yt-Bejo5TLEpg4_36.mp4', 'S_yt-jovPh9BdlYI_215.mp4', 'S_yt-vMnSbsjGK9k_62.mp4', 'blank', 'S_yt-x0MCtNEv_Ew_35.mp4', 'S_yt-PMx2hhCk2d8_13.mp4', 'blank', 'S_comp_H004_C007_PS_v02_SDR_PS_20180925_SDR_2K_AVC.mp4', 'S_I003_C008_SDR_2K_AVC.mp4', 'S_yt-KC6I552mXwM_6.mp4', 'S_b1-3.mp4', 'blank', 'blank', 'S_PA_A010_C007_SDR_20190717_SDR_2K_AVC.mp4', 'S_yt-cILZ_cB3_so_73.mp4', 'S_comp_A103_C002_0205DG_v12_SDR_FINAL_20180706_SDR_2K_AVC.mp4', 'S_yt-zRkzk1Y1eoU_50.mp4', 'S_yt-JWedZ-zeqgQ_52.mp4', 'blank', 'S_comp_GMT306_139NC_139J_3066_CALI_TO_VEGAS_v08_SDR_PS_20180824_SDR_2K_AVC.mp4', 'S_yt-mOQJwaPQbMg_5.mp4', 'S_ILSVRC2015_train_00247001.mp4', 'S_g201_TH_804_A001_8_SDR_20191031_SDR_2K_AVC.mp4', 'S_yt-J4Ci5b3z4fo_4.mp4', 'S_ILSVRC2015_train_00516000.mp4', 'S_yt-147vePB5Arc_15.mp4', 'S_yt-Sz5GUMVi46A_1.mp4', 'S_yt-Lbv4qHp0RO0_14.mp4', 'S_yt-L7UKVgSr0c8_198.mp4', 'S_comp_GMT329_113NC_396B_1105_ITALY_v03_SDR_FINAL_20180706_SDR_2K_AVC.mp4', 'S_SAiA2MWgCWE_5.mp4']}}\n",
      " \n",
      "/Users/shufanzhang/Documents/PhD/Arrow_of_time/arrow_of_time_spinoza/aot/data/experiment/settings/pilot/experiment_settings_task_90_run_02.yml w\n",
      "{'stimuli': {'movie_files': ['S_yt-RL1chIcbTPQ_11.mp4', 'S_video_inspire_oregon_lone-ranch-beach_00001.1080-h264.mp4', 'S_yt-pB-AcJ71tzA_20.mp4', 'S_comp_H007_C003_PS_v01_SDR_PS_20180925_SDR_2K_AVC.mp4', 'blank', 'S_yt-IdhdCU1HQ30_50.mp4', 'S_yt-KC6I552mXwM_6.mp4', 'S_ILSVRC2015_train_00415001.mp4', 'S_comp_A001_C001_120530_v04_SDR_FINAL_20180706_SDR_2K_AVC.mp4', 'blank', 'S_yt-qlR-TG7veA4_17.mp4', 'S_yt-cILZ_cB3_so_73.mp4', 'S_G010_C026_UHD_SDR_v02_2K_AVC.mp4', 'S_comp_GMT026_363A_103NC_E1027_KOREA_JAPAN_NIGHT_v18_SDR_PS_20180907_SDR_2K_AVC.mp4', 'S_yt-JWedZ-zeqgQ_52.mp4', 'S_S003_C020_SDR_2K_AVC.mp4', 'S_yt-5C0_rps3vyM_22.mp4', 'S_yt-Lbv4qHp0RO0_14.mp4', 'S_ILSVRC2015_train_00247001.mp4', 'S_yt-A-RhzHTz38g_21.mp4', 'blank', 'S_video_inspire_sanfrancisco_castro_005.1080-h264.mp4', 'S_comp_GMT312_162NC_139M_1041_AFRICA_NIGHT_v14_SDR_FINAL_20180706_SDR_2K_AVC.mp4', 'S_yt-L7UKVgSr0c8_198.mp4', 'S_yt-72bAjwP-nWM_30.mp4', 'S_yt-bl9EuWKeVmY_6.mp4', 'S_yt-jovPh9BdlYI_215.mp4', 'S_comp_A013_C012_0122D6_CC_v01_SDR_PS_FINAL_20180709_SDR_2K_AVC.mp4', 'S_yt-mWL9DHq4eRI_501.mp4', 'S_SAiA2MWgCWE_5.mp4', 'S_wc-DVD7mCf3fqw1_2.mp4', 'S_comp_CH_C002_C005_PSNK_v05_SDR_PS_FINAL_20180709_SDR_2K_AVC.mp4', 'S_yt-0qWYjx341mc_7.mp4', 'S_yt-Sz5GUMVi46A_1.mp4', 'blank', 'S_yt-tDRPy0Rj6AU_141.mp4', 'S_video_inspire_california_vineyard_sierra-mar_sunrise_110.1080-h264.mp4', 'S_PA_A010_C007_SDR_20190717_SDR_2K_AVC.mp4', 'S_yt-ChAhBD9LrsU_223.mp4', 'S_comp_GMT329_113NC_396B_1105_ITALY_v03_SDR_FINAL_20180706_SDR_2K_AVC.mp4', 'S_comp_GL_G004_C010_PSNK_v04_SDR_PS_FINAL_20180709_SDR_2K_AVC.mp4', 'blank', 'S_yt-nA-1mD3ky2c_37.mp4', 'S_ILSVRC2015_train_00555002.mp4', 'S_comp_A103_C002_0205DG_v12_SDR_FINAL_20180706_SDR_2K_AVC.mp4', 'S_yt-ZynGxEtFNdk_243.mp4', 'S_b1-3.mp4', 'S_yt-GpVFUM8K0yE_68.mp4', 'S_yt-mOQJwaPQbMg_5.mp4', 'S_yt-e9ttJw0BUuU_40.mp4', 'S_yt-zRkzk1Y1eoU_50.mp4', 'S_yt-MXCxHM_Ms8A_15.mp4', 'S_yt-A1XT1fT1c8w_24.mp4', 'blank', 'S_yt-vMnSbsjGK9k_62.mp4', 'S_yt-o96A55Szxkc_982.mp4', 'S_yt-djFogwgoaEk_94.mp4', 'S_yt-4slVHFGPwEs_744.mp4', 'blank', 'S_yt-GigCK1Gssew_185.mp4', 'S_yt-YWfInCviN1s_126.mp4', 'S_yt-FDMROdv8N0A_118.mp4', 'blank', 'S_yt-I2n2eo2zoZs_133.mp4', 'blank', 'S_yt-147vePB5Arc_15.mp4', 'S_g201_TH_804_A001_8_SDR_20191031_SDR_2K_AVC.mp4', 'S_comp_GMT306_139NC_139J_3066_CALI_TO_VEGAS_v08_SDR_PS_20180824_SDR_2K_AVC.mp4', 'S_comp_A012_C014_1223PT_v53_SDR_PS_FINAL_20180709_F0F8700_SDR_2K_AVC.mp4', 'S_yt-49utbRVtx1U_16.mp4', 'S_Y011_C008_SDR_2K_AVC.mp4', 'blank', 'S_yt-Bejo5TLEpg4_36.mp4', 'S_yt-BeF1BUrjY_8_117.mp4', 'S_yt-cu4AVz6o2eg_24.mp4', 'S_ILSVRC2015_train_00750000.mp4', 'S_yt-E2Klz_wBAf8_285.mp4', 'S_comp_GMT329_117NC_401C_1037_IRELAND_TO_ASIA_v48_SDR_PS_FINAL_20180725_F0F6300_SDR_2K_AVC.mp4', 'blank', 'S_yt-omUwZYZrWy0_375.mp4', 'S_yt-SvCjZ59S9wk_211.mp4', 'S_yt-F3B1i_Yt8_o_20.mp4', 'S_wc-3IayTPy_A3nF_17.mp4', 'S_KP_A010_C002_SDR_20190717_SDR_2K_AVC.mp4', 'S_yt-x0MCtNEv_Ew_35.mp4', 'S_I003_C008_SDR_2K_AVC.mp4', 'S_video_inspire_alabama_montgomery_countryside_00007.1080-h264.mp4', 'S_G008_C015_UHD_SDR_2K_AVC.mp4', 'blank', 'S_ILSVRC2015_train_00418000.mp4', 'S_yt-JizcV7kYuqM_132.mp4', 'S_yt-MIDWkOZcQUs_72.mp4', 'S_yt-PMx2hhCk2d8_13.mp4', 'S_comp_L012_c002_PS_v01_SDR_PS_20180925_SDR_2K_AVC.mp4', 'S_yt-w7dXHLrfZI4_223.mp4', 'S_ILSVRC2015_train_00516000.mp4', 'S_BO_A014_C023_SDR_20190717_F240F3709_SDR_2K_AVC.mp4', 'blank', 'S_yt-J4Ci5b3z4fo_4.mp4', 'S_comp_H004_C007_PS_v02_SDR_PS_20180925_SDR_2K_AVC.mp4', 'S_yt-r5kRl-2lVxc_2.mp4', 'S_yt-q8mfIumbHuo_84.mp4', 'blank', 'blank', 'S_yt-dLTag3L1w94_566.mp4']}}\n",
      " \n",
      "/Users/shufanzhang/Documents/PhD/Arrow_of_time/arrow_of_time_spinoza/aot/data/experiment/settings/pilot/experiment_settings_task_80_run_01.yml w\n",
      "{'stimuli': {'movie_files': ['S_g201_TH_804_A001_8_SDR_20191031_SDR_2K_AVC.mp4', 'S_yt-q8mfIumbHuo_84.mp4', 'blank', 'S_yt-J4Ci5b3z4fo_4.mp4', 'S_video_inspire_oregon_lone-ranch-beach_00001.1080-h264.mp4', 'S_yt-cILZ_cB3_so_73.mp4', 'S_yt-BeF1BUrjY_8_117.mp4', 'S_yt-e9ttJw0BUuU_40.mp4', 'S_yt-zRkzk1Y1eoU_50.mp4', 'S_yt-A-RhzHTz38g_21.mp4', 'S_yt-GpVFUM8K0yE_68.mp4', 'S_yt-RL1chIcbTPQ_11.mp4', 'S_yt-E2Klz_wBAf8_285.mp4', 'S_ILSVRC2015_train_00247001.mp4', 'S_yt-x0MCtNEv_Ew_35.mp4', 'S_BO_A014_C023_SDR_20190717_F240F3709_SDR_2K_AVC.mp4', 'S_yt-tDRPy0Rj6AU_141.mp4', 'S_yt-5C0_rps3vyM_22.mp4', 'S_yt-Bejo5TLEpg4_36.mp4', 'S_comp_GMT329_117NC_401C_1037_IRELAND_TO_ASIA_v48_SDR_PS_FINAL_20180725_F0F6300_SDR_2K_AVC.mp4', 'blank', 'S_ILSVRC2015_train_00750000.mp4', 'S_wc-3IayTPy_A3nF_17.mp4', 'blank', 'S_wc-DVD7mCf3fqw1_2.mp4', 'S_yt-mWL9DHq4eRI_501.mp4', 'S_yt-Sz5GUMVi46A_1.mp4', 'blank', 'blank', 'S_yt-nA-1mD3ky2c_37.mp4', 'blank', 'blank', 'S_comp_H007_C003_PS_v01_SDR_PS_20180925_SDR_2K_AVC.mp4', 'S_yt-I2n2eo2zoZs_133.mp4', 'S_KP_A010_C002_SDR_20190717_SDR_2K_AVC.mp4', 'S_comp_A103_C002_0205DG_v12_SDR_FINAL_20180706_SDR_2K_AVC.mp4', 'S_PA_A010_C007_SDR_20190717_SDR_2K_AVC.mp4', 'S_yt-o96A55Szxkc_982.mp4', 'blank', 'S_yt-F3B1i_Yt8_o_20.mp4', 'S_yt-pB-AcJ71tzA_20.mp4', 'S_yt-JizcV7kYuqM_132.mp4', 'blank', 'S_yt-147vePB5Arc_15.mp4', 'S_b1-3.mp4', 'blank', 'S_comp_A013_C012_0122D6_CC_v01_SDR_PS_FINAL_20180709_SDR_2K_AVC.mp4', 'S_yt-GigCK1Gssew_185.mp4', 'S_video_inspire_alabama_montgomery_countryside_00007.1080-h264.mp4', 'S_yt-L7UKVgSr0c8_198.mp4', 'S_yt-49utbRVtx1U_16.mp4', 'S_comp_GMT026_363A_103NC_E1027_KOREA_JAPAN_NIGHT_v18_SDR_PS_20180907_SDR_2K_AVC.mp4', 'S_S003_C020_SDR_2K_AVC.mp4', 'S_G010_C026_UHD_SDR_v02_2K_AVC.mp4', 'S_ILSVRC2015_train_00555002.mp4', 'S_yt-r5kRl-2lVxc_2.mp4', 'S_ILSVRC2015_train_00415001.mp4', 'S_yt-Lbv4qHp0RO0_14.mp4', 'S_yt-cu4AVz6o2eg_24.mp4', 'blank', 'S_yt-dLTag3L1w94_566.mp4', 'blank', 'S_yt-ZynGxEtFNdk_243.mp4', 'S_comp_GMT329_113NC_396B_1105_ITALY_v03_SDR_FINAL_20180706_SDR_2K_AVC.mp4', 'S_yt-JWedZ-zeqgQ_52.mp4', 'S_ILSVRC2015_train_00418000.mp4', 'blank', 'S_yt-SvCjZ59S9wk_211.mp4', 'blank', 'S_yt-MIDWkOZcQUs_72.mp4', 'S_comp_L012_c002_PS_v01_SDR_PS_20180925_SDR_2K_AVC.mp4', 'S_video_inspire_california_vineyard_sierra-mar_sunrise_110.1080-h264.mp4', 'S_yt-vMnSbsjGK9k_62.mp4', 'S_yt-omUwZYZrWy0_375.mp4', 'S_ILSVRC2015_train_00516000.mp4', 'S_G008_C015_UHD_SDR_2K_AVC.mp4', 'blank', 'S_comp_A001_C001_120530_v04_SDR_FINAL_20180706_SDR_2K_AVC.mp4', 'S_comp_H004_C007_PS_v02_SDR_PS_20180925_SDR_2K_AVC.mp4', 'S_Y011_C008_SDR_2K_AVC.mp4', 'S_yt-0qWYjx341mc_7.mp4', 'blank', 'S_yt-qlR-TG7veA4_17.mp4', 'S_comp_GL_G004_C010_PSNK_v04_SDR_PS_FINAL_20180709_SDR_2K_AVC.mp4', 'S_yt-mOQJwaPQbMg_5.mp4', 'blank', 'S_video_inspire_sanfrancisco_castro_005.1080-h264.mp4', 'S_yt-FDMROdv8N0A_118.mp4', 'S_yt-IdhdCU1HQ30_50.mp4', 'S_yt-w7dXHLrfZI4_223.mp4', 'S_SAiA2MWgCWE_5.mp4', 'S_I003_C008_SDR_2K_AVC.mp4', 'blank', 'S_yt-djFogwgoaEk_94.mp4', 'S_yt-ChAhBD9LrsU_223.mp4', 'S_yt-KC6I552mXwM_6.mp4', 'S_yt-A1XT1fT1c8w_24.mp4', 'blank', 'blank', 'S_yt-YWfInCviN1s_126.mp4']}}\n",
      " \n",
      "/Users/shufanzhang/Documents/PhD/Arrow_of_time/arrow_of_time_spinoza/aot/data/experiment/settings/pilot/experiment_settings_task_80_run_02.yml w\n",
      "{'stimuli': {'movie_files': ['S_yt-q8mfIumbHuo_84.mp4', 'blank', 'S_yt-0qWYjx341mc_7.mp4', 'S_ILSVRC2015_train_00750000.mp4', 'S_yt-F3B1i_Yt8_o_20.mp4', 'S_yt-mOQJwaPQbMg_5.mp4', 'S_Y011_C008_SDR_2K_AVC.mp4', 'S_ILSVRC2015_train_00418000.mp4', 'S_b1-3.mp4', 'S_yt-E2Klz_wBAf8_285.mp4', 'S_yt-x0MCtNEv_Ew_35.mp4', 'S_ILSVRC2015_train_00415001.mp4', 'S_yt-SvCjZ59S9wk_211.mp4', 'S_yt-A-RhzHTz38g_21.mp4', 'S_yt-I2n2eo2zoZs_133.mp4', 'S_yt-vMnSbsjGK9k_62.mp4', 'S_yt-Sz5GUMVi46A_1.mp4', 'S_PA_A010_C007_SDR_20190717_SDR_2K_AVC.mp4', 'S_BO_A014_C023_SDR_20190717_F240F3709_SDR_2K_AVC.mp4', 'S_comp_GMT329_113NC_396B_1105_ITALY_v03_SDR_FINAL_20180706_SDR_2K_AVC.mp4', 'S_yt-Lbv4qHp0RO0_14.mp4', 'blank', 'S_yt-ZynGxEtFNdk_243.mp4', 'S_I003_C008_SDR_2K_AVC.mp4', 'S_comp_A103_C002_0205DG_v12_SDR_FINAL_20180706_SDR_2K_AVC.mp4', 'S_yt-o96A55Szxkc_982.mp4', 'S_yt-tDRPy0Rj6AU_141.mp4', 'S_yt-FDMROdv8N0A_118.mp4', 'blank', 'S_S003_C020_SDR_2K_AVC.mp4', 'S_yt-omUwZYZrWy0_375.mp4', 'S_yt-nA-1mD3ky2c_37.mp4', 'S_KP_A010_C002_SDR_20190717_SDR_2K_AVC.mp4', 'S_SAiA2MWgCWE_5.mp4', 'blank', 'blank', 'S_yt-KC6I552mXwM_6.mp4', 'S_yt-MIDWkOZcQUs_72.mp4', 'blank', 'S_yt-cu4AVz6o2eg_24.mp4', 'S_yt-w7dXHLrfZI4_223.mp4', 'blank', 'S_yt-dLTag3L1w94_566.mp4', 'S_yt-A1XT1fT1c8w_24.mp4', 'S_yt-YWfInCviN1s_126.mp4', 'blank', 'S_ILSVRC2015_train_00555002.mp4', 'S_comp_A001_C001_120530_v04_SDR_FINAL_20180706_SDR_2K_AVC.mp4', 'S_G010_C026_UHD_SDR_v02_2K_AVC.mp4', 'blank', 'S_video_inspire_california_vineyard_sierra-mar_sunrise_110.1080-h264.mp4', 'S_wc-DVD7mCf3fqw1_2.mp4', 'blank', 'S_yt-RL1chIcbTPQ_11.mp4', 'S_comp_GMT329_117NC_401C_1037_IRELAND_TO_ASIA_v48_SDR_PS_FINAL_20180725_F0F6300_SDR_2K_AVC.mp4', 'S_yt-djFogwgoaEk_94.mp4', 'S_yt-zRkzk1Y1eoU_50.mp4', 'blank', 'S_video_inspire_alabama_montgomery_countryside_00007.1080-h264.mp4', 'S_yt-GigCK1Gssew_185.mp4', 'blank', 'S_yt-JizcV7kYuqM_132.mp4', 'S_yt-147vePB5Arc_15.mp4', 'S_yt-Bejo5TLEpg4_36.mp4', 'S_comp_L012_c002_PS_v01_SDR_PS_20180925_SDR_2K_AVC.mp4', 'S_video_inspire_sanfrancisco_castro_005.1080-h264.mp4', 'S_comp_GMT026_363A_103NC_E1027_KOREA_JAPAN_NIGHT_v18_SDR_PS_20180907_SDR_2K_AVC.mp4', 'S_yt-mWL9DHq4eRI_501.mp4', 'S_comp_A013_C012_0122D6_CC_v01_SDR_PS_FINAL_20180709_SDR_2K_AVC.mp4', 'S_comp_GL_G004_C010_PSNK_v04_SDR_PS_FINAL_20180709_SDR_2K_AVC.mp4', 'S_wc-3IayTPy_A3nF_17.mp4', 'S_yt-qlR-TG7veA4_17.mp4', 'S_yt-r5kRl-2lVxc_2.mp4', 'blank', 'S_yt-ChAhBD9LrsU_223.mp4', 'S_yt-IdhdCU1HQ30_50.mp4', 'S_yt-JWedZ-zeqgQ_52.mp4', 'blank', 'S_yt-cILZ_cB3_so_73.mp4', 'S_G008_C015_UHD_SDR_2K_AVC.mp4', 'blank', 'S_yt-GpVFUM8K0yE_68.mp4', 'S_video_inspire_oregon_lone-ranch-beach_00001.1080-h264.mp4', 'blank', 'S_yt-pB-AcJ71tzA_20.mp4', 'S_yt-5C0_rps3vyM_22.mp4', 'S_yt-e9ttJw0BUuU_40.mp4', 'S_yt-49utbRVtx1U_16.mp4', 'S_yt-L7UKVgSr0c8_198.mp4', 'blank', 'blank', 'S_ILSVRC2015_train_00247001.mp4', 'S_comp_H007_C003_PS_v01_SDR_PS_20180925_SDR_2K_AVC.mp4', 'S_yt-J4Ci5b3z4fo_4.mp4', 'S_g201_TH_804_A001_8_SDR_20191031_SDR_2K_AVC.mp4', 'blank', 'blank', 'S_ILSVRC2015_train_00516000.mp4', 'S_comp_H004_C007_PS_v02_SDR_PS_20180925_SDR_2K_AVC.mp4', 'S_yt-BeF1BUrjY_8_117.mp4']}}\n",
      " \n",
      "/Users/shufanzhang/Documents/PhD/Arrow_of_time/arrow_of_time_spinoza/aot/data/experiment/settings/pilot/experiment_settings_task_72_run_01.yml w\n",
      "{'stimuli': {'movie_files': ['S_yt-pB-AcJ71tzA_20.mp4', 'S_yt-JWedZ-zeqgQ_52.mp4', 'S_yt-mOQJwaPQbMg_5.mp4', 'S_G008_C015_UHD_SDR_2K_AVC.mp4', 'blank', 'S_yt-BeF1BUrjY_8_117.mp4', 'S_ILSVRC2015_train_00555002.mp4', 'S_video_inspire_california_vineyard_sierra-mar_sunrise_110.1080-h264.mp4', 'blank', 'S_yt-ZynGxEtFNdk_243.mp4', 'S_comp_GMT026_363A_103NC_E1027_KOREA_JAPAN_NIGHT_v18_SDR_PS_20180907_SDR_2K_AVC.mp4', 'blank', 'S_yt-qlR-TG7veA4_17.mp4', 'S_comp_H004_C007_PS_v02_SDR_PS_20180925_SDR_2K_AVC.mp4', 'S_yt-J4Ci5b3z4fo_4.mp4', 'S_video_inspire_alabama_montgomery_countryside_00007.1080-h264.mp4', 'blank', 'S_yt-147vePB5Arc_15.mp4', 'S_g201_TH_804_A001_8_SDR_20191031_SDR_2K_AVC.mp4', 'blank', 'S_yt-RL1chIcbTPQ_11.mp4', 'S_comp_A013_C012_0122D6_CC_v01_SDR_PS_FINAL_20180709_SDR_2K_AVC.mp4', 'S_yt-mWL9DHq4eRI_501.mp4', 'S_yt-omUwZYZrWy0_375.mp4', 'S_yt-SvCjZ59S9wk_211.mp4', 'S_BO_A014_C023_SDR_20190717_F240F3709_SDR_2K_AVC.mp4', 'S_yt-dLTag3L1w94_566.mp4', 'S_wc-3IayTPy_A3nF_17.mp4', 'blank', 'S_yt-djFogwgoaEk_94.mp4', 'S_yt-IdhdCU1HQ30_50.mp4', 'S_S003_C020_SDR_2K_AVC.mp4', 'S_yt-w7dXHLrfZI4_223.mp4', 'S_ILSVRC2015_train_00247001.mp4', 'S_yt-YWfInCviN1s_126.mp4', 'S_yt-KC6I552mXwM_6.mp4', 'S_yt-49utbRVtx1U_16.mp4', 'S_yt-A-RhzHTz38g_21.mp4', 'S_wc-DVD7mCf3fqw1_2.mp4', 'S_comp_H007_C003_PS_v01_SDR_PS_20180925_SDR_2K_AVC.mp4', 'S_yt-Bejo5TLEpg4_36.mp4', 'S_yt-GigCK1Gssew_185.mp4', 'S_comp_A103_C002_0205DG_v12_SDR_FINAL_20180706_SDR_2K_AVC.mp4', 'S_G010_C026_UHD_SDR_v02_2K_AVC.mp4', 'blank', 'S_yt-vMnSbsjGK9k_62.mp4', 'S_Y011_C008_SDR_2K_AVC.mp4', 'S_yt-e9ttJw0BUuU_40.mp4', 'S_yt-ChAhBD9LrsU_223.mp4', 'S_comp_GL_G004_C010_PSNK_v04_SDR_PS_FINAL_20180709_SDR_2K_AVC.mp4', 'S_yt-zRkzk1Y1eoU_50.mp4', 'blank', 'S_yt-q8mfIumbHuo_84.mp4', 'S_yt-GpVFUM8K0yE_68.mp4', 'S_yt-5C0_rps3vyM_22.mp4', 'blank', 'blank', 'blank', 'S_ILSVRC2015_train_00418000.mp4', 'S_yt-I2n2eo2zoZs_133.mp4', 'S_yt-Lbv4qHp0RO0_14.mp4', 'blank', 'S_yt-E2Klz_wBAf8_285.mp4', 'S_ILSVRC2015_train_00516000.mp4', 'blank', 'S_comp_A001_C001_120530_v04_SDR_FINAL_20180706_SDR_2K_AVC.mp4', 'S_yt-o96A55Szxkc_982.mp4', 'blank', 'S_SAiA2MWgCWE_5.mp4', 'S_b1-3.mp4', 'S_yt-0qWYjx341mc_7.mp4', 'blank', 'S_comp_GMT329_113NC_396B_1105_ITALY_v03_SDR_FINAL_20180706_SDR_2K_AVC.mp4', 'S_yt-cu4AVz6o2eg_24.mp4', 'blank', 'S_yt-tDRPy0Rj6AU_141.mp4', 'S_yt-F3B1i_Yt8_o_20.mp4', 'S_video_inspire_sanfrancisco_castro_005.1080-h264.mp4', 'S_yt-cILZ_cB3_so_73.mp4', 'S_ILSVRC2015_train_00415001.mp4', 'S_comp_GMT329_117NC_401C_1037_IRELAND_TO_ASIA_v48_SDR_PS_FINAL_20180725_F0F6300_SDR_2K_AVC.mp4', 'blank', 'S_yt-FDMROdv8N0A_118.mp4', 'S_KP_A010_C002_SDR_20190717_SDR_2K_AVC.mp4', 'blank', 'blank', 'S_yt-L7UKVgSr0c8_198.mp4', 'S_yt-x0MCtNEv_Ew_35.mp4', 'S_ILSVRC2015_train_00750000.mp4', 'S_I003_C008_SDR_2K_AVC.mp4', 'blank', 'S_yt-nA-1mD3ky2c_37.mp4']}}\n",
      " \n",
      "/Users/shufanzhang/Documents/PhD/Arrow_of_time/arrow_of_time_spinoza/aot/data/experiment/settings/pilot/experiment_settings_task_72_run_02.yml w\n",
      "{'stimuli': {'movie_files': ['S_yt-A-RhzHTz38g_21.mp4', 'S_S003_C020_SDR_2K_AVC.mp4', 'S_comp_A001_C001_120530_v04_SDR_FINAL_20180706_SDR_2K_AVC.mp4', 'S_wc-DVD7mCf3fqw1_2.mp4', 'S_yt-djFogwgoaEk_94.mp4', 'S_yt-w7dXHLrfZI4_223.mp4', 'S_yt-e9ttJw0BUuU_40.mp4', 'blank', 'blank', 'S_yt-JWedZ-zeqgQ_52.mp4', 'S_yt-ZynGxEtFNdk_243.mp4', 'S_comp_GMT329_113NC_396B_1105_ITALY_v03_SDR_FINAL_20180706_SDR_2K_AVC.mp4', 'blank', 'S_yt-vMnSbsjGK9k_62.mp4', 'S_yt-L7UKVgSr0c8_198.mp4', 'S_yt-GigCK1Gssew_185.mp4', 'blank', 'S_yt-FDMROdv8N0A_118.mp4', 'S_video_inspire_sanfrancisco_castro_005.1080-h264.mp4', 'S_KP_A010_C002_SDR_20190717_SDR_2K_AVC.mp4', 'S_wc-3IayTPy_A3nF_17.mp4', 'S_yt-dLTag3L1w94_566.mp4', 'S_yt-mWL9DHq4eRI_501.mp4', 'S_yt-Bejo5TLEpg4_36.mp4', 'blank', 'S_yt-J4Ci5b3z4fo_4.mp4', 'S_comp_H004_C007_PS_v02_SDR_PS_20180925_SDR_2K_AVC.mp4', 'S_BO_A014_C023_SDR_20190717_F240F3709_SDR_2K_AVC.mp4', 'S_G008_C015_UHD_SDR_2K_AVC.mp4', 'S_comp_GMT329_117NC_401C_1037_IRELAND_TO_ASIA_v48_SDR_PS_FINAL_20180725_F0F6300_SDR_2K_AVC.mp4', 'S_yt-nA-1mD3ky2c_37.mp4', 'S_comp_A103_C002_0205DG_v12_SDR_FINAL_20180706_SDR_2K_AVC.mp4', 'S_yt-q8mfIumbHuo_84.mp4', 'S_yt-o96A55Szxkc_982.mp4', 'S_yt-F3B1i_Yt8_o_20.mp4', 'blank', 'S_video_inspire_alabama_montgomery_countryside_00007.1080-h264.mp4', 'blank', 'S_yt-omUwZYZrWy0_375.mp4', 'S_yt-qlR-TG7veA4_17.mp4', 'blank', 'blank', 'blank', 'blank', 'S_yt-0qWYjx341mc_7.mp4', 'S_SAiA2MWgCWE_5.mp4', 'S_yt-IdhdCU1HQ30_50.mp4', 'S_ILSVRC2015_train_00555002.mp4', 'S_yt-RL1chIcbTPQ_11.mp4', 'S_yt-SvCjZ59S9wk_211.mp4', 'S_yt-5C0_rps3vyM_22.mp4', 'blank', 'S_yt-I2n2eo2zoZs_133.mp4', 'blank', 'S_yt-BeF1BUrjY_8_117.mp4', 'blank', 'S_ILSVRC2015_train_00418000.mp4', 'S_I003_C008_SDR_2K_AVC.mp4', 'S_yt-mOQJwaPQbMg_5.mp4', 'S_yt-tDRPy0Rj6AU_141.mp4', 'blank', 'S_yt-ChAhBD9LrsU_223.mp4', 'S_yt-zRkzk1Y1eoU_50.mp4', 'S_b1-3.mp4', 'S_yt-147vePB5Arc_15.mp4', 'blank', 'S_yt-49utbRVtx1U_16.mp4', 'S_comp_A013_C012_0122D6_CC_v01_SDR_PS_FINAL_20180709_SDR_2K_AVC.mp4', 'S_yt-Lbv4qHp0RO0_14.mp4', 'S_ILSVRC2015_train_00247001.mp4', 'S_yt-GpVFUM8K0yE_68.mp4', 'S_yt-KC6I552mXwM_6.mp4', 'S_comp_GL_G004_C010_PSNK_v04_SDR_PS_FINAL_20180709_SDR_2K_AVC.mp4', 'S_ILSVRC2015_train_00516000.mp4', 'S_comp_GMT026_363A_103NC_E1027_KOREA_JAPAN_NIGHT_v18_SDR_PS_20180907_SDR_2K_AVC.mp4', 'S_yt-x0MCtNEv_Ew_35.mp4', 'blank', 'S_yt-pB-AcJ71tzA_20.mp4', 'S_comp_H007_C003_PS_v01_SDR_PS_20180925_SDR_2K_AVC.mp4', 'S_yt-cu4AVz6o2eg_24.mp4', 'S_Y011_C008_SDR_2K_AVC.mp4', 'S_g201_TH_804_A001_8_SDR_20191031_SDR_2K_AVC.mp4', 'blank', 'S_G010_C026_UHD_SDR_v02_2K_AVC.mp4', 'blank', 'S_ILSVRC2015_train_00750000.mp4', 'S_yt-cILZ_cB3_so_73.mp4', 'S_yt-E2Klz_wBAf8_285.mp4', 'S_video_inspire_california_vineyard_sierra-mar_sunrise_110.1080-h264.mp4', 'blank', 'S_ILSVRC2015_train_00415001.mp4', 'S_yt-YWfInCviN1s_126.mp4']}}\n",
      " \n"
     ]
    }
   ],
   "source": [
    "make_pilot_session(90,task90_videos,task90_blank_number)\n",
    "make_pilot_session(80,task80_videos,task80_blank_number)\n",
    "make_pilot_session(72,task72_videos,task72_blank_number) # 72 movies, 20 blanks but 72/20 = 3.6 there is a problem"
   ]
  }
 ],
 "metadata": {
  "kernelspec": {
   "display_name": "base",
   "language": "python",
   "name": "python3"
  },
  "language_info": {
   "codemirror_mode": {
    "name": "ipython",
    "version": 3
   },
   "file_extension": ".py",
   "mimetype": "text/x-python",
   "name": "python",
   "nbconvert_exporter": "python",
   "pygments_lexer": "ipython3",
   "version": "3.9.12"
  },
  "orig_nbformat": 4
 },
 "nbformat": 4,
 "nbformat_minor": 2
}
