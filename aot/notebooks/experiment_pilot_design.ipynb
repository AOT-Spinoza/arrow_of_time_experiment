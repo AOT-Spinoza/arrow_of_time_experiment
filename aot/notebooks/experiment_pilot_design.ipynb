{
 "cells": [
  {
   "cell_type": "code",
   "execution_count": 1,
   "metadata": {},
   "outputs": [],
   "source": [
    "import os\n",
    "import pandas as pd\n",
    "import yaml\n",
    "import copy\n",
    "import random\n",
    "from pathlib import Path\n",
    "import matplotlib.pyplot as plt\n",
    "\n",
    "import aot"
   ]
  },
  {
   "cell_type": "code",
   "execution_count": 2,
   "metadata": {},
   "outputs": [],
   "source": [
    "base_dir = Path(aot.__path__[0])\n",
    "core_expt_yaml_path = base_dir / \"experiment/core_exp_settings.yml\"\n",
    "stimuli_temp_path = base_dir / \"experiment/stimuli_settings_temp.yml\"\n",
    "core_settings = yaml.load(open(core_expt_yaml_path), Loader=yaml.FullLoader)\n",
    "stimuli_settings_temp = yaml.load(open(stimuli_temp_path), Loader=yaml.FullLoader)  \n",
    "\n",
    "settings_root_path = base_dir / core_settings[\"paths\"][\"settings_path\"] \n",
    "video_db_path = base_dir / 'data/videos/database_originals.tsv'\n",
    "video_db = pd.read_csv(video_db_path, sep='\\t')"
   ]
  },
  {
   "cell_type": "code",
   "execution_count": 3,
   "metadata": {},
   "outputs": [],
   "source": [
    "task90_movie_number = 90\n",
    "task90_blank_number = 15\n",
    "task80_movie_number = 80\n",
    "task80_blank_number = 20\n",
    "task72_movie_number = 72\n",
    "task72_blank_number = 20"
   ]
  },
  {
   "cell_type": "code",
   "execution_count": null,
   "metadata": {},
   "outputs": [],
   "source": [
    "videos_names = []\n",
    "for i in range(1, len(video_db)):\n",
    "    if video_db['grade'][i] != 'j' and video_db['grade'][i] != 'NA':\n",
    "        videos_names.append(video_db['video_name'][i])\n",
    "print(\"videos number: \", len(videos_names))\n",
    "\n",
    "origin_videos_number = len(videos_names)"
   ]
  },
  {
   "cell_type": "code",
   "execution_count": null,
   "metadata": {},
   "outputs": [],
   "source": [
    "random.shuffle(videos_names)\n",
    "task90_videos = videos_names[:task90_movie_number]\n",
    "task80_videos = videos_names[:task80_movie_number]\n",
    "task72_videos = videos_names[:task72_movie_number]"
   ]
  },
  {
   "cell_type": "code",
   "execution_count": null,
   "metadata": {},
   "outputs": [],
   "source": [
    "def make_pilot_session(task_number,task_videos,blank_number):\n",
    "    def make_pilot_run(run_number,task_videos,blank_number):\n",
    "        videos = copy.deepcopy(task_videos)\n",
    "        settings = copy.deepcopy(stimuli_settings_temp)\n",
    "        random.shuffle(videos)\n",
    "        settings[\"stimuli\"][\"videos\"] = videos\n",
    "        movie_number_per_run = int(len(videos)/blank_number)\n",
    "        for i in range(1,blank_number+1):\n",
    "            settings[\"stimuli\"][\"videos\"].insert(movie_number_per_run*i, \"blank\")\n",
    "\n",
    "        with open(\n",
    "            str(settings_root_path)\n",
    "            + \"/\"\n",
    "            + \"pilot\"\n",
    "            + \"/experiment_settings_\"\n",
    "            + str(task_number).zfill(2)\n",
    "            + \"_run_\"\n",
    "            + str(run_number).zfill(2)\n",
    "            + \".yml\",\n",
    "            \"w\",\n",
    "        ) as outfile:\n",
    "            print(\n",
    "                str(settings_root_path)\n",
    "                + \"/\"\n",
    "                + \"pilot\"\n",
    "                + \"/experiment_settings_\"\n",
    "                + str(task_number).zfill(2)\n",
    "                + \"_run_\"\n",
    "                + str(run_number).zfill(2)\n",
    "                + \".yml\",\n",
    "                \"w\",\n",
    "            )\n",
    "            print(settings)\n",
    "            print(\" \")\n",
    "            yaml.dump(settings, outfile, default_flow_style=False)\n",
    "        return settings\n",
    "\n",
    "    run1_settings = make_pilot_run(1,task_videos,blank_number)\n",
    "    run2_settings = make_pilot_run(2,task_videos,blank_number)\n"
   ]
  },
  {
   "cell_type": "code",
   "execution_count": null,
   "metadata": {},
   "outputs": [],
   "source": [
    "make_pilot_session(90,task90_videos,task90_blank_number)\n",
    "make_pilot_session(80,task80_videos,task80_blank_number)\n",
    "make_pilot_session(72,task72_videos,task72_blank_number)"
   ]
  }
 ],
 "metadata": {
  "kernelspec": {
   "display_name": "base",
   "language": "python",
   "name": "python3"
  },
  "language_info": {
   "codemirror_mode": {
    "name": "ipython",
    "version": 3
   },
   "file_extension": ".py",
   "mimetype": "text/x-python",
   "name": "python",
   "nbconvert_exporter": "python",
   "pygments_lexer": "ipython3",
   "version": "3.9.12"
  },
  "orig_nbformat": 4
 },
 "nbformat": 4,
 "nbformat_minor": 2
}
