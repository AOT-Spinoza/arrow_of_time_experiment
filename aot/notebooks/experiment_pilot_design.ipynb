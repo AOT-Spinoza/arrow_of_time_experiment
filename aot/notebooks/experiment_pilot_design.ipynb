{
 "cells": [
  {
   "cell_type": "code",
   "execution_count": 1,
   "metadata": {},
   "outputs": [],
   "source": [
    "import os\n",
    "import pandas as pd\n",
    "import yaml\n",
    "import copy\n",
    "import random\n",
    "from pathlib import Path\n",
    "import matplotlib.pyplot as plt\n",
    "\n",
    "import aot"
   ]
  },
  {
   "cell_type": "code",
   "execution_count": 2,
   "metadata": {},
   "outputs": [],
   "source": [
    "base_dir = Path(aot.__path__[0])\n",
    "core_expt_yaml_path = base_dir / \"experiment/core_exp_settings.yml\"\n",
    "stimuli_temp_path = base_dir / \"experiment/stimuli_settings_temp.yml\"\n",
    "core_settings = yaml.load(open(core_expt_yaml_path), Loader=yaml.FullLoader)\n",
    "stimuli_settings_temp = yaml.load(open(stimuli_temp_path), Loader=yaml.FullLoader)  \n",
    "\n",
    "settings_root_path = base_dir / core_settings[\"paths\"][\"settings_path\"] \n",
    "video_db_path = base_dir / 'data/videos/database_originals.tsv'\n",
    "video_db = pd.read_csv(video_db_path, sep='\\t')"
   ]
  },
  {
   "cell_type": "code",
   "execution_count": 3,
   "metadata": {},
   "outputs": [],
   "source": [
    "task90_movie_number = 90\n",
    "task90_blank_number = 15\n",
    "task80_movie_number = 80\n",
    "task80_blank_number = 20\n",
    "task72_movie_number = 72\n",
    "task72_blank_number = 20"
   ]
  },
  {
   "cell_type": "code",
   "execution_count": 4,
   "metadata": {},
   "outputs": [
    {
     "name": "stdout",
     "output_type": "stream",
     "text": [
      "videos number:  528\n"
     ]
    }
   ],
   "source": [
    "videos_names = []\n",
    "for i in range(1, len(video_db)):\n",
    "    if video_db['grade'][i] != 'j' and video_db['grade'][i] != 'NA':\n",
    "        videos_names.append(video_db['video_name'][i])\n",
    "print(\"videos number: \", len(videos_names))\n",
    "\n",
    "origin_videos_number = len(videos_names)"
   ]
  },
  {
   "cell_type": "code",
   "execution_count": 5,
   "metadata": {},
   "outputs": [],
   "source": [
    "random.shuffle(videos_names)\n",
    "task90_videos = videos_names[:task90_movie_number]\n",
    "task80_videos = videos_names[:task80_movie_number]\n",
    "task72_videos = videos_names[:task72_movie_number]"
   ]
  },
  {
   "cell_type": "code",
   "execution_count": 6,
   "metadata": {},
   "outputs": [],
   "source": [
    "def make_pilot_session(task_number,task_videos,blank_number):\n",
    "    def distribute(videos,blank_number,type='random'):\n",
    "        if type == 'random':\n",
    "            playlist = videos+['blank']*blank_number\n",
    "            random.shuffle(playlist)\n",
    "            return playlist\n",
    "        elif type == 'uniform':\n",
    "            movie_number_per_blank = int(len(videos)/blank_number)\n",
    "            for i in range(blank_number):\n",
    "                videos.insert((i+1)*movie_number_per_blank+i,\"blank\")\n",
    "            return videos\n",
    "    \n",
    "    def make_pilot_run(run_number,task_videos,blank_number):\n",
    "        videos = copy.deepcopy(task_videos)\n",
    "        #add S_ and R_S_ to the video names with 0.5 probability for each one\n",
    "        for i in range(len(videos)):\n",
    "            if random.random() < 0.5:\n",
    "                videos[i] = 'S_' + videos[i]\n",
    "            else:\n",
    "                videos[i] = 'R_S_' + videos[i]\n",
    "        settings = copy.deepcopy(stimuli_settings_temp)\n",
    "        random.shuffle(videos)\n",
    "        settings[\"stimuli\"][\"movie_files\"] = distribute(videos,blank_number)\n",
    "        '''\n",
    "        movie_number_per_blank = int(len(videos)/blank_number)\n",
    "        for i in range(blank_number):\n",
    "            settings['stimuli']['movie_files'].insert((i+1)*movie_number_per_blank+i,\"blank\")\n",
    "        '''\n",
    "        with open(\n",
    "            str(settings_root_path)\n",
    "            + \"/\"\n",
    "            + \"pilot\"\n",
    "            + \"/experiment_settings_\"\n",
    "            + \"task_\"\n",
    "            + str(task_number).zfill(2)\n",
    "            + \"_run_\"\n",
    "            + str(run_number).zfill(2)\n",
    "            + \".yml\",\n",
    "            \"w\",\n",
    "        ) as outfile:\n",
    "            print(\n",
    "                str(settings_root_path)\n",
    "                + \"/\"\n",
    "                + \"pilot\"\n",
    "                + \"/experiment_settings_\"\n",
    "                + \"task_\"\n",
    "                + str(task_number).zfill(2)\n",
    "                + \"_run_\"\n",
    "                + str(run_number).zfill(2)\n",
    "                + \".yml\",\n",
    "                \"w\",\n",
    "            )\n",
    "            print(settings)\n",
    "            print(\" \")\n",
    "            yaml.dump(settings, outfile, default_flow_style=False)\n",
    "        return settings\n",
    "\n",
    "    run1_settings = make_pilot_run(1,task_videos,blank_number)\n",
    "    run2_settings = make_pilot_run(2,task_videos,blank_number)\n"
   ]
  },
  {
   "cell_type": "code",
   "execution_count": 7,
   "metadata": {},
   "outputs": [
    {
     "name": "stdout",
     "output_type": "stream",
     "text": [
      "/tank/shared/2022/arrow_of_time/arrow_of_time/aot/data/experiment/settings/pilot/experiment_settings_task_90_run_01.yml w\n",
      "{'stimuli': {'movie_files': ['S_yt-T2CzKcU8pHo_17.mp4', 'blank', 'R_S_g201_AK_A003_C014_SDR_20191113_SDR_2K_AVC.mp4', 'R_S_comp_C001_C005_PS_v01_SDR_PS_20180925_SDR_2K_AVC.mp4', 'S_yt-CNqOVuIyWjA_18.mp4', 'S_yt-iuqdW5OLSzc_6.mp4', 'S_yt-cONX-OgVhHU_1821.mp4', 'blank', 'R_S_yt-U38nodRpSOA_54.mp4', 'blank', 'R_S_yt-g_LvosijBF0_54.mp4', 'S_wc-3IayTPy_A3nF_17.mp4', 'S_yt-yf4RdPKpSVc_44.mp4', 'S_comp_A114_C001_0305OT_v10_SDR_FINAL_22062018_SDR_2K_AVC.mp4', 'R_S_AWfiZJsMWQg_99.mp4', 'S_yt-_F8eDDKtvJ0_82.mp4', 'blank', 'S_g201_TH_803_A001_8_SDR_20191031_SDR_2K_AVC.mp4', 'blank', 'S_yt-lYhibsUW208_26.mp4', 'S_P001_C005_UHD_SDR_2K_AVC.mp4', 'R_S_yt-YxVIDs9oN50_3.mp4', 'R_S_yt-o96A55Szxkc_982.mp4', 'S_yt-6kzW30NcCOY_49.mp4', 'S_comp_DB_D011_C010_PSNK_DENOISE_v19_SDR_PS_20180914_SDR_2K_AVC.mp4', 'blank', 'blank', 'S_yt-D99Pp5JlUQI_47.mp4', 'S_ILSVRC2015_train_00560000.mp4', 'R_S_video_inspire_oregon_lone-ranch-beach_00021.1080-h264.mp4', 'S_PA_A004_C003_SDR_20190719_SDR_2K_AVC.mp4', 'S_I003_C008_SDR_2K_AVC.mp4', 'S_pexels-kampus-production-6022792_1.mp4', 'R_S_ddXFaMgWqAg_196.mp4', 'S_yt-P2RwcXMKIbQ_1.mp4', 'S_yt-sC9suzTl1Y0_22.mp4', 'R_S_yt-F3B1i_Yt8_o_20.mp4', 'R_S_8d08M6iP-vU_44.mp4', 'R_S_comp_GMT308_139K_142NC_CARIBBEAN_DAY_v09_SDR_FINAL_22062018_SDR_2K_AVC.mp4', 'S_comp_H012_C009_PS_v01_SDR_PS_20180925_SDR_2K_AVC.mp4', 'R_S_yt-fEIplXEqgCc_14.mp4', 'S_Y005_C003_SDR_2K_AVC.mp4', 'S_comp_GL_G004_C010_PSNK_v04_SDR_PS_FINAL_20180709_SDR_2K_AVC.mp4', 'S_yt-k4B_NtWn41Y_169.mp4', 'R_S_yt-cEvK2aS5ehU_8.mp4', 'S_yt-L7UKVgSr0c8_198.mp4', 'S_yt-GigCK1Gssew_185.mp4', 'S_yt-ePxv64kEqa0_177.mp4', 'S_video_inspire_california_big-sur_landscape_054.1080-h264.mp4', 'blank', 'R_S_yt-65cexqxy5lU_35.mp4', 'R_S_yt-fAWPQRcrXl0_38.mp4', 'R_S_pexels-rodnae-productions-5993237_1.mp4', 'R_S_comp_N003_C006_PS_v01_SDR_PS_20180925_SDR_2K_AVC.mp4', 'S_yt-nB2WgvYt7bA_170.mp4', 'S_yt-VgJZl9SddCQ_8.mp4', 'R_S_comp_A007_C017_01156B_v02_SDR_PS_20180925_SDR_2K_AVC.mp4', 'S_yt-nwa8jP9fa1Y_767.mp4', 'S_yt-q5Wp_yDLujU_108.mp4', 'R_S_yt-QOPuhPO1hkk_27.mp4', 'S_yt-ic9iGSfe1iA_3.mp4', 'S_Roller_Coaster.mp4', 'R_S_video_inspire_california_big-sur_bixby_005.1080-h264.mp4', 'S_yt-GBqXIFjZf8w_28.mp4', 'R_S_P006_C002_UHD_SDR_2K_AVC.mp4', 'R_S_ILSVRC2015_train_00418000.mp4', 'R_S_yt-TlNzKjxCIK4_970.mp4', 'S_g201_CA_A016_C002_SDR_20191114_SDR_2K_AVC.mp4', 'S_yt--RhNquKdM0M_1183.mp4', 'R_S_b8-2.mp4', 'R_S_yt-2ICWjxvgVYU_4.mp4', 'S_yt-hqp-Y6vAMeo_80.mp4', 'blank', 'R_S_yt-cWBQB8CxsVY_69.mp4', 'R_S_yt-vMnSbsjGK9k_62.mp4', 'R_S_comp_LA_A006_C004_v01_SDR_FINAL_PS_20180730_SDR_2K_AVC.mp4', 'R_S_yt-t9sowxGR_s4_1.mp4', 'blank', 'blank', 'S_yt-djFogwgoaEk_94.mp4', 'S_yt-Y32yFYRmNVU_22.mp4', 'blank', 'blank', 'R_S_yt-qOPJfTB1klY_1.mp4', 'S_yt-dLTag3L1w94_566.mp4', 'S_video_inspire_california_vineyard_sierra-mar_sunrise_110.1080-h264.mp4', 'blank', 'R_S_yt-DO1vncSoiJk_58.mp4', 'R_S_yt-oASqBTM-5fw_73.mp4', 'R_S_yt-e9ttJw0BUuU_40.mp4', 'R_S_yt-RnVxAv3aIoc_20.mp4', 'R_S_yt-nA-1mD3ky2c_37.mp4', 'S_yt-rNjnYLsk32k_1172.mp4', 'blank', 'S_yt-JxqSboqaUPY_5.mp4', 'S_comp_HK_H004_C001_PSNK_DENOISE_v14_SDR_PS_FINAL_20180731_SDR_2K_AVC.mp4', 'S_yt--s2mcDTgwkc_65.mp4', 'R_S_PA_A001_C007_SDR_20190717_SDR_2K_AVC.mp4', 'S_b4-3.mp4', 'R_S_yt-SGIqAi-zDpM_19.mp4', 'S_yt-cu4AVz6o2eg_24.mp4', 'S_yt-Jcmf9XyBdMk_119.mp4', 'R_S_CR_A009_C007_SDR_20191113_SDR_2K_AVC.mp4', 'S_yt-2mjHDSH1Yvg_90.mp4', 'S_yt-DpLc4e4bpu0_1467.mp4']}}\n",
      " \n",
      "/tank/shared/2022/arrow_of_time/arrow_of_time/aot/data/experiment/settings/pilot/experiment_settings_task_90_run_02.yml w\n",
      "{'stimuli': {'movie_files': ['R_S_P001_C005_UHD_SDR_2K_AVC.mp4', 'blank', 'blank', 'R_S_g201_CA_A016_C002_SDR_20191114_SDR_2K_AVC.mp4', 'S_yt-t9sowxGR_s4_1.mp4', 'blank', 'S_yt-Y32yFYRmNVU_22.mp4', 'blank', 'R_S_yt-e9ttJw0BUuU_40.mp4', 'S_pexels-rodnae-productions-5993237_1.mp4', 'R_S_g201_TH_803_A001_8_SDR_20191031_SDR_2K_AVC.mp4', 'S_wc-3IayTPy_A3nF_17.mp4', 'R_S_comp_GL_G004_C010_PSNK_v04_SDR_PS_FINAL_20180709_SDR_2K_AVC.mp4', 'S_comp_A007_C017_01156B_v02_SDR_PS_20180925_SDR_2K_AVC.mp4', 'S_yt-rNjnYLsk32k_1172.mp4', 'S_8d08M6iP-vU_44.mp4', 'S_comp_N003_C006_PS_v01_SDR_PS_20180925_SDR_2K_AVC.mp4', 'blank', 'S_b8-2.mp4', 'R_S_yt-JxqSboqaUPY_5.mp4', 'R_S_yt-65cexqxy5lU_35.mp4', 'S_yt-D99Pp5JlUQI_47.mp4', 'S_yt-dLTag3L1w94_566.mp4', 'S_yt-2mjHDSH1Yvg_90.mp4', 'R_S_yt-g_LvosijBF0_54.mp4', 'R_S_yt-TlNzKjxCIK4_970.mp4', 'S_yt-T2CzKcU8pHo_17.mp4', 'S_yt-nwa8jP9fa1Y_767.mp4', 'S_ddXFaMgWqAg_196.mp4', 'R_S_Roller_Coaster.mp4', 'S_yt-ePxv64kEqa0_177.mp4', 'R_S_comp_HK_H004_C001_PSNK_DENOISE_v14_SDR_PS_FINAL_20180731_SDR_2K_AVC.mp4', 'blank', 'S_yt-nA-1mD3ky2c_37.mp4', 'S_video_inspire_california_vineyard_sierra-mar_sunrise_110.1080-h264.mp4', 'S_b4-3.mp4', 'R_S_yt-RnVxAv3aIoc_20.mp4', 'R_S_ILSVRC2015_train_00418000.mp4', 'R_S_yt-GBqXIFjZf8w_28.mp4', 'R_S_Y005_C003_SDR_2K_AVC.mp4', 'S_yt-GigCK1Gssew_185.mp4', 'S_comp_C001_C005_PS_v01_SDR_PS_20180925_SDR_2K_AVC.mp4', 'S_yt-oASqBTM-5fw_73.mp4', 'S_yt-QOPuhPO1hkk_27.mp4', 'S_yt-Jcmf9XyBdMk_119.mp4', 'S_CR_A009_C007_SDR_20191113_SDR_2K_AVC.mp4', 'R_S_yt-o96A55Szxkc_982.mp4', 'S_yt-cu4AVz6o2eg_24.mp4', 'R_S_comp_A114_C001_0305OT_v10_SDR_FINAL_22062018_SDR_2K_AVC.mp4', 'R_S_yt-djFogwgoaEk_94.mp4', 'S_comp_DB_D011_C010_PSNK_DENOISE_v19_SDR_PS_20180914_SDR_2K_AVC.mp4', 'R_S_yt-yf4RdPKpSVc_44.mp4', 'R_S_yt-lYhibsUW208_26.mp4', 'R_S_PA_A004_C003_SDR_20190719_SDR_2K_AVC.mp4', 'R_S_yt-2ICWjxvgVYU_4.mp4', 'blank', 'S_yt-L7UKVgSr0c8_198.mp4', 'S_yt-qOPJfTB1klY_1.mp4', 'R_S_video_inspire_california_big-sur_landscape_054.1080-h264.mp4', 'R_S_yt-SGIqAi-zDpM_19.mp4', 'S_yt-cWBQB8CxsVY_69.mp4', 'R_S_yt-nB2WgvYt7bA_170.mp4', 'R_S_yt-6kzW30NcCOY_49.mp4', 'R_S_P006_C002_UHD_SDR_2K_AVC.mp4', 'blank', 'S_yt-DO1vncSoiJk_58.mp4', 'R_S_yt-U38nodRpSOA_54.mp4', 'S_video_inspire_california_big-sur_bixby_005.1080-h264.mp4', 'blank', 'blank', 'R_S_video_inspire_oregon_lone-ranch-beach_00021.1080-h264.mp4', 'S_yt-P2RwcXMKIbQ_1.mp4', 'R_S_yt-VgJZl9SddCQ_8.mp4', 'R_S_yt-F3B1i_Yt8_o_20.mp4', 'R_S_yt-k4B_NtWn41Y_169.mp4', 'S_yt-hqp-Y6vAMeo_80.mp4', 'R_S_yt-sC9suzTl1Y0_22.mp4', 'S_comp_H012_C009_PS_v01_SDR_PS_20180925_SDR_2K_AVC.mp4', 'S_yt-vMnSbsjGK9k_62.mp4', 'R_S_PA_A001_C007_SDR_20190717_SDR_2K_AVC.mp4', 'S_yt-CNqOVuIyWjA_18.mp4', 'blank', 'S_comp_GMT308_139K_142NC_CARIBBEAN_DAY_v09_SDR_FINAL_22062018_SDR_2K_AVC.mp4', 'S_AWfiZJsMWQg_99.mp4', 'blank', 'R_S_yt-q5Wp_yDLujU_108.mp4', 'S_yt--s2mcDTgwkc_65.mp4', 'S_yt--RhNquKdM0M_1183.mp4', 'S_comp_LA_A006_C004_v01_SDR_FINAL_PS_20180730_SDR_2K_AVC.mp4', 'S_g201_AK_A003_C014_SDR_20191113_SDR_2K_AVC.mp4', 'S_yt-fEIplXEqgCc_14.mp4', 'R_S_yt-ic9iGSfe1iA_3.mp4', 'R_S_yt-DpLc4e4bpu0_1467.mp4', 'blank', 'S_yt-fAWPQRcrXl0_38.mp4', 'R_S_ILSVRC2015_train_00560000.mp4', 'R_S_yt-_F8eDDKtvJ0_82.mp4', 'R_S_I003_C008_SDR_2K_AVC.mp4', 'S_yt-iuqdW5OLSzc_6.mp4', 'R_S_yt-cEvK2aS5ehU_8.mp4', 'S_yt-YxVIDs9oN50_3.mp4', 'blank', 'S_yt-cONX-OgVhHU_1821.mp4', 'blank', 'R_S_pexels-kampus-production-6022792_1.mp4']}}\n",
      " \n",
      "/tank/shared/2022/arrow_of_time/arrow_of_time/aot/data/experiment/settings/pilot/experiment_settings_task_80_run_01.yml w\n",
      "{'stimuli': {'movie_files': ['blank', 'S_comp_LA_A006_C004_v01_SDR_FINAL_PS_20180730_SDR_2K_AVC.mp4', 'S_yt-cu4AVz6o2eg_24.mp4', 'blank', 'R_S_comp_GL_G004_C010_PSNK_v04_SDR_PS_FINAL_20180709_SDR_2K_AVC.mp4', 'blank', 'R_S_yt-e9ttJw0BUuU_40.mp4', 'R_S_yt-ic9iGSfe1iA_3.mp4', 'R_S_yt-_F8eDDKtvJ0_82.mp4', 'R_S_yt-2ICWjxvgVYU_4.mp4', 'S_CR_A009_C007_SDR_20191113_SDR_2K_AVC.mp4', 'S_g201_TH_803_A001_8_SDR_20191031_SDR_2K_AVC.mp4', 'blank', 'blank', 'S_yt-djFogwgoaEk_94.mp4', 'R_S_comp_DB_D011_C010_PSNK_DENOISE_v19_SDR_PS_20180914_SDR_2K_AVC.mp4', 'S_yt--RhNquKdM0M_1183.mp4', 'R_S_comp_GMT308_139K_142NC_CARIBBEAN_DAY_v09_SDR_FINAL_22062018_SDR_2K_AVC.mp4', 'S_comp_A114_C001_0305OT_v10_SDR_FINAL_22062018_SDR_2K_AVC.mp4', 'R_S_yt-vMnSbsjGK9k_62.mp4', 'blank', 'R_S_yt-DO1vncSoiJk_58.mp4', 'S_yt-ePxv64kEqa0_177.mp4', 'R_S_yt-P2RwcXMKIbQ_1.mp4', 'R_S_yt-k4B_NtWn41Y_169.mp4', 'R_S_yt-SGIqAi-zDpM_19.mp4', 'blank', 'S_yt-U38nodRpSOA_54.mp4', 'blank', 'R_S_yt-yf4RdPKpSVc_44.mp4', 'S_yt-sC9suzTl1Y0_22.mp4', 'R_S_comp_H012_C009_PS_v01_SDR_PS_20180925_SDR_2K_AVC.mp4', 'R_S_yt-dLTag3L1w94_566.mp4', 'S_yt-nB2WgvYt7bA_170.mp4', 'S_ILSVRC2015_train_00418000.mp4', 'R_S_b8-2.mp4', 'R_S_comp_N003_C006_PS_v01_SDR_PS_20180925_SDR_2K_AVC.mp4', 'R_S_PA_A001_C007_SDR_20190717_SDR_2K_AVC.mp4', 'R_S_yt-fEIplXEqgCc_14.mp4', 'R_S_yt-nA-1mD3ky2c_37.mp4', 'S_P006_C002_UHD_SDR_2K_AVC.mp4', 'R_S_Y005_C003_SDR_2K_AVC.mp4', 'R_S_yt--s2mcDTgwkc_65.mp4', 'blank', 'R_S_yt-65cexqxy5lU_35.mp4', 'R_S_yt-CNqOVuIyWjA_18.mp4', 'blank', 'R_S_pexels-kampus-production-6022792_1.mp4', 'S_yt-T2CzKcU8pHo_17.mp4', 'blank', 'S_pexels-rodnae-productions-5993237_1.mp4', 'R_S_yt-cWBQB8CxsVY_69.mp4', 'R_S_yt-6kzW30NcCOY_49.mp4', 'S_video_inspire_california_big-sur_bixby_005.1080-h264.mp4', 'blank', 'R_S_yt-D99Pp5JlUQI_47.mp4', 'R_S_b4-3.mp4', 'S_wc-3IayTPy_A3nF_17.mp4', 'R_S_yt-g_LvosijBF0_54.mp4', 'blank', 'S_yt-JxqSboqaUPY_5.mp4', 'S_g201_AK_A003_C014_SDR_20191113_SDR_2K_AVC.mp4', 'S_yt-Y32yFYRmNVU_22.mp4', 'R_S_Roller_Coaster.mp4', 'R_S_video_inspire_oregon_lone-ranch-beach_00021.1080-h264.mp4', 'blank', 'blank', 'R_S_yt-cONX-OgVhHU_1821.mp4', 'S_yt-o96A55Szxkc_982.mp4', 'S_yt-RnVxAv3aIoc_20.mp4', 'S_yt-oASqBTM-5fw_73.mp4', 'blank', 'R_S_P001_C005_UHD_SDR_2K_AVC.mp4', 'S_ddXFaMgWqAg_196.mp4', 'R_S_I003_C008_SDR_2K_AVC.mp4', 'R_S_yt-lYhibsUW208_26.mp4', 'S_ILSVRC2015_train_00560000.mp4', 'R_S_yt-YxVIDs9oN50_3.mp4', 'blank', 'S_yt-fAWPQRcrXl0_38.mp4', 'R_S_yt-Jcmf9XyBdMk_119.mp4', 'blank', 'S_yt-L7UKVgSr0c8_198.mp4', 'R_S_yt-VgJZl9SddCQ_8.mp4', 'R_S_video_inspire_california_vineyard_sierra-mar_sunrise_110.1080-h264.mp4', 'R_S_yt-GBqXIFjZf8w_28.mp4', 'S_yt-QOPuhPO1hkk_27.mp4', 'R_S_yt-TlNzKjxCIK4_970.mp4', 'S_comp_C001_C005_PS_v01_SDR_PS_20180925_SDR_2K_AVC.mp4', 'S_yt-cEvK2aS5ehU_8.mp4', 'S_yt-F3B1i_Yt8_o_20.mp4', 'S_yt-rNjnYLsk32k_1172.mp4', 'blank', 'R_S_comp_HK_H004_C001_PSNK_DENOISE_v14_SDR_PS_FINAL_20180731_SDR_2K_AVC.mp4', 'blank', 'S_yt-q5Wp_yDLujU_108.mp4', 'R_S_yt-t9sowxGR_s4_1.mp4', 'S_yt-nwa8jP9fa1Y_767.mp4', 'S_PA_A004_C003_SDR_20190719_SDR_2K_AVC.mp4', 'R_S_AWfiZJsMWQg_99.mp4']}}\n",
      " \n",
      "/tank/shared/2022/arrow_of_time/arrow_of_time/aot/data/experiment/settings/pilot/experiment_settings_task_80_run_02.yml w\n",
      "{'stimuli': {'movie_files': ['R_S_comp_A114_C001_0305OT_v10_SDR_FINAL_22062018_SDR_2K_AVC.mp4', 'S_g201_AK_A003_C014_SDR_20191113_SDR_2K_AVC.mp4', 'S_yt-djFogwgoaEk_94.mp4', 'S_yt-cWBQB8CxsVY_69.mp4', 'blank', 'S_yt-TlNzKjxCIK4_970.mp4', 'S_yt-DO1vncSoiJk_58.mp4', 'R_S_comp_GMT308_139K_142NC_CARIBBEAN_DAY_v09_SDR_FINAL_22062018_SDR_2K_AVC.mp4', 'S_ILSVRC2015_train_00560000.mp4', 'S_yt-GBqXIFjZf8w_28.mp4', 'S_yt-L7UKVgSr0c8_198.mp4', 'R_S_yt-o96A55Szxkc_982.mp4', 'R_S_yt-U38nodRpSOA_54.mp4', 'S_yt-nB2WgvYt7bA_170.mp4', 'S_yt--RhNquKdM0M_1183.mp4', 'S_b8-2.mp4', 'S_video_inspire_california_vineyard_sierra-mar_sunrise_110.1080-h264.mp4', 'S_yt-ic9iGSfe1iA_3.mp4', 'S_yt-SGIqAi-zDpM_19.mp4', 'S_Y005_C003_SDR_2K_AVC.mp4', 'S_yt-lYhibsUW208_26.mp4', 'S_comp_H012_C009_PS_v01_SDR_PS_20180925_SDR_2K_AVC.mp4', 'S_AWfiZJsMWQg_99.mp4', 'R_S_yt-cEvK2aS5ehU_8.mp4', 'blank', 'R_S_yt-65cexqxy5lU_35.mp4', 'blank', 'S_yt-q5Wp_yDLujU_108.mp4', 'blank', 'S_yt-e9ttJw0BUuU_40.mp4', 'R_S_g201_TH_803_A001_8_SDR_20191031_SDR_2K_AVC.mp4', 'blank', 'blank', 'blank', 'S_comp_GL_G004_C010_PSNK_v04_SDR_PS_FINAL_20180709_SDR_2K_AVC.mp4', 'S_comp_HK_H004_C001_PSNK_DENOISE_v14_SDR_PS_FINAL_20180731_SDR_2K_AVC.mp4', 'blank', 'S_yt-fEIplXEqgCc_14.mp4', 'R_S_comp_DB_D011_C010_PSNK_DENOISE_v19_SDR_PS_20180914_SDR_2K_AVC.mp4', 'R_S_yt-ePxv64kEqa0_177.mp4', 'R_S_ddXFaMgWqAg_196.mp4', 'blank', 'blank', 'S_yt-g_LvosijBF0_54.mp4', 'S_yt--s2mcDTgwkc_65.mp4', 'R_S_yt-_F8eDDKtvJ0_82.mp4', 'R_S_wc-3IayTPy_A3nF_17.mp4', 'R_S_yt-Y32yFYRmNVU_22.mp4', 'S_yt-VgJZl9SddCQ_8.mp4', 'S_pexels-rodnae-productions-5993237_1.mp4', 'S_yt-Jcmf9XyBdMk_119.mp4', 'S_yt-nwa8jP9fa1Y_767.mp4', 'S_yt-JxqSboqaUPY_5.mp4', 'R_S_yt-YxVIDs9oN50_3.mp4', 'S_comp_N003_C006_PS_v01_SDR_PS_20180925_SDR_2K_AVC.mp4', 'S_yt-T2CzKcU8pHo_17.mp4', 'R_S_yt-cu4AVz6o2eg_24.mp4', 'S_CR_A009_C007_SDR_20191113_SDR_2K_AVC.mp4', 'S_yt-k4B_NtWn41Y_169.mp4', 'blank', 'S_yt-dLTag3L1w94_566.mp4', 'R_S_yt-rNjnYLsk32k_1172.mp4', 'R_S_yt-2ICWjxvgVYU_4.mp4', 'S_yt-QOPuhPO1hkk_27.mp4', 'S_P001_C005_UHD_SDR_2K_AVC.mp4', 'R_S_yt-F3B1i_Yt8_o_20.mp4', 'blank', 'blank', 'blank', 'blank', 'S_b4-3.mp4', 'S_PA_A001_C007_SDR_20190717_SDR_2K_AVC.mp4', 'R_S_yt-t9sowxGR_s4_1.mp4', 'S_yt-sC9suzTl1Y0_22.mp4', 'blank', 'R_S_Roller_Coaster.mp4', 'blank', 'S_yt-cONX-OgVhHU_1821.mp4', 'blank', 'S_yt-P2RwcXMKIbQ_1.mp4', 'R_S_yt-6kzW30NcCOY_49.mp4', 'blank', 'S_yt-RnVxAv3aIoc_20.mp4', 'blank', 'R_S_yt-D99Pp5JlUQI_47.mp4', 'R_S_video_inspire_california_big-sur_bixby_005.1080-h264.mp4', 'S_PA_A004_C003_SDR_20190719_SDR_2K_AVC.mp4', 'S_comp_C001_C005_PS_v01_SDR_PS_20180925_SDR_2K_AVC.mp4', 'R_S_yt-nA-1mD3ky2c_37.mp4', 'S_yt-vMnSbsjGK9k_62.mp4', 'R_S_pexels-kampus-production-6022792_1.mp4', 'S_P006_C002_UHD_SDR_2K_AVC.mp4', 'R_S_video_inspire_oregon_lone-ranch-beach_00021.1080-h264.mp4', 'R_S_yt-CNqOVuIyWjA_18.mp4', 'S_comp_LA_A006_C004_v01_SDR_FINAL_PS_20180730_SDR_2K_AVC.mp4', 'S_ILSVRC2015_train_00418000.mp4', 'R_S_yt-oASqBTM-5fw_73.mp4', 'R_S_yt-yf4RdPKpSVc_44.mp4', 'R_S_yt-fAWPQRcrXl0_38.mp4', 'R_S_I003_C008_SDR_2K_AVC.mp4']}}\n",
      " \n",
      "/tank/shared/2022/arrow_of_time/arrow_of_time/aot/data/experiment/settings/pilot/experiment_settings_task_72_run_01.yml w\n",
      "{'stimuli': {'movie_files': ['S_video_inspire_california_big-sur_bixby_005.1080-h264.mp4', 'R_S_yt-VgJZl9SddCQ_8.mp4', 'blank', 'S_yt-vMnSbsjGK9k_62.mp4', 'R_S_yt-F3B1i_Yt8_o_20.mp4', 'S_yt-cu4AVz6o2eg_24.mp4', 'R_S_yt-2ICWjxvgVYU_4.mp4', 'S_PA_A001_C007_SDR_20190717_SDR_2K_AVC.mp4', 'R_S_yt-rNjnYLsk32k_1172.mp4', 'blank', 'R_S_comp_DB_D011_C010_PSNK_DENOISE_v19_SDR_PS_20180914_SDR_2K_AVC.mp4', 'S_yt-g_LvosijBF0_54.mp4', 'blank', 'R_S_CR_A009_C007_SDR_20191113_SDR_2K_AVC.mp4', 'S_yt-_F8eDDKtvJ0_82.mp4', 'S_yt--s2mcDTgwkc_65.mp4', 'R_S_yt-djFogwgoaEk_94.mp4', 'blank', 'S_yt-CNqOVuIyWjA_18.mp4', 'S_P006_C002_UHD_SDR_2K_AVC.mp4', 'R_S_yt-sC9suzTl1Y0_22.mp4', 'R_S_comp_LA_A006_C004_v01_SDR_FINAL_PS_20180730_SDR_2K_AVC.mp4', 'S_yt-nwa8jP9fa1Y_767.mp4', 'S_comp_C001_C005_PS_v01_SDR_PS_20180925_SDR_2K_AVC.mp4', 'S_pexels-kampus-production-6022792_1.mp4', 'S_comp_H012_C009_PS_v01_SDR_PS_20180925_SDR_2K_AVC.mp4', 'S_yt-oASqBTM-5fw_73.mp4', 'R_S_g201_AK_A003_C014_SDR_20191113_SDR_2K_AVC.mp4', 'R_S_yt-TlNzKjxCIK4_970.mp4', 'S_yt-dLTag3L1w94_566.mp4', 'blank', 'R_S_yt-yf4RdPKpSVc_44.mp4', 'S_yt-U38nodRpSOA_54.mp4', 'R_S_yt-YxVIDs9oN50_3.mp4', 'blank', 'blank', 'S_AWfiZJsMWQg_99.mp4', 'S_yt-nB2WgvYt7bA_170.mp4', 'blank', 'S_yt-Jcmf9XyBdMk_119.mp4', 'R_S_yt-L7UKVgSr0c8_198.mp4', 'S_yt-cONX-OgVhHU_1821.mp4', 'S_video_inspire_oregon_lone-ranch-beach_00021.1080-h264.mp4', 'S_yt-lYhibsUW208_26.mp4', 'blank', 'S_Roller_Coaster.mp4', 'S_ILSVRC2015_train_00418000.mp4', 'R_S_PA_A004_C003_SDR_20190719_SDR_2K_AVC.mp4', 'S_comp_HK_H004_C001_PSNK_DENOISE_v14_SDR_PS_FINAL_20180731_SDR_2K_AVC.mp4', 'S_yt-ePxv64kEqa0_177.mp4', 'S_yt-RnVxAv3aIoc_20.mp4', 'S_ILSVRC2015_train_00560000.mp4', 'S_yt-QOPuhPO1hkk_27.mp4', 'S_pexels-rodnae-productions-5993237_1.mp4', 'R_S_video_inspire_california_vineyard_sierra-mar_sunrise_110.1080-h264.mp4', 'S_comp_N003_C006_PS_v01_SDR_PS_20180925_SDR_2K_AVC.mp4', 'R_S_yt-65cexqxy5lU_35.mp4', 'S_yt-JxqSboqaUPY_5.mp4', 'S_yt-cWBQB8CxsVY_69.mp4', 'S_P001_C005_UHD_SDR_2K_AVC.mp4', 'blank', 'R_S_Y005_C003_SDR_2K_AVC.mp4', 'blank', 'blank', 'R_S_yt--RhNquKdM0M_1183.mp4', 'S_yt-ic9iGSfe1iA_3.mp4', 'blank', 'blank', 'R_S_yt-D99Pp5JlUQI_47.mp4', 'blank', 'R_S_comp_GMT308_139K_142NC_CARIBBEAN_DAY_v09_SDR_FINAL_22062018_SDR_2K_AVC.mp4', 'S_yt-GBqXIFjZf8w_28.mp4', 'S_comp_GL_G004_C010_PSNK_v04_SDR_PS_FINAL_20180709_SDR_2K_AVC.mp4', 'R_S_wc-3IayTPy_A3nF_17.mp4', 'blank', 'S_g201_TH_803_A001_8_SDR_20191031_SDR_2K_AVC.mp4', 'S_yt-q5Wp_yDLujU_108.mp4', 'S_yt-cEvK2aS5ehU_8.mp4', 'S_ddXFaMgWqAg_196.mp4', 'blank', 'R_S_yt-Y32yFYRmNVU_22.mp4', 'blank', 'blank', 'S_yt-P2RwcXMKIbQ_1.mp4', 'R_S_yt-e9ttJw0BUuU_40.mp4', 'S_b8-2.mp4', 'R_S_yt-fEIplXEqgCc_14.mp4', 'S_b4-3.mp4', 'S_yt-o96A55Szxkc_982.mp4', 'blank', 'S_yt-DO1vncSoiJk_58.mp4', 'R_S_yt-nA-1mD3ky2c_37.mp4']}}\n",
      " \n",
      "/tank/shared/2022/arrow_of_time/arrow_of_time/aot/data/experiment/settings/pilot/experiment_settings_task_72_run_02.yml w\n",
      "{'stimuli': {'movie_files': ['R_S_pexels-kampus-production-6022792_1.mp4', 'blank', 'S_yt-q5Wp_yDLujU_108.mp4', 'blank', 'S_PA_A004_C003_SDR_20190719_SDR_2K_AVC.mp4', 'blank', 'blank', 'S_yt-cWBQB8CxsVY_69.mp4', 'S_yt-D99Pp5JlUQI_47.mp4', 'S_yt-Y32yFYRmNVU_22.mp4', 'blank', 'S_yt-F3B1i_Yt8_o_20.mp4', 'R_S_yt-nwa8jP9fa1Y_767.mp4', 'S_yt--RhNquKdM0M_1183.mp4', 'R_S_yt-Jcmf9XyBdMk_119.mp4', 'S_yt-QOPuhPO1hkk_27.mp4', 'blank', 'R_S_ddXFaMgWqAg_196.mp4', 'blank', 'S_video_inspire_california_big-sur_bixby_005.1080-h264.mp4', 'blank', 'S_yt-o96A55Szxkc_982.mp4', 'R_S_PA_A001_C007_SDR_20190717_SDR_2K_AVC.mp4', 'R_S_g201_TH_803_A001_8_SDR_20191031_SDR_2K_AVC.mp4', 'blank', 'S_yt-VgJZl9SddCQ_8.mp4', 'S_ILSVRC2015_train_00560000.mp4', 'R_S_yt-nA-1mD3ky2c_37.mp4', 'S_yt-oASqBTM-5fw_73.mp4', 'R_S_yt-dLTag3L1w94_566.mp4', 'S_wc-3IayTPy_A3nF_17.mp4', 'R_S_yt-cu4AVz6o2eg_24.mp4', 'blank', 'R_S_comp_GMT308_139K_142NC_CARIBBEAN_DAY_v09_SDR_FINAL_22062018_SDR_2K_AVC.mp4', 'S_comp_GL_G004_C010_PSNK_v04_SDR_PS_FINAL_20180709_SDR_2K_AVC.mp4', 'S_P001_C005_UHD_SDR_2K_AVC.mp4', 'S_yt-P2RwcXMKIbQ_1.mp4', 'R_S_yt-cEvK2aS5ehU_8.mp4', 'R_S_yt-e9ttJw0BUuU_40.mp4', 'R_S_g201_AK_A003_C014_SDR_20191113_SDR_2K_AVC.mp4', 'blank', 'R_S_P006_C002_UHD_SDR_2K_AVC.mp4', 'R_S_CR_A009_C007_SDR_20191113_SDR_2K_AVC.mp4', 'S_b4-3.mp4', 'S_yt-U38nodRpSOA_54.mp4', 'R_S_yt-djFogwgoaEk_94.mp4', 'R_S_yt-yf4RdPKpSVc_44.mp4', 'R_S_yt-g_LvosijBF0_54.mp4', 'S_yt-rNjnYLsk32k_1172.mp4', 'R_S_yt-vMnSbsjGK9k_62.mp4', 'R_S_Y005_C003_SDR_2K_AVC.mp4', 'R_S_yt-CNqOVuIyWjA_18.mp4', 'blank', 'R_S_yt-_F8eDDKtvJ0_82.mp4', 'blank', 'R_S_yt-GBqXIFjZf8w_28.mp4', 'R_S_yt-2ICWjxvgVYU_4.mp4', 'S_yt-JxqSboqaUPY_5.mp4', 'S_AWfiZJsMWQg_99.mp4', 'R_S_yt-fEIplXEqgCc_14.mp4', 'blank', 'S_yt-sC9suzTl1Y0_22.mp4', 'blank', 'R_S_comp_H012_C009_PS_v01_SDR_PS_20180925_SDR_2K_AVC.mp4', 'S_comp_N003_C006_PS_v01_SDR_PS_20180925_SDR_2K_AVC.mp4', 'S_yt-cONX-OgVhHU_1821.mp4', 'S_ILSVRC2015_train_00418000.mp4', 'blank', 'S_video_inspire_california_vineyard_sierra-mar_sunrise_110.1080-h264.mp4', 'S_yt--s2mcDTgwkc_65.mp4', 'S_comp_C001_C005_PS_v01_SDR_PS_20180925_SDR_2K_AVC.mp4', 'blank', 'blank', 'R_S_b8-2.mp4', 'R_S_yt-RnVxAv3aIoc_20.mp4', 'R_S_yt-65cexqxy5lU_35.mp4', 'R_S_pexels-rodnae-productions-5993237_1.mp4', 'S_comp_DB_D011_C010_PSNK_DENOISE_v19_SDR_PS_20180914_SDR_2K_AVC.mp4', 'R_S_comp_LA_A006_C004_v01_SDR_FINAL_PS_20180730_SDR_2K_AVC.mp4', 'blank', 'R_S_yt-DO1vncSoiJk_58.mp4', 'R_S_yt-nB2WgvYt7bA_170.mp4', 'S_comp_HK_H004_C001_PSNK_DENOISE_v14_SDR_PS_FINAL_20180731_SDR_2K_AVC.mp4', 'blank', 'S_yt-YxVIDs9oN50_3.mp4', 'R_S_yt-ic9iGSfe1iA_3.mp4', 'R_S_yt-L7UKVgSr0c8_198.mp4', 'S_yt-TlNzKjxCIK4_970.mp4', 'R_S_Roller_Coaster.mp4', 'R_S_video_inspire_oregon_lone-ranch-beach_00021.1080-h264.mp4', 'R_S_yt-ePxv64kEqa0_177.mp4', 'S_yt-lYhibsUW208_26.mp4']}}\n",
      " \n"
     ]
    }
   ],
   "source": [
    "make_pilot_session(90,task90_videos,task90_blank_number)\n",
    "make_pilot_session(80,task80_videos,task80_blank_number)\n",
    "make_pilot_session(72,task72_videos,task72_blank_number) # 72 movies, 20 blanks but 72/20 = 3.6 there is a problem"
   ]
  }
 ],
 "metadata": {
  "kernelspec": {
   "display_name": "base",
   "language": "python",
   "name": "python3"
  },
  "language_info": {
   "codemirror_mode": {
    "name": "ipython",
    "version": 3
   },
   "file_extension": ".py",
   "mimetype": "text/x-python",
   "name": "python",
   "nbconvert_exporter": "python",
   "pygments_lexer": "ipython3",
   "version": "3.9.12"
  },
  "orig_nbformat": 4
 },
 "nbformat": 4,
 "nbformat_minor": 2
}
