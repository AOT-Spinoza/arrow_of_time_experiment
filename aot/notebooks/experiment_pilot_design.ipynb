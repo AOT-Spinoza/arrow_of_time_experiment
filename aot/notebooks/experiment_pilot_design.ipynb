{
 "cells": [
  {
   "cell_type": "code",
   "execution_count": 1,
   "metadata": {},
   "outputs": [],
   "source": [
    "import os\n",
    "import pandas as pd\n",
    "import yaml\n",
    "import copy\n",
    "import random\n",
    "from pathlib import Path\n",
    "import matplotlib.pyplot as plt\n",
    "\n",
    "import aot"
   ]
  },
  {
   "cell_type": "code",
   "execution_count": 2,
   "metadata": {},
   "outputs": [],
   "source": [
    "base_dir = Path(aot.__path__[0])\n",
    "core_expt_yaml_path = base_dir / \"experiment/core_exp_settings.yml\"\n",
    "stimuli_temp_path = base_dir / \"experiment/stimuli_settings_temp.yml\"\n",
    "core_settings = yaml.load(open(core_expt_yaml_path), Loader=yaml.FullLoader)\n",
    "stimuli_settings_temp = yaml.load(open(stimuli_temp_path), Loader=yaml.FullLoader)  \n",
    "\n",
    "settings_root_path = base_dir / core_settings[\"paths\"][\"settings_path\"] \n",
    "video_db_path = base_dir / 'data/videos/database_originals.tsv'\n",
    "video_db = pd.read_csv(video_db_path, sep='\\t')"
   ]
  },
  {
   "cell_type": "code",
   "execution_count": 3,
   "metadata": {},
   "outputs": [],
   "source": [
    "task90_movie_number = 90\n",
    "task90_blank_number = 15\n",
    "task80_movie_number = 80\n",
    "task80_blank_number = 20\n",
    "task72_movie_number = 72\n",
    "task72_blank_number = 20"
   ]
  },
  {
   "cell_type": "code",
   "execution_count": 4,
   "metadata": {},
   "outputs": [
    {
     "name": "stdout",
     "output_type": "stream",
     "text": [
      "videos number:  1405\n"
     ]
    }
   ],
   "source": [
    "videos_names = []\n",
    "for i in range(1, len(video_db)):\n",
    "    if video_db['grade'][i] == 'j' or video_db['grade'][i] == 'NA': \n",
    "        videos_names.append(video_db['video_name'][i])\n",
    "print(\"videos number: \", len(videos_names))\n",
    "\n",
    "origin_videos_number = len(videos_names)"
   ]
  },
  {
   "cell_type": "code",
   "execution_count": 5,
   "metadata": {},
   "outputs": [],
   "source": [
    "random.shuffle(videos_names)\n",
    "task90_videos = videos_names[:task90_movie_number]\n",
    "task80_videos = videos_names[:task80_movie_number]\n",
    "task72_videos = videos_names[:task72_movie_number]"
   ]
  },
  {
   "cell_type": "code",
   "execution_count": 6,
   "metadata": {},
   "outputs": [],
   "source": [
    "def make_pilot_session(task_number,task_videos,blank_number):\n",
    "    def distribute(videos,blank_number,type='random'):\n",
    "        if type == 'random':\n",
    "            playlist = videos+['blank']*blank_number\n",
    "            random.shuffle(playlist)\n",
    "            return playlist\n",
    "        elif type == 'uniform':\n",
    "            movie_number_per_blank = int(len(videos)/blank_number)\n",
    "            for i in range(blank_number):\n",
    "                videos.insert((i+1)*movie_number_per_blank+i,\"blank\")\n",
    "            return videos\n",
    "    \n",
    "    def make_pilot_run(run_number,task_videos,blank_number):\n",
    "        videos = copy.deepcopy(task_videos)\n",
    "        #add S_ and R_S_ to the video names with 0.5 probability for each one\n",
    "        for i in range(len(videos)):\n",
    "            videos[i] = 'S_' + videos[i]\n",
    "            '''\n",
    "            if random.random() < 0.5:\n",
    "                \n",
    "                videos[i] = 'S_' + videos[i]\n",
    "            else:\n",
    "                videos[i] = 'R_S_' + videos[i]\n",
    "            '''\n",
    "        settings = copy.deepcopy(stimuli_settings_temp)\n",
    "        random.shuffle(videos)\n",
    "        settings[\"stimuli\"][\"movie_files\"] = distribute(videos,blank_number)\n",
    "        '''\n",
    "        movie_number_per_blank = int(len(videos)/blank_number)\n",
    "        for i in range(blank_number):\n",
    "            settings['stimuli']['movie_files'].insert((i+1)*movie_number_per_blank+i,\"blank\")\n",
    "        '''\n",
    "        with open(\n",
    "            str(settings_root_path)\n",
    "            + \"/\"\n",
    "            + \"pilot\"\n",
    "            + \"/experiment_settings_\"\n",
    "            + \"task_\"\n",
    "            + str(task_number).zfill(2)\n",
    "            + \"_run_\"\n",
    "            + str(run_number).zfill(2)\n",
    "            + \".yml\",\n",
    "            \"w\",\n",
    "        ) as outfile:\n",
    "            print(\n",
    "                str(settings_root_path)\n",
    "                + \"/\"\n",
    "                + \"pilot\"\n",
    "                + \"/experiment_settings_\"\n",
    "                + \"task_\"\n",
    "                + str(task_number).zfill(2)\n",
    "                + \"_run_\"\n",
    "                + str(run_number).zfill(2)\n",
    "                + \".yml\",\n",
    "                \"w\",\n",
    "            )\n",
    "            print(settings)\n",
    "            print(\" \")\n",
    "            yaml.dump(settings, outfile, default_flow_style=False)\n",
    "        return settings\n",
    "\n",
    "    run1_settings = make_pilot_run(1,task_videos,blank_number)\n",
    "    run2_settings = make_pilot_run(2,task_videos,blank_number)\n"
   ]
  },
  {
   "cell_type": "code",
   "execution_count": 7,
   "metadata": {},
   "outputs": [
    {
     "name": "stdout",
     "output_type": "stream",
     "text": [
      "/Users/shufanzhang/Documents/PhD/Arrow_of_time/arrow_of_time_spinoza/aot/data/experiment/settings/pilot/experiment_settings_task_90_run_01.yml w\n",
      "{'stimuli': {'movie_files': ['S_yt-6mRpmfIvdew_1435.mp4', 'S_ILSVRC2015_train_00515000.mp4', 'S_yt-oxUpc8I5wWQ_238.mp4', 'S_WCwb-DeQOSg_85.mp4', 'S_ILSVRC2015_train_00594001.mp4', 'S_yt-9Ow95khYa_M_91.mp4', 'S_yt-aiWUhl8MCto_71.mp4', 'S_yt-UzWRbs9Syf4_7.mp4', 'blank', 'S_flickr-clarkstonscamp-4863427159_1.mp4', 'S_yt--OkafQ5VFHs_51.mp4', 'S_yt-QqSceHxY3d0_356.mp4', 'S_yt-EvKV7iY1_HM_193.mp4', 'S_yt-vQ-rd-1gwH4_238.mp4', 'S_yt-ieA3XwoSko4_98.mp4', 'S_yt-deiWoIfK6vg_44.mp4', 'S_yt-6vkiJedss6g_5.mp4', 'S_production_ID_5119260.mp4', 'S_yt-PaxmJhMoP3w_87.mp4', 'S_wc-8bTJmWfuVyJ4_8.mp4', 'S_yt-t8NfuFA7OlM_26.mp4', 'blank', 'S_yt-hTkrnNr39dk_202.mp4', 'S_yt-AiXq1oDrEXI_123.mp4', 'S_yt-b7JAHOeiTqU_44.mp4', 'S_production_ID_4707837.mp4', 'S_production_ID_3735542.mp4', 'S_yt-gmiyqQDGN78_7.mp4', 'S_Nh81j72Utbs_5.mp4', 'blank', 'S_ILSVRC2015_train_00165008.mp4', 'S_Pexels_Videos_2786546.mp4', 'S_yt-9EnchawJ3pA_90.mp4', 'blank', 'S_xq822dX6DDM_1.mp4', 'S_yt-aSEKRE_FNaI_62.mp4', 'S_ILSVRC2015_train_00569003.mp4', 'S_yt--koo4FOfZE0_86.mp4', 'S_yt-54kx8P3L1ns_6.mp4', 'S_ILSVRC2015_train_00369004.mp4', 'S_yt-zKnjBBYWe90_369.mp4', 'blank', 'S_yt-AOP7QYQntPI_28.mp4', 'S_ILSVRC2015_train_00762000.mp4', 'S_yt-MTo50ReVNmU_2.mp4', 'blank', 'S_yt-yQrDeFlFmfM_138.mp4', 'blank', 'S_yt-O4wUEZwHLyI_114.mp4', 'S_yt-c-H45QS0CF4_147.mp4', 'S_nTA7B2uHaCQ_1.mp4', 'blank', 'S_ILSVRC2015_train_00411000.mp4', 'S_yt-ibDaDIEazxg_3.mp4', 'S_yt-K-iCphzt_RE_17.mp4', 'S_yt-Jro_TRE8NUQ_234.mp4', 'S_pexels-koolshooters-7327401_1.mp4', 'S_pexels-mikhail-nilov-8410084_1.mp4', 'S_yt-n_eO-7KedAE_21.mp4', 'S_yt-AuQ_WxaNy4Y_255.mp4', 'S_yt-NZIhxK5NvWE_152.mp4', 'S_pexels-tima-miroshnichenko-5717005.mp4', 'blank', 'S_yt-OFnDCbW9Ebo_31.mp4', 'blank', 'S_yt-GWlwb2QsxIA_48.mp4', 'S_yt-zam74qlzGtQ_122.mp4', 'blank', 'S_yt-158C6xUMi5Y_75.mp4', 'S_production_ID_4325516.mp4', 'S_yt-QTGIhecBZjc_19.mp4', 'S_production_ID_5144823.mp4', 'S_yt-y3tyx6cZjmA_412.mp4', 'S_ILSVRC2015_train_00219004.mp4', 'S_yt-LB9LoYfH_EA_15.mp4', 'S_yt-Fm97IY0Z2LU_110.mp4', 'S_yt-XA6RBioito4_18.mp4', 'blank', 'S_ILSVRC2015_train_00697001.mp4', 'S_yt-KVB49z48sZU_55.mp4', 'S_yt-qsyDLtXcyHc_8.mp4', 'S_yt-O6FS0xnF0CU_106.mp4', 'S_yt-TxU1H5A6BaQ_52.mp4', 'S_yt-xBwq6sHHF5M_21.mp4', 'S_yt-KV8X9IBWuJk_48.mp4', 'blank', 'S_pexels-kelly-lacy-6756531.mp4', 'S_yt-1sn8u-rQRas_7.mp4', 'S_ILSVRC2015_train_00423000.mp4', 'S_yt-Wr5vs_0Iypw_161.mp4', 'blank', 'S_yt-iO0efV_PV-k_102.mp4', 'S_ILSVRC2015_train_00067005.mp4', 'S_yt-bwSRV1Vr21s_435.mp4', 'S_production_ID_3967181.mp4', 'S_yt-HwEfWfFJhRo_73.mp4', 'S_2RTDFkjD6vI_93.mp4', 'S_yt-PCSXJ5YB_AE_3.mp4', 'S_bing-vimeo_com_161378598_22.mp4', 'blank', 'S_yt-RO4mhuXBVrY_67.mp4', 'S_yt-JTuopUgmg1w_101.mp4', 'S_production_ID_4802710.mp4', 'S_video-10.mp4', 'S_production_ID_3712945.mp4']}}\n",
      " \n",
      "/Users/shufanzhang/Documents/PhD/Arrow_of_time/arrow_of_time_spinoza/aot/data/experiment/settings/pilot/experiment_settings_task_90_run_02.yml w\n",
      "{'stimuli': {'movie_files': ['S_yt-ibDaDIEazxg_3.mp4', 'blank', 'S_Pexels_Videos_2786546.mp4', 'S_yt-iO0efV_PV-k_102.mp4', 'S_ILSVRC2015_train_00697001.mp4', 'S_yt-gmiyqQDGN78_7.mp4', 'S_yt-UzWRbs9Syf4_7.mp4', 'S_yt-HwEfWfFJhRo_73.mp4', 'S_yt--koo4FOfZE0_86.mp4', 'S_yt-RO4mhuXBVrY_67.mp4', 'S_yt-GWlwb2QsxIA_48.mp4', 'S_ILSVRC2015_train_00067005.mp4', 'S_yt-b7JAHOeiTqU_44.mp4', 'S_yt-54kx8P3L1ns_6.mp4', 'blank', 'S_yt-O4wUEZwHLyI_114.mp4', 'S_WCwb-DeQOSg_85.mp4', 'S_yt-AOP7QYQntPI_28.mp4', 'S_yt-AuQ_WxaNy4Y_255.mp4', 'S_video-10.mp4', 'S_yt-6vkiJedss6g_5.mp4', 'S_yt-EvKV7iY1_HM_193.mp4', 'S_yt-bwSRV1Vr21s_435.mp4', 'S_yt-PCSXJ5YB_AE_3.mp4', 'S_yt-Jro_TRE8NUQ_234.mp4', 'S_xq822dX6DDM_1.mp4', 'S_wc-8bTJmWfuVyJ4_8.mp4', 'S_yt-NZIhxK5NvWE_152.mp4', 'S_production_ID_4707837.mp4', 'S_yt-KV8X9IBWuJk_48.mp4', 'S_yt-yQrDeFlFmfM_138.mp4', 'S_ILSVRC2015_train_00515000.mp4', 'blank', 'S_yt-xBwq6sHHF5M_21.mp4', 'S_yt-JTuopUgmg1w_101.mp4', 'blank', 'S_yt-O6FS0xnF0CU_106.mp4', 'S_production_ID_4325516.mp4', 'S_pexels-kelly-lacy-6756531.mp4', 'blank', 'S_yt-XA6RBioito4_18.mp4', 'S_ILSVRC2015_train_00219004.mp4', 'S_production_ID_5144823.mp4', 'S_production_ID_4802710.mp4', 'blank', 'S_2RTDFkjD6vI_93.mp4', 'S_pexels-mikhail-nilov-8410084_1.mp4', 'S_yt-PaxmJhMoP3w_87.mp4', 'blank', 'blank', 'S_yt-c-H45QS0CF4_147.mp4', 'S_ILSVRC2015_train_00762000.mp4', 'S_yt-n_eO-7KedAE_21.mp4', 'S_production_ID_3735542.mp4', 'blank', 'S_yt-qsyDLtXcyHc_8.mp4', 'blank', 'S_ILSVRC2015_train_00423000.mp4', 'S_yt-QTGIhecBZjc_19.mp4', 'S_yt-TxU1H5A6BaQ_52.mp4', 'S_yt-K-iCphzt_RE_17.mp4', 'S_pexels-koolshooters-7327401_1.mp4', 'S_ILSVRC2015_train_00569003.mp4', 'S_production_ID_3712945.mp4', 'S_yt-ieA3XwoSko4_98.mp4', 'S_ILSVRC2015_train_00411000.mp4', 'S_yt-aiWUhl8MCto_71.mp4', 'S_yt-LB9LoYfH_EA_15.mp4', 'blank', 'S_Nh81j72Utbs_5.mp4', 'S_yt--OkafQ5VFHs_51.mp4', 'blank', 'S_yt-9Ow95khYa_M_91.mp4', 'blank', 'S_yt-OFnDCbW9Ebo_31.mp4', 'S_yt-oxUpc8I5wWQ_238.mp4', 'S_pexels-tima-miroshnichenko-5717005.mp4', 'S_yt-t8NfuFA7OlM_26.mp4', 'blank', 'S_yt-1sn8u-rQRas_7.mp4', 'S_yt-9EnchawJ3pA_90.mp4', 'S_yt-vQ-rd-1gwH4_238.mp4', 'S_yt-6mRpmfIvdew_1435.mp4', 'S_yt-KVB49z48sZU_55.mp4', 'S_ILSVRC2015_train_00165008.mp4', 'S_nTA7B2uHaCQ_1.mp4', 'S_yt-zKnjBBYWe90_369.mp4', 'S_yt-aSEKRE_FNaI_62.mp4', 'S_yt-Fm97IY0Z2LU_110.mp4', 'S_flickr-clarkstonscamp-4863427159_1.mp4', 'S_yt-hTkrnNr39dk_202.mp4', 'S_yt-zam74qlzGtQ_122.mp4', 'S_ILSVRC2015_train_00369004.mp4', 'S_yt-y3tyx6cZjmA_412.mp4', 'S_bing-vimeo_com_161378598_22.mp4', 'S_yt-AiXq1oDrEXI_123.mp4', 'S_production_ID_5119260.mp4', 'S_yt-MTo50ReVNmU_2.mp4', 'S_production_ID_3967181.mp4', 'blank', 'S_yt-Wr5vs_0Iypw_161.mp4', 'S_yt-deiWoIfK6vg_44.mp4', 'S_yt-158C6xUMi5Y_75.mp4', 'S_ILSVRC2015_train_00594001.mp4', 'S_yt-QqSceHxY3d0_356.mp4']}}\n",
      " \n",
      "/Users/shufanzhang/Documents/PhD/Arrow_of_time/arrow_of_time_spinoza/aot/data/experiment/settings/pilot/experiment_settings_task_80_run_01.yml w\n",
      "{'stimuli': {'movie_files': ['blank', 'S_production_ID_4325516.mp4', 'S_yt-O6FS0xnF0CU_106.mp4', 'S_yt--OkafQ5VFHs_51.mp4', 'S_yt-JTuopUgmg1w_101.mp4', 'S_yt-AuQ_WxaNy4Y_255.mp4', 'blank', 'S_yt-HwEfWfFJhRo_73.mp4', 'S_yt-y3tyx6cZjmA_412.mp4', 'blank', 'S_yt-qsyDLtXcyHc_8.mp4', 'blank', 'S_yt-ieA3XwoSko4_98.mp4', 'S_yt-OFnDCbW9Ebo_31.mp4', 'S_yt-1sn8u-rQRas_7.mp4', 'S_pexels-mikhail-nilov-8410084_1.mp4', 'S_yt-9Ow95khYa_M_91.mp4', 'S_ILSVRC2015_train_00569003.mp4', 'blank', 'S_production_ID_5144823.mp4', 'S_production_ID_4802710.mp4', 'blank', 'S_ILSVRC2015_train_00219004.mp4', 'S_yt-Wr5vs_0Iypw_161.mp4', 'S_yt-UzWRbs9Syf4_7.mp4', 'S_ILSVRC2015_train_00594001.mp4', 'S_pexels-kelly-lacy-6756531.mp4', 'S_WCwb-DeQOSg_85.mp4', 'S_Pexels_Videos_2786546.mp4', 'S_production_ID_3967181.mp4', 'blank', 'S_yt-xBwq6sHHF5M_21.mp4', 'S_yt-6vkiJedss6g_5.mp4', 'S_yt-Fm97IY0Z2LU_110.mp4', 'S_yt-LB9LoYfH_EA_15.mp4', 'blank', 'S_production_ID_5119260.mp4', 'S_xq822dX6DDM_1.mp4', 'S_yt-XA6RBioito4_18.mp4', 'S_yt-hTkrnNr39dk_202.mp4', 'blank', 'blank', 'S_ILSVRC2015_train_00515000.mp4', 'S_yt--koo4FOfZE0_86.mp4', 'S_yt-PaxmJhMoP3w_87.mp4', 'S_yt-PCSXJ5YB_AE_3.mp4', 'S_yt-yQrDeFlFmfM_138.mp4', 'S_yt-K-iCphzt_RE_17.mp4', 'S_yt-c-H45QS0CF4_147.mp4', 'S_yt-Jro_TRE8NUQ_234.mp4', 'S_yt-vQ-rd-1gwH4_238.mp4', 'S_production_ID_3735542.mp4', 'S_nTA7B2uHaCQ_1.mp4', 'S_ILSVRC2015_train_00411000.mp4', 'S_yt-TxU1H5A6BaQ_52.mp4', 'S_yt-aSEKRE_FNaI_62.mp4', 'blank', 'S_Nh81j72Utbs_5.mp4', 'S_yt-54kx8P3L1ns_6.mp4', 'blank', 'S_yt-bwSRV1Vr21s_435.mp4', 'S_yt-gmiyqQDGN78_7.mp4', 'S_yt-ibDaDIEazxg_3.mp4', 'S_yt-AiXq1oDrEXI_123.mp4', 'blank', 'blank', 'S_yt-oxUpc8I5wWQ_238.mp4', 'S_yt-b7JAHOeiTqU_44.mp4', 'S_yt-MTo50ReVNmU_2.mp4', 'S_flickr-clarkstonscamp-4863427159_1.mp4', 'S_yt-iO0efV_PV-k_102.mp4', 'S_yt-NZIhxK5NvWE_152.mp4', 'S_production_ID_3712945.mp4', 'blank', 'blank', 'S_ILSVRC2015_train_00165008.mp4', 'S_yt-n_eO-7KedAE_21.mp4', 'S_yt-KV8X9IBWuJk_48.mp4', 'S_yt-EvKV7iY1_HM_193.mp4', 'S_yt-AOP7QYQntPI_28.mp4', 'S_yt-O4wUEZwHLyI_114.mp4', 'blank', 'S_pexels-tima-miroshnichenko-5717005.mp4', 'S_yt-6mRpmfIvdew_1435.mp4', 'S_yt-zam74qlzGtQ_122.mp4', 'S_yt-deiWoIfK6vg_44.mp4', 'S_yt-9EnchawJ3pA_90.mp4', 'S_video-10.mp4', 'S_ILSVRC2015_train_00067005.mp4', 'S_yt-RO4mhuXBVrY_67.mp4', 'S_yt-QTGIhecBZjc_19.mp4', 'blank', 'S_yt-GWlwb2QsxIA_48.mp4', 'blank', 'S_ILSVRC2015_train_00369004.mp4', 'blank', 'S_wc-8bTJmWfuVyJ4_8.mp4', 'S_yt-aiWUhl8MCto_71.mp4', 'S_ILSVRC2015_train_00423000.mp4', 'S_yt-QqSceHxY3d0_356.mp4']}}\n",
      " \n",
      "/Users/shufanzhang/Documents/PhD/Arrow_of_time/arrow_of_time_spinoza/aot/data/experiment/settings/pilot/experiment_settings_task_80_run_02.yml w\n",
      "{'stimuli': {'movie_files': ['S_ILSVRC2015_train_00515000.mp4', 'S_WCwb-DeQOSg_85.mp4', 'blank', 'S_ILSVRC2015_train_00165008.mp4', 'S_yt-6mRpmfIvdew_1435.mp4', 'S_yt-K-iCphzt_RE_17.mp4', 'S_production_ID_3735542.mp4', 'blank', 'S_yt-yQrDeFlFmfM_138.mp4', 'blank', 'S_yt-zam74qlzGtQ_122.mp4', 'S_yt-O6FS0xnF0CU_106.mp4', 'S_xq822dX6DDM_1.mp4', 'S_production_ID_4325516.mp4', 'S_production_ID_3967181.mp4', 'blank', 'S_yt--koo4FOfZE0_86.mp4', 'S_flickr-clarkstonscamp-4863427159_1.mp4', 'blank', 'S_ILSVRC2015_train_00594001.mp4', 'blank', 'S_wc-8bTJmWfuVyJ4_8.mp4', 'S_yt-qsyDLtXcyHc_8.mp4', 'S_yt-6vkiJedss6g_5.mp4', 'S_yt-y3tyx6cZjmA_412.mp4', 'S_production_ID_5144823.mp4', 'S_yt-1sn8u-rQRas_7.mp4', 'S_yt-EvKV7iY1_HM_193.mp4', 'S_yt-vQ-rd-1gwH4_238.mp4', 'S_production_ID_5119260.mp4', 'S_yt-Fm97IY0Z2LU_110.mp4', 'S_pexels-tima-miroshnichenko-5717005.mp4', 'blank', 'S_yt-UzWRbs9Syf4_7.mp4', 'S_yt-xBwq6sHHF5M_21.mp4', 'blank', 'S_Pexels_Videos_2786546.mp4', 'S_pexels-kelly-lacy-6756531.mp4', 'S_yt-AiXq1oDrEXI_123.mp4', 'blank', 'S_yt-OFnDCbW9Ebo_31.mp4', 'S_yt-RO4mhuXBVrY_67.mp4', 'S_yt-JTuopUgmg1w_101.mp4', 'S_nTA7B2uHaCQ_1.mp4', 'S_yt--OkafQ5VFHs_51.mp4', 'S_ILSVRC2015_train_00067005.mp4', 'S_ILSVRC2015_train_00569003.mp4', 'S_yt-TxU1H5A6BaQ_52.mp4', 'S_yt-PCSXJ5YB_AE_3.mp4', 'S_yt-b7JAHOeiTqU_44.mp4', 'blank', 'S_yt-Wr5vs_0Iypw_161.mp4', 'blank', 'blank', 'blank', 'S_yt-Jro_TRE8NUQ_234.mp4', 'S_yt-9EnchawJ3pA_90.mp4', 'S_production_ID_4802710.mp4', 'S_pexels-mikhail-nilov-8410084_1.mp4', 'S_video-10.mp4', 'S_ILSVRC2015_train_00423000.mp4', 'S_yt-ieA3XwoSko4_98.mp4', 'S_production_ID_3712945.mp4', 'S_yt-54kx8P3L1ns_6.mp4', 'S_yt-QqSceHxY3d0_356.mp4', 'S_ILSVRC2015_train_00219004.mp4', 'S_yt-QTGIhecBZjc_19.mp4', 'blank', 'S_yt-9Ow95khYa_M_91.mp4', 'blank', 'S_yt-bwSRV1Vr21s_435.mp4', 'S_yt-NZIhxK5NvWE_152.mp4', 'S_ILSVRC2015_train_00369004.mp4', 'blank', 'S_yt-c-H45QS0CF4_147.mp4', 'S_yt-HwEfWfFJhRo_73.mp4', 'S_yt-aiWUhl8MCto_71.mp4', 'S_yt-iO0efV_PV-k_102.mp4', 'S_ILSVRC2015_train_00411000.mp4', 'S_yt-n_eO-7KedAE_21.mp4', 'S_yt-GWlwb2QsxIA_48.mp4', 'S_yt-oxUpc8I5wWQ_238.mp4', 'S_yt-gmiyqQDGN78_7.mp4', 'blank', 'S_yt-deiWoIfK6vg_44.mp4', 'S_yt-KV8X9IBWuJk_48.mp4', 'S_Nh81j72Utbs_5.mp4', 'S_yt-AuQ_WxaNy4Y_255.mp4', 'S_yt-PaxmJhMoP3w_87.mp4', 'S_yt-XA6RBioito4_18.mp4', 'blank', 'blank', 'S_yt-ibDaDIEazxg_3.mp4', 'blank', 'S_yt-AOP7QYQntPI_28.mp4', 'S_yt-MTo50ReVNmU_2.mp4', 'S_yt-LB9LoYfH_EA_15.mp4', 'S_yt-aSEKRE_FNaI_62.mp4', 'S_yt-hTkrnNr39dk_202.mp4', 'S_yt-O4wUEZwHLyI_114.mp4']}}\n",
      " \n",
      "/Users/shufanzhang/Documents/PhD/Arrow_of_time/arrow_of_time_spinoza/aot/data/experiment/settings/pilot/experiment_settings_task_72_run_01.yml w\n",
      "{'stimuli': {'movie_files': ['S_yt-O6FS0xnF0CU_106.mp4', 'S_yt-yQrDeFlFmfM_138.mp4', 'S_yt-PaxmJhMoP3w_87.mp4', 'S_yt-QqSceHxY3d0_356.mp4', 'S_yt-Wr5vs_0Iypw_161.mp4', 'S_yt-bwSRV1Vr21s_435.mp4', 'S_yt-LB9LoYfH_EA_15.mp4', 'blank', 'blank', 'S_yt-aSEKRE_FNaI_62.mp4', 'S_yt-O4wUEZwHLyI_114.mp4', 'blank', 'S_yt-iO0efV_PV-k_102.mp4', 'S_yt-54kx8P3L1ns_6.mp4', 'S_Pexels_Videos_2786546.mp4', 'blank', 'S_ILSVRC2015_train_00165008.mp4', 'S_yt-b7JAHOeiTqU_44.mp4', 'blank', 'S_ILSVRC2015_train_00569003.mp4', 'S_yt-TxU1H5A6BaQ_52.mp4', 'blank', 'S_yt-gmiyqQDGN78_7.mp4', 'S_yt-MTo50ReVNmU_2.mp4', 'S_yt-aiWUhl8MCto_71.mp4', 'S_yt-AuQ_WxaNy4Y_255.mp4', 'blank', 'S_yt-6mRpmfIvdew_1435.mp4', 'S_production_ID_4802710.mp4', 'blank', 'S_yt-RO4mhuXBVrY_67.mp4', 'S_production_ID_3712945.mp4', 'S_Nh81j72Utbs_5.mp4', 'S_yt-ieA3XwoSko4_98.mp4', 'S_yt-OFnDCbW9Ebo_31.mp4', 'S_yt-PCSXJ5YB_AE_3.mp4', 'blank', 'S_production_ID_5119260.mp4', 'S_yt-HwEfWfFJhRo_73.mp4', 'S_yt-6vkiJedss6g_5.mp4', 'S_yt-hTkrnNr39dk_202.mp4', 'S_pexels-kelly-lacy-6756531.mp4', 'S_yt-c-H45QS0CF4_147.mp4', 'S_yt-EvKV7iY1_HM_193.mp4', 'S_yt-1sn8u-rQRas_7.mp4', 'blank', 'S_ILSVRC2015_train_00219004.mp4', 'blank', 'S_yt-9EnchawJ3pA_90.mp4', 'S_yt-Fm97IY0Z2LU_110.mp4', 'S_yt-JTuopUgmg1w_101.mp4', 'S_yt-ibDaDIEazxg_3.mp4', 'S_ILSVRC2015_train_00067005.mp4', 'S_xq822dX6DDM_1.mp4', 'S_yt-qsyDLtXcyHc_8.mp4', 'S_flickr-clarkstonscamp-4863427159_1.mp4', 'S_yt-NZIhxK5NvWE_152.mp4', 'S_yt-oxUpc8I5wWQ_238.mp4', 'S_yt--koo4FOfZE0_86.mp4', 'S_ILSVRC2015_train_00369004.mp4', 'blank', 'S_pexels-tima-miroshnichenko-5717005.mp4', 'S_yt-XA6RBioito4_18.mp4', 'blank', 'S_ILSVRC2015_train_00515000.mp4', 'S_yt-xBwq6sHHF5M_21.mp4', 'S_yt-9Ow95khYa_M_91.mp4', 'S_yt-GWlwb2QsxIA_48.mp4', 'S_wc-8bTJmWfuVyJ4_8.mp4', 'blank', 'S_yt-vQ-rd-1gwH4_238.mp4', 'S_production_ID_4325516.mp4', 'blank', 'blank', 'S_yt-AiXq1oDrEXI_123.mp4', 'S_WCwb-DeQOSg_85.mp4', 'S_yt-KV8X9IBWuJk_48.mp4', 'S_yt-Jro_TRE8NUQ_234.mp4', 'blank', 'blank', 'S_yt-K-iCphzt_RE_17.mp4', 'S_yt-n_eO-7KedAE_21.mp4', 'S_yt--OkafQ5VFHs_51.mp4', 'blank', 'blank', 'S_yt-deiWoIfK6vg_44.mp4', 'S_yt-y3tyx6cZjmA_412.mp4', 'S_ILSVRC2015_train_00411000.mp4', 'S_production_ID_3967181.mp4', 'S_production_ID_5144823.mp4', 'S_yt-QTGIhecBZjc_19.mp4', 'S_pexels-mikhail-nilov-8410084_1.mp4']}}\n",
      " \n",
      "/Users/shufanzhang/Documents/PhD/Arrow_of_time/arrow_of_time_spinoza/aot/data/experiment/settings/pilot/experiment_settings_task_72_run_02.yml w\n",
      "{'stimuli': {'movie_files': ['S_production_ID_4802710.mp4', 'S_yt-KV8X9IBWuJk_48.mp4', 'S_yt-n_eO-7KedAE_21.mp4', 'S_yt-ibDaDIEazxg_3.mp4', 'S_wc-8bTJmWfuVyJ4_8.mp4', 'S_yt-vQ-rd-1gwH4_238.mp4', 'S_yt-1sn8u-rQRas_7.mp4', 'S_production_ID_5119260.mp4', 'blank', 'blank', 'S_yt-y3tyx6cZjmA_412.mp4', 'S_yt-OFnDCbW9Ebo_31.mp4', 'S_yt-9Ow95khYa_M_91.mp4', 'S_ILSVRC2015_train_00515000.mp4', 'S_yt-HwEfWfFJhRo_73.mp4', 'S_flickr-clarkstonscamp-4863427159_1.mp4', 'S_yt-O4wUEZwHLyI_114.mp4', 'blank', 'S_ILSVRC2015_train_00067005.mp4', 'blank', 'S_pexels-tima-miroshnichenko-5717005.mp4', 'blank', 'S_yt-ieA3XwoSko4_98.mp4', 'blank', 'S_yt-AuQ_WxaNy4Y_255.mp4', 'S_yt-JTuopUgmg1w_101.mp4', 'S_production_ID_5144823.mp4', 'S_yt--koo4FOfZE0_86.mp4', 'S_yt-PCSXJ5YB_AE_3.mp4', 'S_yt-K-iCphzt_RE_17.mp4', 'blank', 'blank', 'S_yt-XA6RBioito4_18.mp4', 'S_Nh81j72Utbs_5.mp4', 'blank', 'S_ILSVRC2015_train_00219004.mp4', 'S_yt-bwSRV1Vr21s_435.mp4', 'S_WCwb-DeQOSg_85.mp4', 'S_yt-6mRpmfIvdew_1435.mp4', 'S_yt-GWlwb2QsxIA_48.mp4', 'S_yt-54kx8P3L1ns_6.mp4', 'S_production_ID_3712945.mp4', 'S_yt-MTo50ReVNmU_2.mp4', 'S_yt-NZIhxK5NvWE_152.mp4', 'S_yt-EvKV7iY1_HM_193.mp4', 'S_yt-b7JAHOeiTqU_44.mp4', 'S_ILSVRC2015_train_00569003.mp4', 'S_yt-Jro_TRE8NUQ_234.mp4', 'S_yt-9EnchawJ3pA_90.mp4', 'S_yt-xBwq6sHHF5M_21.mp4', 'S_yt-aSEKRE_FNaI_62.mp4', 'S_yt-c-H45QS0CF4_147.mp4', 'S_yt-6vkiJedss6g_5.mp4', 'S_yt-deiWoIfK6vg_44.mp4', 'blank', 'blank', 'S_yt-Wr5vs_0Iypw_161.mp4', 'S_Pexels_Videos_2786546.mp4', 'S_yt-O6FS0xnF0CU_106.mp4', 'blank', 'S_ILSVRC2015_train_00411000.mp4', 'S_yt-aiWUhl8MCto_71.mp4', 'S_pexels-kelly-lacy-6756531.mp4', 'S_production_ID_4325516.mp4', 'S_xq822dX6DDM_1.mp4', 'S_yt-RO4mhuXBVrY_67.mp4', 'S_ILSVRC2015_train_00369004.mp4', 'S_yt-AiXq1oDrEXI_123.mp4', 'blank', 'S_yt-hTkrnNr39dk_202.mp4', 'S_yt-QqSceHxY3d0_356.mp4', 'S_yt-oxUpc8I5wWQ_238.mp4', 'S_yt-TxU1H5A6BaQ_52.mp4', 'S_yt-LB9LoYfH_EA_15.mp4', 'S_yt-Fm97IY0Z2LU_110.mp4', 'blank', 'blank', 'blank', 'S_ILSVRC2015_train_00165008.mp4', 'blank', 'S_yt--OkafQ5VFHs_51.mp4', 'S_yt-yQrDeFlFmfM_138.mp4', 'blank', 'blank', 'S_yt-qsyDLtXcyHc_8.mp4', 'S_production_ID_3967181.mp4', 'S_yt-PaxmJhMoP3w_87.mp4', 'S_yt-iO0efV_PV-k_102.mp4', 'S_yt-gmiyqQDGN78_7.mp4', 'S_pexels-mikhail-nilov-8410084_1.mp4', 'S_yt-QTGIhecBZjc_19.mp4', 'blank']}}\n",
      " \n"
     ]
    }
   ],
   "source": [
    "make_pilot_session(90,task90_videos,task90_blank_number)\n",
    "make_pilot_session(80,task80_videos,task80_blank_number)\n",
    "make_pilot_session(72,task72_videos,task72_blank_number) # 72 movies, 20 blanks but 72/20 = 3.6 there is a problem"
   ]
  }
 ],
 "metadata": {
  "kernelspec": {
   "display_name": "base",
   "language": "python",
   "name": "python3"
  },
  "language_info": {
   "codemirror_mode": {
    "name": "ipython",
    "version": 3
   },
   "file_extension": ".py",
   "mimetype": "text/x-python",
   "name": "python",
   "nbconvert_exporter": "python",
   "pygments_lexer": "ipython3",
   "version": "3.9.12"
  },
  "orig_nbformat": 4
 },
 "nbformat": 4,
 "nbformat_minor": 2
}
