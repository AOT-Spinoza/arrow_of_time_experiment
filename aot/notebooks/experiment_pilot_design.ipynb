{
 "cells": [
  {
   "cell_type": "code",
   "execution_count": 43,
   "metadata": {},
   "outputs": [],
   "source": [
    "import os\n",
    "import pandas as pd\n",
    "import yaml\n",
    "import copy\n",
    "import random\n",
    "from pathlib import Path\n",
    "import matplotlib.pyplot as plt\n",
    "\n",
    "import aot"
   ]
  },
  {
   "cell_type": "code",
   "execution_count": 44,
   "metadata": {},
   "outputs": [],
   "source": [
    "base_dir = Path(aot.__path__[0])\n",
    "core_expt_yaml_path = base_dir / \"experiment/core_exp_settings.yml\"\n",
    "stimuli_temp_path = base_dir / \"experiment/stimuli_settings_temp.yml\"\n",
    "core_settings = yaml.load(open(core_expt_yaml_path), Loader=yaml.FullLoader)\n",
    "stimuli_settings_temp = yaml.load(open(stimuli_temp_path), Loader=yaml.FullLoader)  \n",
    "\n",
    "settings_root_path = base_dir / core_settings[\"paths\"][\"settings_path\"] \n",
    "video_db_path = base_dir / 'data/videos/database_originals.tsv'\n",
    "video_db = pd.read_csv(video_db_path, sep='\\t')"
   ]
  },
  {
   "cell_type": "code",
   "execution_count": 45,
   "metadata": {},
   "outputs": [],
   "source": [
    "task90_movie_number = 90\n",
    "task90_blank_number = 15\n",
    "task80_movie_number = 80\n",
    "task80_blank_number = 20\n",
    "task72_movie_number = 72\n",
    "task72_blank_number = 20"
   ]
  },
  {
   "cell_type": "code",
   "execution_count": 46,
   "metadata": {},
   "outputs": [
    {
     "name": "stdout",
     "output_type": "stream",
     "text": [
      "videos number:  528\n"
     ]
    }
   ],
   "source": [
    "videos_names = []\n",
    "for i in range(1, len(video_db)):\n",
    "    if video_db['grade'][i] != 'j' and video_db['grade'][i] != 'NA':\n",
    "        videos_names.append(video_db['video_name'][i])\n",
    "print(\"videos number: \", len(videos_names))\n",
    "\n",
    "origin_videos_number = len(videos_names)"
   ]
  },
  {
   "cell_type": "code",
   "execution_count": 47,
   "metadata": {},
   "outputs": [],
   "source": [
    "random.shuffle(videos_names)\n",
    "task90_videos = videos_names[:task90_movie_number]\n",
    "task80_videos = videos_names[:task80_movie_number]\n",
    "task72_videos = videos_names[:task72_movie_number]"
   ]
  },
  {
   "cell_type": "code",
   "execution_count": 48,
   "metadata": {},
   "outputs": [],
   "source": [
    "def make_pilot_session(task_number,task_videos,blank_number):\n",
    "    \n",
    "    def make_pilot_run(run_number,task_videos,blank_number):\n",
    "        videos = copy.deepcopy(task_videos)\n",
    "        settings = copy.deepcopy(stimuli_settings_temp)\n",
    "        random.shuffle(videos)\n",
    "        settings[\"stimuli\"][\"movie_files\"] = videos\n",
    "        movie_number_per_blank = int(len(videos)/blank_number)\n",
    "        for i in range(blank_number):\n",
    "            settings['stimuli']['movie_files'].insert((i+1)*movie_number_per_blank+i,\"blank\")\n",
    "\n",
    "        with open(\n",
    "            str(settings_root_path)\n",
    "            + \"/\"\n",
    "            + \"pilot\"\n",
    "            + \"/experiment_settings_\"\n",
    "            + str(task_number).zfill(2)\n",
    "            + \"_run_\"\n",
    "            + str(run_number).zfill(2)\n",
    "            + \".yml\",\n",
    "            \"w\",\n",
    "        ) as outfile:\n",
    "            print(\n",
    "                str(settings_root_path)\n",
    "                + \"/\"\n",
    "                + \"pilot\"\n",
    "                + \"/experiment_settings_\"\n",
    "                + str(task_number).zfill(2)\n",
    "                + \"_run_\"\n",
    "                + str(run_number).zfill(2)\n",
    "                + \".yml\",\n",
    "                \"w\",\n",
    "            )\n",
    "            print(settings)\n",
    "            print(\" \")\n",
    "            yaml.dump(settings, outfile, default_flow_style=False)\n",
    "        return settings\n",
    "\n",
    "    run1_settings = make_pilot_run(1,task_videos,blank_number)\n",
    "    run2_settings = make_pilot_run(2,task_videos,blank_number)\n"
   ]
  },
  {
   "cell_type": "code",
   "execution_count": 49,
   "metadata": {},
   "outputs": [
    {
     "name": "stdout",
     "output_type": "stream",
     "text": [
      "/Users/shufanzhang/Documents/PhD/Arrow_of_time/arrow_of_time_spinoza/aot/data/experiment/settings/pilot/experiment_settings_90_run_01.yml w\n",
      "{'stimuli': {'movie_files': ['bing-vimeo_com_218382006_69.mp4', 'yt-DfgpLIP0jnk_105.mp4', 'yt-JWedZ-zeqgQ_52.mp4', 'comp_LA_A006_C004_v01_SDR_FINAL_PS_20180730_SDR_2K_AVC.mp4', 'yt-nA-1mD3ky2c_37.mp4', 'comp_CH_C007_C011_PSNK_v02_SDR_PS_FINAL_20180709_SDR_2K_AVC.mp4', 'blank', 'ILSVRC2015_train_00418000.mp4', 'comp_H012_C009_PS_v01_SDR_PS_20180925_SDR_2K_AVC.mp4', 'yt-A1XT1fT1c8w_24.mp4', 'comp_A103_C002_0205DG_v12_SDR_FINAL_20180706_SDR_2K_AVC.mp4', '2E67nCgRCGk_75.mp4', 'yt-H2y1th4WaWU_51.mp4', 'blank', 'yt-n_Nd9wu2Bv0_126.mp4', 'comp_A050_C004_1027V8_v16_SDR_FINAL_20180706_SDR_2K_AVC.mp4', 'BO_A018_C029_SDR_20190812_SDR_2K_AVC.mp4', 'yt-HuU5L5dVpdY_112.mp4', 'yt-ie418P-Euz4_1077.mp4', 'comp_LA_A011_C003_DGRN_LNFIX_STAB_v57_SDR_PS_20181002_SDR_2K_AVC.mp4', 'blank', 'b5-3.mp4', 'yt-pB-AcJ71tzA_20.mp4', 'yt-oAVThIM5Bhg_241.mp4', 'yt-HPjLtkyzN3E_101.mp4', 'yt-Bejo5TLEpg4_36.mp4', 'yt-sC9suzTl1Y0_66.mp4', 'blank', 'CR_A009_C007_SDR_20191113_SDR_2K_AVC.mp4', 'yt-Jcmf9XyBdMk_119.mp4', 'yt-NVYfkMFUxMk_466.mp4', 'yt-1PJ1RZ0bfls_4.mp4', 'yt-zLZ4NEUf9tM_19.mp4', 'yt-sdsSoU6XvU4_77.mp4', 'blank', 'video_inspire_uk_london_hampstead-heath_003.1080-h264.mp4', 'comp_GMT329_113NC_396B_1105_CHINA_v04_SDR_FINAL_20180706_F900F2700_SDR_2K_AVC.mp4', 'yt-hqp-Y6vAMeo_80.mp4', 'yt-CNqOVuIyWjA_18.mp4', 'yt-o0YqkYEeszM_7.mp4', 'yt-yk3vAySVlDw_30.mp4', 'blank', '10zlWVJ5aRw_5.mp4', 'yt-Z_irN6cNiD4_148.mp4', 'ILSVRC2015_train_00661004.mp4', 'yt--DS6U40wbF0_70.mp4', 'yt-T2Izta7lYZg_111.mp4', 'comp_N008_C009_PS_v01_SDR_PS_20180925_SDR_2K_AVC.mp4', 'blank', 'comp_C001_C005_PS_v01_SDR_PS_20180925_SDR_2K_AVC.mp4', 'yt-0EhQYCX_G6E_8.mp4', 'yt-LKd9mHnUVUQ_230.mp4', 'yt-LGjuqDnv9s8_5.mp4', 'yt-I2n2eo2zoZs_133.mp4', 'yt-ePxv64kEqa0_177.mp4', 'blank', 'video_inspire_sanfrancisco_castro_005.1080-h264.mp4', 'yt-s8Egk0W1Uck_39.mp4', 'yt-LUrQkhRC_Qg_10.mp4', 'ILSVRC2015_train_00552000.mp4', 'comp_A007_C017_01156B_v02_SDR_PS_20180925_SDR_2K_AVC.mp4', 'comp_GMT307_136NC_134K_8277_NY_NIGHT_01_v25_SDR_PS_20180907_SDR_2K_AVC.mp4', 'blank', 'yt-vMnSbsjGK9k_62.mp4', 'yt-Op12PQ4bqTw_11.mp4', 'yt-g_RCws799LQ_52.mp4', 'BO_A014_C008_SDR_20190719_SDR_2K_AVC.mp4', 'yt-NJP0Hg8Wj5k_1.mp4', 'yt-rslgzryFIGk_71.mp4', 'blank', 'yt-FH07OivQGOM_30.mp4', 'yt-auGMEMsCRJI_470.mp4', 'comp_C003_C003_PS_v01_SDR_PS_20180925_SDR_2K_AVC.mp4', 'yt-ZCHoBFItaxw_9.mp4', 'yt-oM9oaz2ytSY_140.mp4', 'yt-vOC7cBvdSw8_11.mp4', 'blank', 'comp_CH_C002_C005_PSNK_v05_SDR_PS_FINAL_20180709_SDR_2K_AVC.mp4', 'yt-caS_SY5WmeE_5.mp4', 'yt-VypeVQ7gJ_k_578.mp4', 'comp_L012_c002_PS_v01_SDR_PS_20180925_SDR_2K_AVC.mp4', 'ILSVRC2015_train_00707000.mp4', 'yt-iuqdW5OLSzc_6.mp4', 'blank', 'yt-LYStNoRhVO8_846.mp4', 'G010_C026_UHD_SDR_v02_2K_AVC.mp4', 'g201_CA_A016_C002_SDR_20191114_SDR_2K_AVC.mp4', 'yt-GpVFUM8K0yE_68.mp4', 'yt-s0lPpn3TAEo_90.mp4', 'yt-o96A55Szxkc_982.mp4', 'blank', 'yt-sa-EMUqvd5w_245.mp4', 'yt-XbpTfwsSXc8_124.mp4', 'ILSVRC2015_train_00532000.mp4', 'Y009_C015_SDR_2K_AVC.mp4', '8d08M6iP-vU_44.mp4', 'yt-3HpAmr5BApU_35.mp4', 'blank', 'comp_HK_H004_C008_PSNK_v19_SDR_PS_20180914_SDR_2K_AVC.mp4', 'comp_GMT329_117NC_401C_1037_IRELAND_TO_ASIA_v48_SDR_PS_FINAL_20180725_F0F6300_SDR_2K_AVC.mp4', 'yt-tqxZlasEvZA_15.mp4', 'yt-MXCxHM_Ms8A_15.mp4', 'video_inspire_oregon_lone-ranch-beach_00021.1080-h264.mp4', 'DL_B002_C011_SDR_20191122_SDR_2K_AVC.mp4', 'blank']}}\n",
      " \n",
      "/Users/shufanzhang/Documents/PhD/Arrow_of_time/arrow_of_time_spinoza/aot/data/experiment/settings/pilot/experiment_settings_90_run_02.yml w\n",
      "{'stimuli': {'movie_files': ['yt-NJP0Hg8Wj5k_1.mp4', 'yt-oAVThIM5Bhg_241.mp4', 'comp_GMT329_117NC_401C_1037_IRELAND_TO_ASIA_v48_SDR_PS_FINAL_20180725_F0F6300_SDR_2K_AVC.mp4', 'comp_A103_C002_0205DG_v12_SDR_FINAL_20180706_SDR_2K_AVC.mp4', 'comp_A050_C004_1027V8_v16_SDR_FINAL_20180706_SDR_2K_AVC.mp4', 'g201_CA_A016_C002_SDR_20191114_SDR_2K_AVC.mp4', 'blank', 'comp_HK_H004_C008_PSNK_v19_SDR_PS_20180914_SDR_2K_AVC.mp4', 'yt-Jcmf9XyBdMk_119.mp4', 'yt-Z_irN6cNiD4_148.mp4', 'yt-tqxZlasEvZA_15.mp4', 'yt-auGMEMsCRJI_470.mp4', 'yt-iuqdW5OLSzc_6.mp4', 'blank', 'bing-vimeo_com_218382006_69.mp4', 'ILSVRC2015_train_00532000.mp4', 'comp_H012_C009_PS_v01_SDR_PS_20180925_SDR_2K_AVC.mp4', 'video_inspire_oregon_lone-ranch-beach_00021.1080-h264.mp4', 'yt-FH07OivQGOM_30.mp4', 'yt-rslgzryFIGk_71.mp4', 'blank', 'yt-s8Egk0W1Uck_39.mp4', 'G010_C026_UHD_SDR_v02_2K_AVC.mp4', 'comp_C001_C005_PS_v01_SDR_PS_20180925_SDR_2K_AVC.mp4', 'ILSVRC2015_train_00661004.mp4', 'yt--DS6U40wbF0_70.mp4', 'comp_N008_C009_PS_v01_SDR_PS_20180925_SDR_2K_AVC.mp4', 'blank', 'DL_B002_C011_SDR_20191122_SDR_2K_AVC.mp4', 'yt-A1XT1fT1c8w_24.mp4', 'comp_LA_A011_C003_DGRN_LNFIX_STAB_v57_SDR_PS_20181002_SDR_2K_AVC.mp4', 'yt-3HpAmr5BApU_35.mp4', 'yt-XbpTfwsSXc8_124.mp4', 'yt-sC9suzTl1Y0_66.mp4', 'blank', 'comp_L012_c002_PS_v01_SDR_PS_20180925_SDR_2K_AVC.mp4', 'comp_GMT307_136NC_134K_8277_NY_NIGHT_01_v25_SDR_PS_20180907_SDR_2K_AVC.mp4', 'Y009_C015_SDR_2K_AVC.mp4', 'yt-0EhQYCX_G6E_8.mp4', '2E67nCgRCGk_75.mp4', 'yt-ie418P-Euz4_1077.mp4', 'blank', 'b5-3.mp4', 'yt-NVYfkMFUxMk_466.mp4', 'yt-o0YqkYEeszM_7.mp4', 'yt-LGjuqDnv9s8_5.mp4', 'BO_A018_C029_SDR_20190812_SDR_2K_AVC.mp4', 'yt-caS_SY5WmeE_5.mp4', 'blank', '8d08M6iP-vU_44.mp4', 'yt-CNqOVuIyWjA_18.mp4', 'yt-DfgpLIP0jnk_105.mp4', 'yt-zLZ4NEUf9tM_19.mp4', 'yt-yk3vAySVlDw_30.mp4', 'comp_GMT329_113NC_396B_1105_CHINA_v04_SDR_FINAL_20180706_F900F2700_SDR_2K_AVC.mp4', 'blank', 'ILSVRC2015_train_00418000.mp4', 'yt-LUrQkhRC_Qg_10.mp4', 'yt-nA-1mD3ky2c_37.mp4', 'yt-MXCxHM_Ms8A_15.mp4', 'comp_LA_A006_C004_v01_SDR_FINAL_PS_20180730_SDR_2K_AVC.mp4', 'yt-pB-AcJ71tzA_20.mp4', 'blank', 'comp_CH_C007_C011_PSNK_v02_SDR_PS_FINAL_20180709_SDR_2K_AVC.mp4', 'yt-ePxv64kEqa0_177.mp4', 'yt-HuU5L5dVpdY_112.mp4', 'video_inspire_sanfrancisco_castro_005.1080-h264.mp4', 'yt-sa-EMUqvd5w_245.mp4', 'yt-VypeVQ7gJ_k_578.mp4', 'blank', 'yt-g_RCws799LQ_52.mp4', 'yt-o96A55Szxkc_982.mp4', 'yt-GpVFUM8K0yE_68.mp4', 'yt-hqp-Y6vAMeo_80.mp4', 'yt-1PJ1RZ0bfls_4.mp4', 'yt-vMnSbsjGK9k_62.mp4', 'blank', 'yt-HPjLtkyzN3E_101.mp4', '10zlWVJ5aRw_5.mp4', 'yt-sdsSoU6XvU4_77.mp4', 'ILSVRC2015_train_00707000.mp4', 'yt-H2y1th4WaWU_51.mp4', 'comp_A007_C017_01156B_v02_SDR_PS_20180925_SDR_2K_AVC.mp4', 'blank', 'yt-oM9oaz2ytSY_140.mp4', 'yt-T2Izta7lYZg_111.mp4', 'yt-Op12PQ4bqTw_11.mp4', 'yt-s0lPpn3TAEo_90.mp4', 'BO_A014_C008_SDR_20190719_SDR_2K_AVC.mp4', 'yt-ZCHoBFItaxw_9.mp4', 'blank', 'yt-LYStNoRhVO8_846.mp4', 'yt-Bejo5TLEpg4_36.mp4', 'yt-JWedZ-zeqgQ_52.mp4', 'CR_A009_C007_SDR_20191113_SDR_2K_AVC.mp4', 'yt-I2n2eo2zoZs_133.mp4', 'ILSVRC2015_train_00552000.mp4', 'blank', 'comp_C003_C003_PS_v01_SDR_PS_20180925_SDR_2K_AVC.mp4', 'comp_CH_C002_C005_PSNK_v05_SDR_PS_FINAL_20180709_SDR_2K_AVC.mp4', 'video_inspire_uk_london_hampstead-heath_003.1080-h264.mp4', 'yt-n_Nd9wu2Bv0_126.mp4', 'yt-vOC7cBvdSw8_11.mp4', 'yt-LKd9mHnUVUQ_230.mp4', 'blank']}}\n",
      " \n",
      "/Users/shufanzhang/Documents/PhD/Arrow_of_time/arrow_of_time_spinoza/aot/data/experiment/settings/pilot/experiment_settings_80_run_01.yml w\n",
      "{'stimuli': {'movie_files': ['yt-o96A55Szxkc_982.mp4', 'Y009_C015_SDR_2K_AVC.mp4', 'yt-HuU5L5dVpdY_112.mp4', 'yt-NJP0Hg8Wj5k_1.mp4', 'blank', 'comp_A007_C017_01156B_v02_SDR_PS_20180925_SDR_2K_AVC.mp4', 'yt-LGjuqDnv9s8_5.mp4', 'yt-ZCHoBFItaxw_9.mp4', 'yt-caS_SY5WmeE_5.mp4', 'blank', 'g201_CA_A016_C002_SDR_20191114_SDR_2K_AVC.mp4', 'yt-pB-AcJ71tzA_20.mp4', 'comp_GMT329_117NC_401C_1037_IRELAND_TO_ASIA_v48_SDR_PS_FINAL_20180725_F0F6300_SDR_2K_AVC.mp4', 'yt-s0lPpn3TAEo_90.mp4', 'blank', 'G010_C026_UHD_SDR_v02_2K_AVC.mp4', 'yt-ePxv64kEqa0_177.mp4', 'comp_C001_C005_PS_v01_SDR_PS_20180925_SDR_2K_AVC.mp4', 'comp_N008_C009_PS_v01_SDR_PS_20180925_SDR_2K_AVC.mp4', 'blank', 'yt--DS6U40wbF0_70.mp4', 'yt-MXCxHM_Ms8A_15.mp4', 'yt-JWedZ-zeqgQ_52.mp4', 'yt-oM9oaz2ytSY_140.mp4', 'blank', 'yt-H2y1th4WaWU_51.mp4', 'yt-HPjLtkyzN3E_101.mp4', 'ILSVRC2015_train_00707000.mp4', 'yt-rslgzryFIGk_71.mp4', 'blank', 'yt-LUrQkhRC_Qg_10.mp4', 'yt-GpVFUM8K0yE_68.mp4', 'yt-T2Izta7lYZg_111.mp4', 'yt-sC9suzTl1Y0_66.mp4', 'blank', 'yt-iuqdW5OLSzc_6.mp4', 'b5-3.mp4', 'yt-VypeVQ7gJ_k_578.mp4', 'yt-zLZ4NEUf9tM_19.mp4', 'blank', 'yt-nA-1mD3ky2c_37.mp4', 'yt-ie418P-Euz4_1077.mp4', '10zlWVJ5aRw_5.mp4', 'comp_C003_C003_PS_v01_SDR_PS_20180925_SDR_2K_AVC.mp4', 'blank', 'yt-yk3vAySVlDw_30.mp4', 'yt-DfgpLIP0jnk_105.mp4', 'yt-Bejo5TLEpg4_36.mp4', 'BO_A014_C008_SDR_20190719_SDR_2K_AVC.mp4', 'blank', 'comp_LA_A011_C003_DGRN_LNFIX_STAB_v57_SDR_PS_20181002_SDR_2K_AVC.mp4', 'yt-vOC7cBvdSw8_11.mp4', 'yt-tqxZlasEvZA_15.mp4', 'DL_B002_C011_SDR_20191122_SDR_2K_AVC.mp4', 'blank', 'ILSVRC2015_train_00661004.mp4', 'yt-n_Nd9wu2Bv0_126.mp4', 'video_inspire_uk_london_hampstead-heath_003.1080-h264.mp4', 'yt-sa-EMUqvd5w_245.mp4', 'blank', 'yt-sdsSoU6XvU4_77.mp4', 'yt-LYStNoRhVO8_846.mp4', 'comp_GMT329_113NC_396B_1105_CHINA_v04_SDR_FINAL_20180706_F900F2700_SDR_2K_AVC.mp4', 'comp_GMT307_136NC_134K_8277_NY_NIGHT_01_v25_SDR_PS_20180907_SDR_2K_AVC.mp4', 'blank', 'comp_A103_C002_0205DG_v12_SDR_FINAL_20180706_SDR_2K_AVC.mp4', 'bing-vimeo_com_218382006_69.mp4', 'comp_LA_A006_C004_v01_SDR_FINAL_PS_20180730_SDR_2K_AVC.mp4', 'comp_A050_C004_1027V8_v16_SDR_FINAL_20180706_SDR_2K_AVC.mp4', 'blank', 'yt-1PJ1RZ0bfls_4.mp4', 'comp_CH_C002_C005_PSNK_v05_SDR_PS_FINAL_20180709_SDR_2K_AVC.mp4', 'yt-0EhQYCX_G6E_8.mp4', 'video_inspire_oregon_lone-ranch-beach_00021.1080-h264.mp4', 'blank', 'yt-auGMEMsCRJI_470.mp4', 'yt-LKd9mHnUVUQ_230.mp4', 'ILSVRC2015_train_00532000.mp4', 'comp_L012_c002_PS_v01_SDR_PS_20180925_SDR_2K_AVC.mp4', 'blank', 'yt-FH07OivQGOM_30.mp4', 'yt-XbpTfwsSXc8_124.mp4', 'yt-o0YqkYEeszM_7.mp4', 'ILSVRC2015_train_00418000.mp4', 'blank', 'CR_A009_C007_SDR_20191113_SDR_2K_AVC.mp4', 'yt-hqp-Y6vAMeo_80.mp4', 'yt-Z_irN6cNiD4_148.mp4', 'yt-g_RCws799LQ_52.mp4', 'blank', 'yt-vMnSbsjGK9k_62.mp4', 'comp_HK_H004_C008_PSNK_v19_SDR_PS_20180914_SDR_2K_AVC.mp4', 'yt-s8Egk0W1Uck_39.mp4', '2E67nCgRCGk_75.mp4', 'blank', 'yt-Op12PQ4bqTw_11.mp4', 'ILSVRC2015_train_00552000.mp4', 'BO_A018_C029_SDR_20190812_SDR_2K_AVC.mp4', 'yt-NVYfkMFUxMk_466.mp4', 'blank']}}\n",
      " \n",
      "/Users/shufanzhang/Documents/PhD/Arrow_of_time/arrow_of_time_spinoza/aot/data/experiment/settings/pilot/experiment_settings_80_run_02.yml w\n",
      "{'stimuli': {'movie_files': ['g201_CA_A016_C002_SDR_20191114_SDR_2K_AVC.mp4', 'yt-MXCxHM_Ms8A_15.mp4', 'yt-LGjuqDnv9s8_5.mp4', 'ILSVRC2015_train_00552000.mp4', 'blank', 'comp_LA_A011_C003_DGRN_LNFIX_STAB_v57_SDR_PS_20181002_SDR_2K_AVC.mp4', 'yt-oM9oaz2ytSY_140.mp4', 'yt-g_RCws799LQ_52.mp4', 'yt-yk3vAySVlDw_30.mp4', 'blank', 'video_inspire_oregon_lone-ranch-beach_00021.1080-h264.mp4', 'comp_A103_C002_0205DG_v12_SDR_FINAL_20180706_SDR_2K_AVC.mp4', 'yt-XbpTfwsSXc8_124.mp4', 'comp_N008_C009_PS_v01_SDR_PS_20180925_SDR_2K_AVC.mp4', 'blank', 'yt-NVYfkMFUxMk_466.mp4', 'comp_C003_C003_PS_v01_SDR_PS_20180925_SDR_2K_AVC.mp4', 'yt-ZCHoBFItaxw_9.mp4', 'yt-H2y1th4WaWU_51.mp4', 'blank', 'yt-tqxZlasEvZA_15.mp4', 'yt-iuqdW5OLSzc_6.mp4', 'Y009_C015_SDR_2K_AVC.mp4', 'yt-LUrQkhRC_Qg_10.mp4', 'blank', 'yt--DS6U40wbF0_70.mp4', 'yt-ePxv64kEqa0_177.mp4', 'yt-n_Nd9wu2Bv0_126.mp4', 'yt-Z_irN6cNiD4_148.mp4', 'blank', 'yt-sdsSoU6XvU4_77.mp4', 'DL_B002_C011_SDR_20191122_SDR_2K_AVC.mp4', 'comp_GMT307_136NC_134K_8277_NY_NIGHT_01_v25_SDR_PS_20180907_SDR_2K_AVC.mp4', 'b5-3.mp4', 'blank', 'comp_A007_C017_01156B_v02_SDR_PS_20180925_SDR_2K_AVC.mp4', 'G010_C026_UHD_SDR_v02_2K_AVC.mp4', 'comp_GMT329_113NC_396B_1105_CHINA_v04_SDR_FINAL_20180706_F900F2700_SDR_2K_AVC.mp4', 'yt-s0lPpn3TAEo_90.mp4', 'blank', 'comp_C001_C005_PS_v01_SDR_PS_20180925_SDR_2K_AVC.mp4', '2E67nCgRCGk_75.mp4', 'yt-o96A55Szxkc_982.mp4', 'yt-auGMEMsCRJI_470.mp4', 'blank', 'CR_A009_C007_SDR_20191113_SDR_2K_AVC.mp4', 'yt-Bejo5TLEpg4_36.mp4', 'yt-nA-1mD3ky2c_37.mp4', 'yt-sC9suzTl1Y0_66.mp4', 'blank', 'ILSVRC2015_train_00661004.mp4', 'video_inspire_uk_london_hampstead-heath_003.1080-h264.mp4', 'comp_LA_A006_C004_v01_SDR_FINAL_PS_20180730_SDR_2K_AVC.mp4', '10zlWVJ5aRw_5.mp4', 'blank', 'yt-s8Egk0W1Uck_39.mp4', 'yt-LKd9mHnUVUQ_230.mp4', 'yt-DfgpLIP0jnk_105.mp4', 'comp_CH_C002_C005_PSNK_v05_SDR_PS_FINAL_20180709_SDR_2K_AVC.mp4', 'blank', 'comp_HK_H004_C008_PSNK_v19_SDR_PS_20180914_SDR_2K_AVC.mp4', 'BO_A014_C008_SDR_20190719_SDR_2K_AVC.mp4', 'yt-rslgzryFIGk_71.mp4', 'ILSVRC2015_train_00707000.mp4', 'blank', 'yt-hqp-Y6vAMeo_80.mp4', 'yt-HPjLtkyzN3E_101.mp4', 'yt-sa-EMUqvd5w_245.mp4', 'BO_A018_C029_SDR_20190812_SDR_2K_AVC.mp4', 'blank', 'yt-vMnSbsjGK9k_62.mp4', 'ILSVRC2015_train_00418000.mp4', 'yt-o0YqkYEeszM_7.mp4', 'yt-GpVFUM8K0yE_68.mp4', 'blank', 'yt-vOC7cBvdSw8_11.mp4', 'yt-pB-AcJ71tzA_20.mp4', 'yt-LYStNoRhVO8_846.mp4', 'yt-FH07OivQGOM_30.mp4', 'blank', 'yt-VypeVQ7gJ_k_578.mp4', 'yt-0EhQYCX_G6E_8.mp4', 'yt-HuU5L5dVpdY_112.mp4', 'comp_A050_C004_1027V8_v16_SDR_FINAL_20180706_SDR_2K_AVC.mp4', 'blank', 'bing-vimeo_com_218382006_69.mp4', 'yt-JWedZ-zeqgQ_52.mp4', 'yt-zLZ4NEUf9tM_19.mp4', 'comp_GMT329_117NC_401C_1037_IRELAND_TO_ASIA_v48_SDR_PS_FINAL_20180725_F0F6300_SDR_2K_AVC.mp4', 'blank', 'yt-Op12PQ4bqTw_11.mp4', 'yt-T2Izta7lYZg_111.mp4', 'yt-1PJ1RZ0bfls_4.mp4', 'yt-caS_SY5WmeE_5.mp4', 'blank', 'yt-NJP0Hg8Wj5k_1.mp4', 'yt-ie418P-Euz4_1077.mp4', 'comp_L012_c002_PS_v01_SDR_PS_20180925_SDR_2K_AVC.mp4', 'ILSVRC2015_train_00532000.mp4', 'blank']}}\n",
      " \n",
      "/Users/shufanzhang/Documents/PhD/Arrow_of_time/arrow_of_time_spinoza/aot/data/experiment/settings/pilot/experiment_settings_72_run_01.yml w\n",
      "{'stimuli': {'movie_files': ['yt-GpVFUM8K0yE_68.mp4', 'comp_A007_C017_01156B_v02_SDR_PS_20180925_SDR_2K_AVC.mp4', 'yt-auGMEMsCRJI_470.mp4', 'blank', 'yt-zLZ4NEUf9tM_19.mp4', 'yt-LUrQkhRC_Qg_10.mp4', 'yt-1PJ1RZ0bfls_4.mp4', 'blank', 'yt-VypeVQ7gJ_k_578.mp4', 'ILSVRC2015_train_00418000.mp4', 'yt-FH07OivQGOM_30.mp4', 'blank', 'yt-rslgzryFIGk_71.mp4', 'yt-LYStNoRhVO8_846.mp4', '2E67nCgRCGk_75.mp4', 'blank', 'yt-yk3vAySVlDw_30.mp4', 'yt-nA-1mD3ky2c_37.mp4', 'yt-HPjLtkyzN3E_101.mp4', 'blank', 'video_inspire_uk_london_hampstead-heath_003.1080-h264.mp4', 'comp_N008_C009_PS_v01_SDR_PS_20180925_SDR_2K_AVC.mp4', 'yt-tqxZlasEvZA_15.mp4', 'blank', 'yt-ePxv64kEqa0_177.mp4', 'yt-T2Izta7lYZg_111.mp4', 'yt-Z_irN6cNiD4_148.mp4', 'blank', 'BO_A014_C008_SDR_20190719_SDR_2K_AVC.mp4', 'yt--DS6U40wbF0_70.mp4', 'yt-XbpTfwsSXc8_124.mp4', 'blank', 'yt-o96A55Szxkc_982.mp4', 'ILSVRC2015_train_00661004.mp4', 'comp_A050_C004_1027V8_v16_SDR_FINAL_20180706_SDR_2K_AVC.mp4', 'blank', 'yt-vMnSbsjGK9k_62.mp4', 'yt-sa-EMUqvd5w_245.mp4', 'yt-Op12PQ4bqTw_11.mp4', 'blank', 'yt-vOC7cBvdSw8_11.mp4', 'yt-HuU5L5dVpdY_112.mp4', 'ILSVRC2015_train_00707000.mp4', 'blank', 'comp_CH_C002_C005_PSNK_v05_SDR_PS_FINAL_20180709_SDR_2K_AVC.mp4', 'ILSVRC2015_train_00532000.mp4', 'comp_L012_c002_PS_v01_SDR_PS_20180925_SDR_2K_AVC.mp4', 'blank', 'yt-MXCxHM_Ms8A_15.mp4', 'comp_GMT329_117NC_401C_1037_IRELAND_TO_ASIA_v48_SDR_PS_FINAL_20180725_F0F6300_SDR_2K_AVC.mp4', 'G010_C026_UHD_SDR_v02_2K_AVC.mp4', 'blank', 'yt-LKd9mHnUVUQ_230.mp4', 'yt-sdsSoU6XvU4_77.mp4', 'yt-s0lPpn3TAEo_90.mp4', 'blank', 'yt-caS_SY5WmeE_5.mp4', 'yt-DfgpLIP0jnk_105.mp4', 'comp_C003_C003_PS_v01_SDR_PS_20180925_SDR_2K_AVC.mp4', 'blank', 'yt-g_RCws799LQ_52.mp4', 'DL_B002_C011_SDR_20191122_SDR_2K_AVC.mp4', 'yt-Bejo5TLEpg4_36.mp4', 'blank', 'yt-sC9suzTl1Y0_66.mp4', 'yt-JWedZ-zeqgQ_52.mp4', 'yt-hqp-Y6vAMeo_80.mp4', 'blank', 'bing-vimeo_com_218382006_69.mp4', 'comp_GMT329_113NC_396B_1105_CHINA_v04_SDR_FINAL_20180706_F900F2700_SDR_2K_AVC.mp4', 'yt-LGjuqDnv9s8_5.mp4', 'blank', 'comp_LA_A006_C004_v01_SDR_FINAL_PS_20180730_SDR_2K_AVC.mp4', 'comp_GMT307_136NC_134K_8277_NY_NIGHT_01_v25_SDR_PS_20180907_SDR_2K_AVC.mp4', 'comp_LA_A011_C003_DGRN_LNFIX_STAB_v57_SDR_PS_20181002_SDR_2K_AVC.mp4', 'blank', 'yt-NVYfkMFUxMk_466.mp4', 'yt-0EhQYCX_G6E_8.mp4', 'yt-s8Egk0W1Uck_39.mp4', 'blank', 'yt-ie418P-Euz4_1077.mp4', 'yt-pB-AcJ71tzA_20.mp4', 'CR_A009_C007_SDR_20191113_SDR_2K_AVC.mp4', '10zlWVJ5aRw_5.mp4', 'comp_C001_C005_PS_v01_SDR_PS_20180925_SDR_2K_AVC.mp4', 'comp_A103_C002_0205DG_v12_SDR_FINAL_20180706_SDR_2K_AVC.mp4', 'yt-oM9oaz2ytSY_140.mp4', 'yt-NJP0Hg8Wj5k_1.mp4', 'yt-H2y1th4WaWU_51.mp4', 'yt-o0YqkYEeszM_7.mp4', 'comp_HK_H004_C008_PSNK_v19_SDR_PS_20180914_SDR_2K_AVC.mp4', 'ILSVRC2015_train_00552000.mp4']}}\n",
      " \n",
      "/Users/shufanzhang/Documents/PhD/Arrow_of_time/arrow_of_time_spinoza/aot/data/experiment/settings/pilot/experiment_settings_72_run_02.yml w\n",
      "{'stimuli': {'movie_files': ['yt-LGjuqDnv9s8_5.mp4', 'comp_A050_C004_1027V8_v16_SDR_FINAL_20180706_SDR_2K_AVC.mp4', 'yt-HuU5L5dVpdY_112.mp4', 'blank', 'comp_N008_C009_PS_v01_SDR_PS_20180925_SDR_2K_AVC.mp4', 'comp_GMT329_113NC_396B_1105_CHINA_v04_SDR_FINAL_20180706_F900F2700_SDR_2K_AVC.mp4', 'comp_CH_C002_C005_PSNK_v05_SDR_PS_FINAL_20180709_SDR_2K_AVC.mp4', 'blank', 'yt-VypeVQ7gJ_k_578.mp4', 'ILSVRC2015_train_00418000.mp4', 'comp_LA_A011_C003_DGRN_LNFIX_STAB_v57_SDR_PS_20181002_SDR_2K_AVC.mp4', 'blank', 'yt-FH07OivQGOM_30.mp4', 'comp_C001_C005_PS_v01_SDR_PS_20180925_SDR_2K_AVC.mp4', 'yt-g_RCws799LQ_52.mp4', 'blank', 'yt-ePxv64kEqa0_177.mp4', 'video_inspire_uk_london_hampstead-heath_003.1080-h264.mp4', 'yt-yk3vAySVlDw_30.mp4', 'blank', 'yt-sdsSoU6XvU4_77.mp4', 'yt-HPjLtkyzN3E_101.mp4', 'yt-XbpTfwsSXc8_124.mp4', 'blank', 'ILSVRC2015_train_00552000.mp4', 'yt-JWedZ-zeqgQ_52.mp4', 'yt-NVYfkMFUxMk_466.mp4', 'blank', 'yt-oM9oaz2ytSY_140.mp4', 'yt-sC9suzTl1Y0_66.mp4', 'comp_HK_H004_C008_PSNK_v19_SDR_PS_20180914_SDR_2K_AVC.mp4', 'blank', 'yt-Op12PQ4bqTw_11.mp4', 'yt-o96A55Szxkc_982.mp4', 'yt-nA-1mD3ky2c_37.mp4', 'blank', 'ILSVRC2015_train_00532000.mp4', 'yt-0EhQYCX_G6E_8.mp4', 'comp_A103_C002_0205DG_v12_SDR_FINAL_20180706_SDR_2K_AVC.mp4', 'blank', 'CR_A009_C007_SDR_20191113_SDR_2K_AVC.mp4', 'comp_C003_C003_PS_v01_SDR_PS_20180925_SDR_2K_AVC.mp4', 'yt-caS_SY5WmeE_5.mp4', 'blank', 'yt-LUrQkhRC_Qg_10.mp4', 'yt-rslgzryFIGk_71.mp4', 'yt-T2Izta7lYZg_111.mp4', 'blank', 'yt-sa-EMUqvd5w_245.mp4', 'yt-s0lPpn3TAEo_90.mp4', 'yt-LYStNoRhVO8_846.mp4', 'blank', 'yt-LKd9mHnUVUQ_230.mp4', 'yt-tqxZlasEvZA_15.mp4', 'yt--DS6U40wbF0_70.mp4', 'blank', 'comp_GMT329_117NC_401C_1037_IRELAND_TO_ASIA_v48_SDR_PS_FINAL_20180725_F0F6300_SDR_2K_AVC.mp4', 'yt-zLZ4NEUf9tM_19.mp4', 'yt-1PJ1RZ0bfls_4.mp4', 'blank', 'yt-DfgpLIP0jnk_105.mp4', 'yt-Z_irN6cNiD4_148.mp4', 'comp_L012_c002_PS_v01_SDR_PS_20180925_SDR_2K_AVC.mp4', 'blank', '10zlWVJ5aRw_5.mp4', 'yt-Bejo5TLEpg4_36.mp4', 'G010_C026_UHD_SDR_v02_2K_AVC.mp4', 'blank', 'comp_GMT307_136NC_134K_8277_NY_NIGHT_01_v25_SDR_PS_20180907_SDR_2K_AVC.mp4', 'comp_A007_C017_01156B_v02_SDR_PS_20180925_SDR_2K_AVC.mp4', 'yt-hqp-Y6vAMeo_80.mp4', 'blank', 'yt-pB-AcJ71tzA_20.mp4', 'comp_LA_A006_C004_v01_SDR_FINAL_PS_20180730_SDR_2K_AVC.mp4', 'DL_B002_C011_SDR_20191122_SDR_2K_AVC.mp4', 'blank', 'ILSVRC2015_train_00661004.mp4', 'ILSVRC2015_train_00707000.mp4', 'yt-ie418P-Euz4_1077.mp4', 'blank', 'yt-auGMEMsCRJI_470.mp4', 'yt-o0YqkYEeszM_7.mp4', 'yt-s8Egk0W1Uck_39.mp4', '2E67nCgRCGk_75.mp4', 'yt-vOC7cBvdSw8_11.mp4', 'yt-NJP0Hg8Wj5k_1.mp4', 'yt-H2y1th4WaWU_51.mp4', 'yt-MXCxHM_Ms8A_15.mp4', 'bing-vimeo_com_218382006_69.mp4', 'yt-GpVFUM8K0yE_68.mp4', 'yt-vMnSbsjGK9k_62.mp4', 'BO_A014_C008_SDR_20190719_SDR_2K_AVC.mp4']}}\n",
      " \n"
     ]
    }
   ],
   "source": [
    "make_pilot_session(90,task90_videos,task90_blank_number)\n",
    "make_pilot_session(80,task80_videos,task80_blank_number)\n",
    "make_pilot_session(72,task72_videos,task72_blank_number) # 72 movies, 20 blanks but 72/20 = 3.6 there is a problem"
   ]
  }
 ],
 "metadata": {
  "kernelspec": {
   "display_name": "base",
   "language": "python",
   "name": "python3"
  },
  "language_info": {
   "codemirror_mode": {
    "name": "ipython",
    "version": 3
   },
   "file_extension": ".py",
   "mimetype": "text/x-python",
   "name": "python",
   "nbconvert_exporter": "python",
   "pygments_lexer": "ipython3",
   "version": "3.9.12"
  },
  "orig_nbformat": 4
 },
 "nbformat": 4,
 "nbformat_minor": 2
}
