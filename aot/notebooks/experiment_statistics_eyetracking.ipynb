{
 "cells": [
  {
   "cell_type": "code",
   "execution_count": 58,
   "metadata": {},
   "outputs": [],
   "source": [
    "import os\n",
    "import pandas as pd\n",
    "import yaml\n",
    "import copy\n",
    "import random\n",
    "from pathlib import Path\n",
    "import matplotlib.pyplot as plt\n",
    "from copy import deepcopy\n",
    "\n",
    "import aot"
   ]
  },
  {
   "cell_type": "code",
   "execution_count": 59,
   "metadata": {},
   "outputs": [
    {
     "name": "stdout",
     "output_type": "stream",
     "text": [
      "videos number:  1548\n"
     ]
    }
   ],
   "source": [
    "base_dir = Path(aot.__path__[0])\n",
    "core_expt_yaml_path = base_dir / \"experiment/core_exp_settings.yml\"\n",
    "stimuli_temp_path = base_dir / \"experiment/stimuli_settings_temp.yml\"\n",
    "core_settings = yaml.load(open(core_expt_yaml_path), Loader=yaml.FullLoader)\n",
    "stimuli_settings_temp = yaml.load(open(stimuli_temp_path), Loader=yaml.FullLoader)\n",
    "\n",
    "settings_root_path = base_dir / core_settings[\"paths\"][\"settings_path\"]\n",
    "video_db_path = base_dir / \"data/videos/database_originals.tsv\"\n",
    "video_db = pd.read_csv(video_db_path, sep=\"\\t\")\n",
    "eyetracking_settings_path = settings_root_path / \"eyetracking\"\n",
    "subject_number = core_settings[\"various\"][\"subject_number_eyetracking\"]\n",
    "session_number = core_settings[\"various\"][\"session_number_eyetracking\"]\n",
    "run_number = core_settings[\"various\"][\"run_number_eyetracking\"]\n",
    "blank_number_per_run = core_settings[\"various\"][\n",
    "    \"blank_number_per_run\"\n",
    "]  # only for main run\n",
    "unique_video_number_per_session = core_settings[\"various\"][\n",
    "    \"unique_video_number_per_session\"\n",
    "]\n",
    "video_number_per_run_main = int((unique_video_number_per_session * 4) / run_number)\n",
    "\n",
    "videos_names = []\n",
    "for i in range(1, len(video_db)):\n",
    "    if (\n",
    "        video_db[\"grade\"][i] != \"k\" and video_db[\"grade\"][i] != \"l\"\n",
    "    ):  # video_db['grade'][i] == 'j' or video_db['grade'][i] == 'NA':  \n",
    "        videos_names.append(video_db[\"video_name\"][i])\n",
    "print(\"videos number: \", len(videos_names))\n",
    "\n",
    "origin_videos_number = len(videos_names)\n",
    "\n",
    "video_number_per_run_grading = int(\n",
    "    origin_videos_number / run_number\n",
    ")  # only 1 subject and 1 session for grading"
   ]
  },
  {
   "cell_type": "code",
   "execution_count": 60,
   "metadata": {},
   "outputs": [],
   "source": [
    "def read_settings_file(subject, ses, run):\n",
    "    settings_file = (\n",
    "        eyetracking_settings_path\n",
    "        / f\"experiment_settings_sub_{str(subject).zfill(2)}_ses_{str(ses).zfill(2)}_run_{str(run).zfill(2)}.yml\"\n",
    "    )\n",
    "    settings = yaml.load(open(settings_file), Loader=yaml.FullLoader)\n",
    "    return settings"
   ]
  },
  {
   "cell_type": "code",
   "execution_count": 61,
   "metadata": {},
   "outputs": [],
   "source": [
    "def read_settings_files_session(\n",
    "    subject, ses\n",
    "):  # return a list of settings files for a given session\n",
    "    settings_files = [\n",
    "        read_settings_file(subject, ses, run) for run in range(1, run_number + 1)\n",
    "    ]\n",
    "    sessions_movies = [\n",
    "        settings[\"stimuli\"][\"movie_files\"] for settings in settings_files\n",
    "    ]\n",
    "    return sessions_movies"
   ]
  },
  {
   "cell_type": "code",
   "execution_count": 62,
   "metadata": {},
   "outputs": [],
   "source": [
    "def check_uniqe_video_number_bothdirection(sub, ses):\n",
    "    sessions_movies = read_settings_files_session(sub, ses)\n",
    "    video_names = []\n",
    "    for movies in sessions_movies:\n",
    "        for movie in movies:\n",
    "            video_names.append(movie.split(\"/\")[-1].split(\".\")[0])\n",
    "    videoset = set(video_names)\n",
    "    print(videoset)\n",
    "    print(\"unique video number: \", len(videoset))\n",
    "    return videoset\n",
    "\n",
    "\n",
    "def check_uniqe_video_number_uniqe_original(sub, ses):\n",
    "    def deR(name):\n",
    "        return name[2:]\n",
    "    sessions_movies = read_settings_files_session(sub, ses)\n",
    "    video_names = []\n",
    "    for movies in sessions_movies:\n",
    "        for movie in movies:\n",
    "            video_names.append(movie.split(\"/\")[-1].split(\".\")[0])\n",
    "    videoset = set(video_names)\n",
    "    new_video_list = []\n",
    "    for video in videoset:\n",
    "        if video[0] == \"R\":\n",
    "            new_video_list.append(deR(video))\n",
    "        else:\n",
    "            new_video_list.append(video) \n",
    "    \n",
    "    videoset = set(new_video_list)\n",
    "    #print(videoset)\n",
    "    print(\"unique video number sub {sub} ses {ses}: \".format([sub,ses]), len(videoset))\n",
    "   \n",
    "    return videoset"
   ]
  },
  {
   "cell_type": "code",
   "execution_count": 63,
   "metadata": {},
   "outputs": [
    {
     "ename": "KeyError",
     "evalue": "'sub'",
     "output_type": "error",
     "traceback": [
      "\u001b[0;31m---------------------------------------------------------------------------\u001b[0m",
      "\u001b[0;31mKeyError\u001b[0m                                  Traceback (most recent call last)",
      "\u001b[1;32m/Users/shufanzhang/Documents/PhD/Arrow_of_time/arrow_of_time/aot/notebooks/experiment_statistics_eyetracking.ipynb Cell 6\u001b[0m line \u001b[0;36m<cell line: 2>\u001b[0;34m()\u001b[0m\n\u001b[1;32m      <a href='vscode-notebook-cell:/Users/shufanzhang/Documents/PhD/Arrow_of_time/arrow_of_time/aot/notebooks/experiment_statistics_eyetracking.ipynb#W5sZmlsZQ%3D%3D?line=0'>1</a>\u001b[0m \u001b[39m# check_uniqe_video_number_bothdirection(1, 3)\u001b[39;00m\n\u001b[0;32m----> <a href='vscode-notebook-cell:/Users/shufanzhang/Documents/PhD/Arrow_of_time/arrow_of_time/aot/notebooks/experiment_statistics_eyetracking.ipynb#W5sZmlsZQ%3D%3D?line=1'>2</a>\u001b[0m check_uniqe_video_number_uniqe_original(\u001b[39m1\u001b[39;49m, \u001b[39m3\u001b[39;49m)\n\u001b[1;32m      <a href='vscode-notebook-cell:/Users/shufanzhang/Documents/PhD/Arrow_of_time/arrow_of_time/aot/notebooks/experiment_statistics_eyetracking.ipynb#W5sZmlsZQ%3D%3D?line=2'>3</a>\u001b[0m \u001b[39mfor\u001b[39;00m sub \u001b[39min\u001b[39;00m \u001b[39mrange\u001b[39m(\u001b[39m1\u001b[39m, subject_number \u001b[39m+\u001b[39m \u001b[39m1\u001b[39m):\n\u001b[1;32m      <a href='vscode-notebook-cell:/Users/shufanzhang/Documents/PhD/Arrow_of_time/arrow_of_time/aot/notebooks/experiment_statistics_eyetracking.ipynb#W5sZmlsZQ%3D%3D?line=3'>4</a>\u001b[0m     \u001b[39mfor\u001b[39;00m ses \u001b[39min\u001b[39;00m \u001b[39mrange\u001b[39m(\u001b[39m1\u001b[39m, session_number \u001b[39m+\u001b[39m \u001b[39m1\u001b[39m):\n",
      "\u001b[1;32m/Users/shufanzhang/Documents/PhD/Arrow_of_time/arrow_of_time/aot/notebooks/experiment_statistics_eyetracking.ipynb Cell 6\u001b[0m line \u001b[0;36mcheck_uniqe_video_number_uniqe_original\u001b[0;34m(sub, ses)\u001b[0m\n\u001b[1;32m     <a href='vscode-notebook-cell:/Users/shufanzhang/Documents/PhD/Arrow_of_time/arrow_of_time/aot/notebooks/experiment_statistics_eyetracking.ipynb#W5sZmlsZQ%3D%3D?line=28'>29</a>\u001b[0m videoset \u001b[39m=\u001b[39m \u001b[39mset\u001b[39m(new_video_list)\n\u001b[1;32m     <a href='vscode-notebook-cell:/Users/shufanzhang/Documents/PhD/Arrow_of_time/arrow_of_time/aot/notebooks/experiment_statistics_eyetracking.ipynb#W5sZmlsZQ%3D%3D?line=29'>30</a>\u001b[0m \u001b[39m#print(videoset)\u001b[39;00m\n\u001b[0;32m---> <a href='vscode-notebook-cell:/Users/shufanzhang/Documents/PhD/Arrow_of_time/arrow_of_time/aot/notebooks/experiment_statistics_eyetracking.ipynb#W5sZmlsZQ%3D%3D?line=30'>31</a>\u001b[0m \u001b[39mprint\u001b[39m(\u001b[39m\"\u001b[39;49m\u001b[39munique video number sub \u001b[39;49m\u001b[39m{sub}\u001b[39;49;00m\u001b[39m ses \u001b[39;49m\u001b[39m{ses}\u001b[39;49;00m\u001b[39m: \u001b[39;49m\u001b[39m\"\u001b[39;49m\u001b[39m.\u001b[39;49mformat(sub,ses), \u001b[39mlen\u001b[39m(videoset))\n\u001b[1;32m     <a href='vscode-notebook-cell:/Users/shufanzhang/Documents/PhD/Arrow_of_time/arrow_of_time/aot/notebooks/experiment_statistics_eyetracking.ipynb#W5sZmlsZQ%3D%3D?line=32'>33</a>\u001b[0m \u001b[39mreturn\u001b[39;00m videoset\n",
      "\u001b[0;31mKeyError\u001b[0m: 'sub'"
     ]
    }
   ],
   "source": [
    "# check_uniqe_video_number_bothdirection(1, 3)\n",
    "check_uniqe_video_number_uniqe_original(1, 3)\n",
    "for sub in range(1, subject_number + 1):\n",
    "    for ses in range(1, session_number + 1):\n",
    "        check_uniqe_video_number_uniqe_original(sub, ses)"
   ]
  }
 ],
 "metadata": {
  "kernelspec": {
   "display_name": "base",
   "language": "python",
   "name": "python3"
  },
  "language_info": {
   "codemirror_mode": {
    "name": "ipython",
    "version": 3
   },
   "file_extension": ".py",
   "mimetype": "text/x-python",
   "name": "python",
   "nbconvert_exporter": "python",
   "pygments_lexer": "ipython3",
   "version": "3.9.12"
  }
 },
 "nbformat": 4,
 "nbformat_minor": 2
}
