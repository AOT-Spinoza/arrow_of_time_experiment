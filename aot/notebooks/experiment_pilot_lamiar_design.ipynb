{
 "cells": [
  {
   "cell_type": "code",
   "execution_count": 13,
   "metadata": {},
   "outputs": [],
   "source": [
    "import os\n",
    "import pandas as pd\n",
    "import yaml\n",
    "import copy\n",
    "import random\n",
    "from pathlib import Path\n",
    "import matplotlib.pyplot as plt\n",
    "from copy import deepcopy\n",
    "import copy as cp\n",
    "\n",
    "import aot"
   ]
  },
  {
   "cell_type": "code",
   "execution_count": 14,
   "metadata": {},
   "outputs": [
    {
     "name": "stdout",
     "output_type": "stream",
     "text": [
      "videos number:  2179\n",
      "sampled videos number:  72\n",
      "sampled videos:  ['0525_fw.mp4', '1155_fw.mp4', '1006_fw.mp4', '1418_fw.mp4', '0192_fw.mp4', '1030_fw.mp4', '0117_fw.mp4', '2000_fw.mp4', '2135_fw.mp4', '1269_fw.mp4', '1695_fw.mp4', '0398_fw.mp4', '1524_fw.mp4', '1858_fw.mp4', '1124_fw.mp4', '0300_fw.mp4', '1805_fw.mp4', '0229_fw.mp4', '1578_fw.mp4', '0190_fw.mp4', '1191_fw.mp4', '1065_fw.mp4', '1492_fw.mp4', '1187_fw.mp4', '0890_fw.mp4', '1170_fw.mp4', '1417_fw.mp4', '0900_fw.mp4', '0090_fw.mp4', '0647_fw.mp4', '0038_fw.mp4', '0746_fw.mp4', '1767_fw.mp4', '1670_fw.mp4', '1416_fw.mp4', '1004_fw.mp4', '0057_fw.mp4', '1895_fw.mp4', '1678_fw.mp4', '1068_fw.mp4', '1469_fw.mp4', '2156_fw.mp4', '1694_fw.mp4', '0071_fw.mp4', '1173_fw.mp4', '0115_fw.mp4', '0273_fw.mp4', '0469_fw.mp4', '1090_fw.mp4', '1443_fw.mp4', '0235_fw.mp4', '1645_fw.mp4', '1510_fw.mp4', '0318_fw.mp4', '1369_fw.mp4', '0594_fw.mp4', '0128_fw.mp4', '1625_fw.mp4', '2031_fw.mp4', '0920_fw.mp4', '0614_fw.mp4', '1667_fw.mp4', '0636_fw.mp4', '0630_fw.mp4', '2063_fw.mp4', '1072_fw.mp4', '1172_fw.mp4', '1886_fw.mp4', '1000_fw.mp4', '0891_fw.mp4', '1475_fw.mp4', '1918_fw.mp4']\n",
      "total videos number:  84\n",
      "total videos:  ['0920_fw.mp4', '2156_fw.mp4', '0647_fw.mp4', '0746_fw.mp4', '1173_fw.mp4', '0115_fw.mp4', 'blank', '0469_fw.mp4', '0614_fw.mp4', '1767_fw.mp4', '1695_fw.mp4', '0891_fw.mp4', '1090_fw.mp4', '1475_fw.mp4', '1170_fw.mp4', '0057_fw.mp4', '1670_fw.mp4', '1269_fw.mp4', '1006_fw.mp4', 'blank', 'blank', '1191_fw.mp4', '1369_fw.mp4', '0300_fw.mp4', '1000_fw.mp4', '2000_fw.mp4', '2031_fw.mp4', '0229_fw.mp4', 'blank', '0594_fw.mp4', '0128_fw.mp4', '1694_fw.mp4', '1625_fw.mp4', '1187_fw.mp4', '1492_fw.mp4', '0117_fw.mp4', '0525_fw.mp4', '2135_fw.mp4', '0090_fw.mp4', 'blank', '1886_fw.mp4', '1417_fw.mp4', '1065_fw.mp4', '0071_fw.mp4', 'blank', '1443_fw.mp4', '1004_fw.mp4', '1068_fw.mp4', '1030_fw.mp4', '1645_fw.mp4', '2063_fw.mp4', 'blank', 'blank', '0890_fw.mp4', '0636_fw.mp4', '0273_fw.mp4', '1418_fw.mp4', '0190_fw.mp4', '1805_fw.mp4', '0192_fw.mp4', '1678_fw.mp4', '1072_fw.mp4', '1510_fw.mp4', 'blank', '1124_fw.mp4', 'blank', '1172_fw.mp4', '1155_fw.mp4', '1667_fw.mp4', '0398_fw.mp4', '0038_fw.mp4', 'blank', '1524_fw.mp4', '0318_fw.mp4', '0630_fw.mp4', '1469_fw.mp4', 'blank', '0235_fw.mp4', '1578_fw.mp4', '1918_fw.mp4', '1858_fw.mp4', '1895_fw.mp4', '0900_fw.mp4', '1416_fw.mp4']\n"
     ]
    }
   ],
   "source": [
    "base_dir = Path(aot.__path__[0])\n",
    "core_expt_yaml_path = base_dir / \"experiment/core_exp_settings.yml\"\n",
    "stimuli_temp_path = base_dir / \"experiment/stimuli_settings_temp.yml\"\n",
    "core_settings = yaml.load(open(core_expt_yaml_path), Loader=yaml.FullLoader)\n",
    "stimuli_settings_temp = yaml.load(open(stimuli_temp_path), Loader=yaml.FullLoader)\n",
    "\n",
    "settings_root_path = base_dir / core_settings[\"paths\"][\"settings_path\"]\n",
    "pilot_laminar_settings_dir = base_dir / core_settings[\"paths\"][\"settings_path\"] / \"pilot_laminar\"\n",
    "total_video_number = core_settings[\"various\"][\"total_video_number\"]\n",
    "\n",
    "pilot_laminar_run_number = 20\n",
    "onerun_video_sample_number = 72\n",
    "blank_video_number = 12\n",
    "\n",
    "original_video_pure_names = []\n",
    "for i in range(1, 1 + total_video_number):\n",
    "    # 0 padding for video name\n",
    "    video_name = str(i).zfill(4)\n",
    "    original_video_pure_names.append(video_name)\n",
    "print(\"videos number: \", len(original_video_pure_names))\n",
    "\n",
    "fw_video_names = []\n",
    "for i in range(1, 1 + total_video_number):\n",
    "    # 0 padding for video name\n",
    "    fw_video_names.append(original_video_pure_names[i - 1] + \"_fw.mp4\") \n",
    "\n",
    "sampled_video_names = random.sample(fw_video_names, onerun_video_sample_number)\n",
    "print(\"sampled videos number: \", len(sampled_video_names))\n",
    "print(\"sampled videos: \", sampled_video_names)\n",
    "\n",
    "run_settings_original = cp.deepcopy(sampled_video_names)\n",
    "# insert blank into the sampled videos\n",
    "run_settings_original = run_settings_original + [\"blank\"] * blank_video_number\n",
    "random.shuffle(run_settings_original)\n",
    "print(\"total videos number: \", len(run_settings_original))\n",
    "print(\"total videos: \", run_settings_original)\n",
    "\n"
   ]
  },
  {
   "cell_type": "code",
   "execution_count": 15,
   "metadata": {},
   "outputs": [],
   "source": [
    "# save the settings\n",
    "for run_number in range(1, pilot_laminar_run_number + 1):\n",
    "    run_settings = cp.deepcopy(run_settings_original)\n",
    "    random.shuffle(run_settings)\n",
    "    stimuli_settings_temp[\"stimuli\"][\"movie_files\"] = run_settings\n",
    "    run_settings_file = pilot_laminar_settings_dir / f\"run_{run_number}.yml\"\n",
    "    with open(run_settings_file, \"w\") as f:\n",
    "        yaml.dump(stimuli_settings_temp, f)"
   ]
  }
 ],
 "metadata": {
  "kernelspec": {
   "display_name": "base",
   "language": "python",
   "name": "python3"
  },
  "language_info": {
   "codemirror_mode": {
    "name": "ipython",
    "version": 3
   },
   "file_extension": ".py",
   "mimetype": "text/x-python",
   "name": "python",
   "nbconvert_exporter": "python",
   "pygments_lexer": "ipython3",
   "version": "3.9.12"
  }
 },
 "nbformat": 4,
 "nbformat_minor": 2
}
