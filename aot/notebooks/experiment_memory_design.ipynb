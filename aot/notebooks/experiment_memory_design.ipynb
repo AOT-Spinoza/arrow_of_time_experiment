{
 "cells": [
  {
   "cell_type": "code",
   "execution_count": 64,
   "metadata": {},
   "outputs": [],
   "source": [
    "import os\n",
    "import pandas as pd\n",
    "import yaml\n",
    "import copy\n",
    "import random\n",
    "from pathlib import Path\n",
    "import matplotlib.pyplot as plt\n",
    "from copy import deepcopy\n",
    "\n",
    "import aot"
   ]
  },
  {
   "cell_type": "code",
   "execution_count": 65,
   "metadata": {},
   "outputs": [
    {
     "name": "stdout",
     "output_type": "stream",
     "text": [
      "videos number:  528\n"
     ]
    }
   ],
   "source": [
    "base_dir = Path(aot.__path__[0])\n",
    "core_expt_yaml_path = base_dir / \"experiment/core_exp_settings.yml\"\n",
    "stimuli_temp_path = base_dir / \"experiment/stimuli_settings_temp.yml\"\n",
    "core_settings = yaml.load(open(core_expt_yaml_path), Loader=yaml.FullLoader)\n",
    "stimuli_settings_temp = yaml.load(open(stimuli_temp_path), Loader=yaml.FullLoader)  \n",
    "\n",
    "settings_root_path = base_dir / core_settings[\"paths\"][\"settings_path\"] \n",
    "video_db_path = base_dir / 'data/videos/database_originals.tsv'\n",
    "video_db = pd.read_csv(video_db_path, sep='\\t')\n",
    "\n",
    "main_settings_dir = base_dir / core_settings[\"paths\"][\"settings_path\"] / \"main\"\n",
    "memory_settings_dir = base_dir / core_settings[\"paths\"][\"settings_path\"] / \"memory\"\n",
    "subject_number = core_settings['various']['subject_number']\n",
    "run_number = core_settings['various']['run_number']\n",
    "session_number = core_settings['various']['session_number']\n",
    "unique_video_number_per_session = core_settings['various']['unique_video_number_per_session']\n",
    "img_number_per_session = unique_video_number_per_session\n",
    "\n",
    "\n",
    "\n",
    "unused_videos = []\n",
    "for i in range(1, len(video_db)):\n",
    "    if video_db['grade'][i] != 'j' and video_db['grade'][i] != 'NA': \n",
    "        unused_videos.append(video_db['video_name'][i])\n",
    "print(\"videos number: \", len(unused_videos))\n",
    "\n",
    "imgs_from_unused_videos = []\n",
    "for i in range(len(unused_videos)):\n",
    "    imgs_from_unused_videos.append(unused_videos[i].replace('.mp4', '.png'))"
   ]
  },
  {
   "cell_type": "code",
   "execution_count": 66,
   "metadata": {},
   "outputs": [],
   "source": [
    "def gen_memory_design(subject,session):\n",
    "    print(f\"subject: {subject}, session: {session}\")\n",
    "    #read main experiment settings\n",
    "    main_runs_settings = []\n",
    "    main_runs_videos = []\n",
    "    main_runs_videos_name = []#raw video name without .mp4\n",
    "    for ind in range(run_number):\n",
    "        run = ind + 1\n",
    "        runfile = f\"experiment_settings_sub_{str(subject).zfill(2)}_ses_{str(session).zfill(2)}_run_{str(run).zfill(2)}.yml\"\n",
    "        runfile = main_settings_dir / runfile\n",
    "        runsetting = yaml.load(open(runfile), Loader=yaml.FullLoader)\n",
    "        main_runs_settings.append(runsetting)\n",
    "    for runsetting in main_runs_settings:\n",
    "        raw_video_list = runsetting[\"stimuli\"][\"movie_files\"]\n",
    "        video_list = [video for video in raw_video_list if video != \"blank\"]\n",
    "        #print(video_list)\n",
    "        main_runs_videos.append(video_list)\n",
    "    for videos in main_runs_videos:\n",
    "        name_list= [video.split(\".\")[0] for video in videos]\n",
    "        main_runs_videos_name.append(name_list)\n",
    "        #print(name_list)\n",
    "    #flatten the videos list\n",
    "    flat_video_names = [item for sublist in main_runs_videos_name for item in sublist]\n",
    "    #remove repeated videos\n",
    "    flat_video_names = list(set(flat_video_names))\n",
    "    #print(flat_video_names)\n",
    "    imgnames = [video + \".png\" for video in flat_video_names]\n",
    "    print(imgnames)\n",
    "    #save imgnames as settings for memory experiment yaml file\n",
    "    settings = settings = copy.deepcopy(stimuli_settings_temp)\n",
    "\n",
    "    half_img_num = int((img_number_per_session)/2)\n",
    "    #sample half_img_num images from imgnames\n",
    "    imgnames_used = random.sample(imgnames, half_img_num)\n",
    "    imgnames_unused = random.sample(imgs_from_unused_videos, half_img_num)\n",
    "    imgnames_final = imgnames_used + imgnames_unused\n",
    "    random.shuffle(imgnames)\n",
    "\n",
    "    settings[\"stimuli\"][\"picture_files\"] = imgnames_final##not right. should subsample from imgnames and add some img from unused videos\n",
    "    print(settings)\n",
    "    outfile = f\"experiment_settings_sub_{str(subject).zfill(2)}_ses_{str(session).zfill(2)}_run_01.yml\"\n",
    "    outfile = memory_settings_dir / outfile\n",
    "    with open(outfile, \"w\") as f:\n",
    "        yaml.dump(settings, f)\n"
   ]
  },
  {
   "cell_type": "code",
   "execution_count": 67,
   "metadata": {},
   "outputs": [],
   "source": [
    "def gen_memory_desing_for_all():\n",
    "    for sub in range(subject_number):\n",
    "        sub = sub + 1\n",
    "        for ses in range(session_number):\n",
    "            ses = ses + 1\n",
    "            gen_memory_design(sub, ses)       "
   ]
  },
  {
   "cell_type": "code",
   "execution_count": 68,
   "metadata": {},
   "outputs": [
    {
     "name": "stdout",
     "output_type": "stream",
     "text": [
      "subject: 1, session: 1\n",
      "['S_yt-XpM1Jtwlvvk_42.png', 'R_S_yt-l_pvPAznG1A_20.png', 'S_yt-8QCcmqaEMPI_16.png', 'S_Pexels_Videos_2795737.png', 'S_yt-2dRSJcaJIXw_32.png', 'R_S_yt-FhnT_42bV7M_11.png', 'S_yt-OEY9O2MglQM_7.png', 'S_yt-Fm97IY0Z2LU_79.png', 'R_S_yt-h09NHEfoKb0_8.png', 'R_S_yt-UzWRbs9Syf4_7.png', 'S_yt-GyMWMiWvuiA_237.png', 'R_S_yt-CLX1rmSf2Rs_194.png', 'S_yt-LUIvP_NDWAs_45.png', 'S_yt-RKo978aBdzw_173.png', 'R_S_yt-QI6k6mhpxLo_453.png', 'R_S_yt-CJeyOFsd3lg_80.png', 'R_S_yt-v9WGfC67DPk_50.png', 'S_yt-2i53vKte7SA_117.png', 'S_ILSVRC2015_train_00595000.png', 'S_production_ID_3709168.png', 'S_yt-lGQ3wMI5-Yg_140.png', 'S_ILSVRC2015_train_00379000.png', 'R_S_yt-5ws2gxbcjs4_381.png', 'S_ILSVRC2015_train_00743006.png', 'S_yt-2y6A9DJPsDU_65.png', 'S_yt-0Zze3Ff12Ys_58.png', 'R_S_yt-8QCcmqaEMPI_16.png', 'S_yt-PltpRRYmQQk_62.png', 'S_yt-7XDVHp75fu4_93.png', 'S_ILSVRC2015_train_00638001.png', 'R_S_production_ID_3967181.png', 'R_S_yt-bTcbsBET7gc_270.png', 'R_S_ILSVRC2015_train_00599000.png', 'S_ILSVRC2015_train_00185002.png', 'R_S_-vPHq-7BJ70_15.png', 'S_yt-KK6fVRAMm-c_476.png', 'S_yt-wnQFgNEnHUI_109.png', 'R_S_gX_VbZnZO0k_13.png', 'R_S_yt-HwZFMTZ7Xko_35.png', 'S_yt-jy7rAnpu0u8_128.png', 'S_ILSVRC2015_train_00371010.png', 'R_S_Pz_NXxhQCJc_70.png', 'R_S_yt-ni4JaYu7PhU_6.png', 'S_pexels-koolshooters-7327412_1.png', 'R_S_yt-7XDVHp75fu4_93.png', 'S_yt-4qU-6TEW06E_38.png', 'S_yt-hekMMCluhnU_18.png', 'R_S_yt-PltpRRYmQQk_62.png', 'S_yt-JtR6WZXT2kU_8.png', 'S_yt-Fdv-V--QlR0_117.png', 'R_S_yt-aiDGx4AN8J0_9.png', 'S_yt-qsyDLtXcyHc_8.png', 'S_yt-GbL63AmOIss_116.png', 'S_yt-aD-EAuBdpUo_163.png', 'R_S_yt-M8wvzt_BMXM_173.png', 'R_S_ILSVRC2015_train_00715000.png', 'S_zAKvYNtmhuc_772.png', 'S_yt-b29VtKvlnWE_430.png', 'R_S_yt-_68FWLGgPYE_25.png', 'S_wc-Mf8SQpviaD6D_17.png', 'S_yt-N1DlS9B00G0_23.png', 'R_S_yt-BKkZUSowoxg_59.png', 'S_yt-_7HJhRPVmHw_255.png', 'S_yt-4Qz0m5IYh10_167.png', 'S_yt-wz2opOBqClo_14.png', 'R_S_yt-ZBk_XFb5PGo_25.png', 'S_-vPHq-7BJ70_15.png', 'R_S_wc-PsidKmkEV7Km_14.png', 'S_yt-xSGPe0KemD4_384.png', 'R_S_yt-78k6vUHDWAI_206.png', 'S_pexels-diva-plavalaguna-6985395.png', 'R_S_yt-4-u4Fw_J_q8_45.png', 'R_S_ILSVRC2015_train_00559000.png', 'R_S_yt-FsXOl6JjzSY_15.png', 'S_yt-V_2XgfjJfeQ_67.png', 'S_yt-i3-YlGenYmk_411.png', 'R_S_yt-LQrnLKP5tiQ_48.png', 'R_S_yt-n_eO-7KedAE_21.png', 'S_yt-xqjVM0Vj4mI_161.png', 'R_S_production_ID_5144824.png', 'S_pexels-cottonbro-6844209.png', 'S_yt-SCzpSxzt0TA_46.png', 'S_yt-q9-_bG9ry3E_5.png', 'S_yt-hDYtYKUsVE4_120.png', 'S_bing-www_yahoo_com_entertainment_anastasia-karanikolaou-chantel-jeffries-discuss-182400502_html_9.png', 'R_S_yt-22c5eZ1UNME_76.png', 'R_S_ILSVRC2015_train_00473001.png', 'S_yt-uE9XoCLZlFo_1.png', 'S_ILSVRC2015_train_00572001.png', 'S_yt-Ud9uqaeHtY4_302.png', 'S_yt-7Ya-rGPO8cM_159.png', 'R_S_pexels-mikhail-nilov-8410084_1.png', 'S_yt--v_iMUMMX6g_39.png', 'S_pexels-cottonbro-6789228.png', 'S_yt-Tt_LkR4iAt4_11.png', 'S_yt-rqYMMAU_GJs_91.png', 'R_S_wc-DgBY_btLlgBC_19.png', 'S_yt-9T99N7Cvi_o_112.png', 'S_yt-VinOD6g7xEc_135.png', 'R_S_ILSVRC2015_train_00457000.png', 'S_Pz_NXxhQCJc_70.png', 'S_yt-UzWRbs9Syf4_7.png', 'R_S_ioSkDvwpEaU_35.png', 'R_S_yt-Ek1jcvett9E_33.png', 'S_ioSkDvwpEaU_35.png', 'R_S_yt-s5YONFy3vb4_46.png', 'S_yt-jYSri2JVUqo_1036.png', 'R_S_yt-ZzC953ahaxs_195.png', 'S_yt-2OoHcgS8sss_7.png', 'R_S_pexels-laker-5793000.png', 'R_S_yt-cvwUZbYSd4Q_35.png', 'S_yt-savE5_jePKQ_25.png', 'R_S_yt-uE9XoCLZlFo_1.png', 'R_S_yt-0Zze3Ff12Ys_58.png', 'R_S_yt-V_2XgfjJfeQ_67.png', 'R_S_ILSVRC2015_train_00404003.png', 'R_S_yt-_7HJhRPVmHw_255.png', 'R_S_yt-zlbtESb7Fcw_28.png', 'R_S_yt-M_ApPnq00iE_67.png', 'R_S_yt-qsyDLtXcyHc_8.png', 'S_Pexels_Videos_278654_1.png', 'R_S_yt-4RKOPaRF42o_124.png', 'S_yt-l6WPyKg_3is_154.png', 'R_S_yt-fLNDhX22diw_98.png', 'S_ILSVRC2015_train_00044004.png', 'R_S_yt-savE5_jePKQ_25.png', 'S_ILSVRC2015_train_00042002.png', 'R_S_yt-2WPmM2vIuBE_41.png', 'R_S_ILSVRC2015_test_00001002.png', 'R_S_bing-www_yahoo_com_entertainment_anastasia-karanikolaou-chantel-jeffries-discuss-182400502_html_9.png', 'S_yt-oVS_k_9upmo_205.png', 'R_S_ILSVRC2015_train_00545000.png', 'R_S_JApTAOdfunE_1251.png', 'S_yt-bOgChEHiroI_20.png', 'R_S_yt--vHa85DHvLU_31.png', 'R_S_ILSVRC2015_train_00693000.png', 'R_S_yt-SgiTZNjCPCo_19.png', 'S_yt-yyIimWrvRyI_246.png', 'S_yt-fLNDhX22diw_98.png', 'S_yt-VTNBCfQxnsk_59.png', 'R_S_yt-R-SETZtYWaA_336.png', 'S_pexels-yaroslav-shuraev-8091356.png', 'R_S_8lrGQK4UBj8_38.png', 'R_S_yt-N7ztk2fa3Ls_137.png', 'S_yt-OFnDCbW9Ebo_31.png', 'R_S_pexels-anthony-shkraba-7569650.png', 'S_production_ID_4325513.png', 'S_yt-n_eO-7KedAE_21.png', 'R_S_yt-hZxbKZ1WCVg_24.png', 'R_S_yt-2y6A9DJPsDU_65.png', 'R_S_yt-s2PWkCdT-TM_258.png', 'S_yt-mmvWYAttrIw_2.png', 'R_S_ILSVRC2015_train_00610000.png', 'R_S_yt-ibDaDIEazxg_3.png', 'S_ILSVRC2015_train_00447000.png', 'R_S_yt-BG-G7m5wLZ4_94.png', 'R_S_pexels-cottonbro-6789228.png', 'S_production_ID_4153808.png', 'R_S_yt-urJgH6tpfkU_204.png', 'S_yt-CEQnXB0LxQU_278.png', 'S_yt-JTVyt-eu4VI_1.png', 'R_S_zAKvYNtmhuc_772.png', 'S_ILSVRC2015_train_00610000.png', 'R_S_ILSVRC2015_train_00371010.png', 'S_ILSVRC2015_test_00001002.png', 'R_S_yt-b7bIulV49DQ_81.png', 'S_production_ID_4765899.png', 'S_yt-5ws2gxbcjs4_381.png', 'R_S_yt-eLQydFSMGCU_75.png', 'R_S_yt-wnQFgNEnHUI_109.png', 'R_S_ILSVRC2015_train_00638001.png', 'S_yt-cvwUZbYSd4Q_35.png', 'R_S_yt-J8E_BpSJMpk_5.png', 'S_ILSVRC2015_train_00569003.png', 'S_yt--vHa85DHvLU_31.png', 'S_yt-GfPep7IhZIU_47.png', 'R_S_yt-Iu2ZPHLqXuY_32.png', 'S_yt-6vkiJedss6g_5.png', 'R_S_yt-hekMMCluhnU_18.png', 'S_ILSVRC2015_train_00599000.png', 'R_S_yt-4rwBpRuHg-c_1308.png', 'R_S_ILSVRC2015_train_00725000.png', 'R_S_yt-4r-oovk9JWg_85.png', 'R_S_yt-2V2tq9-O_Nc_1669.png', 'R_S_wc-zkO_omg3nTvg_5.png', 'R_S_ILSVRC2015_train_00447000.png', 'S_yt-TvU-aYjNa2c_21.png', 'R_S_yt-EAMpitsjbbA_153.png', 'R_S_yt-_WFwhcmbXXY_51.png', 'R_S_yt-q9-_bG9ry3E_5.png', 'R_S_yt-VinOD6g7xEc_135.png', 'S_yt-ni4JaYu7PhU_6.png', 'R_S_yt-l6WPyKg_3is_154.png', 'R_S_yt-aqrdb6BiFx4_12.png', 'R_S_pexels-c-technical-5771610.png', 'R_S_yt-4qU-6TEW06E_38.png', 'R_S_ILSVRC2015_train_00743006.png', 'R_S_yt-lGQ3wMI5-Yg_140.png', 'S_yt-EFrazkRaYbs_21.png', 'S_ILSVRC2015_train_00318000.png', 'R_S_ILSVRC2015_train_00595000.png', 'S_yt-zlbtESb7Fcw_28.png', 'R_S_yt-HoRtvVuuvOs_5.png', 'R_S_production_ID_4765899.png', 'S_pexels-cottonbro-6789234.png', 'R_S_yt-11VGDAOVEag_8.png', 'R_S_yt-Ud9uqaeHtY4_302.png', 'R_S_yt-b7JAHOeiTqU_44.png', 'S_yt-_68FWLGgPYE_25.png', 'S_yt-Z4W6l0eZza4_6.png', 'S_yt-ycQy_fHCK-U_8.png', 'S_yt-Co4dzHwupRM_18.png', 'S_8lrGQK4UBj8_38.png', 'R_S_yt-TvU-aYjNa2c_21.png', 'R_S_Pexels_Videos_278654_1.png', 'S_yt-3NMDWrZr1Z4_255.png', 'R_S_ILSVRC2015_train_00563000.png', 'R_S_yt-XpM1Jtwlvvk_42.png', 'S_yt-4wjGeLyvfjY_223.png', 'S_yt-EAMpitsjbbA_153.png', 'R_S_yt-KVB49z48sZU_55.png', 'S_JApTAOdfunE_1251.png', 'R_S_Person_Going_Through_A_Bible.png', 'S_bing-www_dailymotion_com_video_x4kcklg_53.png', 'R_S_yt-EFrazkRaYbs_21.png', 'S_yt-31yLemkW42Q_111.png', 'R_S_yt-OEY9O2MglQM_7.png', 'S_wc-zkO_omg3nTvg_5.png', 'R_S_ILSVRC2015_train_00379000.png', 'S_yt-BlWfK4MkjWA_469.png', 'R_S_yt-Fdv-V--QlR0_117.png', 'S_yt-HoRtvVuuvOs_5.png', 'S_pexels-laker-5793000.png', 'S_ILSVRC2015_train_00563000.png', 'R_S_yt-mmvWYAttrIw_2.png', 'S_yt-Rqwi-Fk9IJQ_114.png', 'S_yt-QI6k6mhpxLo_453.png', 'R_S_yt-Co4dzHwupRM_18.png', 'R_S_pexels-koolshooters-7327412_1.png', 'R_S_yt-gzjV6YoK6X0_3.png', 'R_S_yt-6vkiJedss6g_5.png', 'R_S_pexels-cottonbro-6844209.png', 'S_yt-pO5SVq-9EhU_114.png', 'R_S_yt-bH4nJibL4Jo_164.png', 'R_S_ILSVRC2015_train_00450001.png', 'S_dnLAfffA-kU_53.png', 'S_ILSVRC2015_train_00473001.png', 'R_S_production_ID_4153808.png', 'R_S_yt-xqjVM0Vj4mI_161.png', 'S_ILSVRC2015_train_00404003.png', 'R_S_dnLAfffA-kU_53.png', 'S_yt-Ek1jcvett9E_33.png', 'S_yt-4rwBpRuHg-c_1308.png', 'R_S_yt-CEQnXB0LxQU_278.png', 'R_S_yt-5AI_SyK5sg8_112.png', 'R_S_yt-GbL63AmOIss_116.png', 'S_yt-4r-oovk9JWg_85.png', 'S_ILSVRC2015_train_00559000.png', 'R_S_yt-31yLemkW42Q_111.png', 'R_S_yt-2jVJb1PR2XA_16.png', 'R_S_yt-KK6fVRAMm-c_476.png', 'S_yt-hWXr5bv2_uA_48.png', 'R_S_yt-ycQy_fHCK-U_8.png', 'R_S_pexels-cottonbro-5780808.png', 'S_yt-h09NHEfoKb0_8.png', 'S_yt-aqrdb6BiFx4_12.png', 'S_ILSVRC2015_train_00743001.png', 'R_S_yt-GfPep7IhZIU_47.png', 'R_S_yt-9EnchawJ3pA_90.png', 'R_S_yt-zh2yLr-o_8A_953.png', 'S_ILSVRC2015_train_00450001.png', 'R_S_yt-BlWfK4MkjWA_469.png', 'R_S_ILSVRC2015_train_00042002.png', 'R_S_yt-JtR6WZXT2kU_8.png', 'R_S_yt-hWXr5bv2_uA_48.png', 'S_ILSVRC2015_train_00715000.png', 'R_S_yt-QXsedpZh800_275.png', 'S_yt-FsXOl6JjzSY_15.png', 'R_S_yt-Q4edV5qiqu0_578.png', 'R_S_production_ID_4510883.png', 'S_yt-tOOaOzYvtKE_79.png', 'R_S_yt-RKo978aBdzw_173.png', 'S_yt-nCNZ87Tio1M_1.png', 'S_yt-4-u4Fw_J_q8_45.png', 'S_yt-4RKOPaRF42o_124.png', 'S_yt-2jVJb1PR2XA_16.png', 'R_S_yt-xSGPe0KemD4_384.png', 'S_pexels-c-technical-5771610.png', 'S_yt-CLX1rmSf2Rs_194.png', 'S_2RTDFkjD6vI_93.png', 'R_S_yt-2dRSJcaJIXw_32.png', 'S_yt-9EnchawJ3pA_90.png', 'R_S_yt-rqYMMAU_GJs_91.png', 'R_S_yt-OTNdgakSIJE_97.png', 'R_S_yt-2OoHcgS8sss_7.png', 'R_S_yt-ja8Pmpik_ao_112.png', 'R_S_yt-aD-EAuBdpUo_163.png', 'S_yt-11VGDAOVEag_8.png', 'R_S_yt-i-1Gou9SA5U_3.png', 'R_S_yt-2i53vKte7SA_117.png', 'R_S_yt-y2RUPYKfBZs_12.png', 'R_S_ILSVRC2015_train_00044004.png', 'R_S_wc-Mf8SQpviaD6D_17.png', 'S_yt-Rybd-sKJFz0_78.png', 'R_S_yt-Rqwi-Fk9IJQ_114.png', 'R_S_yt-jYSri2JVUqo_1036.png', 'S_pexels-mikhail-nilov-8410084_1.png', 'R_S_yt-Z4W6l0eZza4_6.png', 'S_yt-xCh0LI9VKeI_28.png', 'R_S_yt-5fnd__rpWeE_396.png', 'S_pexels-c-technical-6753390.png', 'S_yt-BG-G7m5wLZ4_94.png', 'R_S_yt-VrEuTDQxtD0_226.png', 'S_yt-bTcbsBET7gc_270.png', 'S_ILSVRC2015_train_00745000.png', 'R_S_yt-KQq7vTlXUiQ_173.png', 'R_S_yt-hDYtYKUsVE4_120.png', 'R_S_yt-9T99N7Cvi_o_112.png', 'S_yt-_WFwhcmbXXY_51.png', 'S_yt-ibDaDIEazxg_3.png', 'S_ILSVRC2015_train_00584001.png', 'R_S_ILSVRC2015_train_00584001.png', 'S_yt-M8wvzt_BMXM_173.png', 'R_S_yt-oVS_k_9upmo_205.png', 'S_yt-LQrnLKP5tiQ_48.png', 'R_S_yt-pO5SVq-9EhU_114.png', 'S_yt-78k6vUHDWAI_206.png', 'R_S_ILSVRC2015_train_00185002.png', 'R_S_yt-tOOaOzYvtKE_79.png', 'R_S_yt-jy7rAnpu0u8_128.png', 'S_yt-hZxbKZ1WCVg_24.png', 'R_S_pexels-yaroslav-shuraev-8091356.png', 'R_S_ILSVRC2015_train_00396000.png', 'R_S_pexels-kampus-production-5991896.png', 'S_yt-738MRS0yI6g_177.png', 'S_yt-NQSCGMpo-p8_118.png', 'R_S_yt-b29VtKvlnWE_430.png', 'R_S_yt-bOgChEHiroI_20.png', 'R_S_yt-3NMDWrZr1Z4_255.png', 'R_S_yt-CeOZeB1LXwE_79.png', 'S_yt-y2RUPYKfBZs_12.png', 'S_yt-J8E_BpSJMpk_5.png', 'R_S_production_ID_4325513.png', 'R_S_yt--v_iMUMMX6g_39.png', 'S_yt-gzjV6YoK6X0_3.png', 'S_yt-CXn1PGH67_s_20.png', 'S_pexels-cottonbro-5780808.png', 'R_S_yt-NQSCGMpo-p8_118.png', 'S_pexels-kampus-production-5991896.png', 'R_S_yt-nCNZ87Tio1M_1.png', 'S_ILSVRC2015_train_00725000.png', 'S_yt-b7bIulV49DQ_81.png', 'R_S_ILSVRC2015_train_00067003.png', 'S_production_ID_3967181.png', 'S_yt-BKkZUSowoxg_59.png', 'S_production_ID_4510883.png', 'R_S_pexels-cottonbro-6789234.png', 'S_yt-HwZFMTZ7Xko_35.png', 'S_yt-Q4edV5qiqu0_578.png', 'S_yt-bH4nJibL4Jo_164.png', 'S_yt-ja8Pmpik_ao_112.png', 'S_yt-urJgH6tpfkU_204.png', 'R_S_yt-v8e_DlCsP4w_10.png', 'R_S_yt-QqSceHxY3d0_356.png', 'S_yt-JG2OY_7B-gI_537.png', 'R_S_yt-SCzpSxzt0TA_46.png', 'S_zr0tzAC2XHk_334.png', 'S_yt-Snha8C5YOiY_70.png', 'R_S_zr0tzAC2XHk_334.png', 'R_S_yt-LUIvP_NDWAs_45.png', 'R_S_Pexels_Videos_2795737.png', 'S_ILSVRC2015_train_00396000.png', 'R_S_yt-Snha8C5YOiY_70.png', 'R_S_ILSVRC2015_train_00745000.png', 'R_S_bing-www_dailymotion_com_video_x4kcklg_53.png', 'S_yt-CeOZeB1LXwE_79.png', 'S_ILSVRC2015_train_00578001.png', 'S_yt-Iu2ZPHLqXuY_32.png', 'S_yt-l_pvPAznG1A_20.png', 'S_yt-QXsedpZh800_275.png', 'S_yt-ZzC953ahaxs_195.png', 'R_S_yt-bmGWhOCsvJo_128.png', 'R_S_ILSVRC2015_train_00572001.png', 'R_S_yt-4wjGeLyvfjY_223.png', 'S_yt-ZBk_XFb5PGo_25.png', 'S_pexels-anthony-shkraba-7569650.png', 'S_yt-2V2tq9-O_Nc_1669.png', 'R_S_yt-JTVyt-eu4VI_1.png', 'S_yt-eLQydFSMGCU_75.png', 'R_S_yt-Fm97IY0Z2LU_79.png', 'S_yt-b7JAHOeiTqU_44.png', 'R_S_yt-GyMWMiWvuiA_237.png', 'S_yt-s5YONFy3vb4_46.png', 'R_S_yt-7Ya-rGPO8cM_159.png', 'S_yt-SgiTZNjCPCo_19.png', 'S_wc-DgBY_btLlgBC_19.png', 'R_S_yt-VTNBCfQxnsk_59.png', 'R_S_yt-4Qz0m5IYh10_167.png', 'S_yt-22c5eZ1UNME_76.png', 'S_yt-QqSceHxY3d0_356.png', 'S_gX_VbZnZO0k_13.png', 'R_S_ILSVRC2015_train_00318000.png', 'S_yt-VrEuTDQxtD0_226.png', 'S_yt-v9WGfC67DPk_50.png', 'R_S_ILSVRC2015_train_00569003.png', 'R_S_yt-wz2opOBqClo_14.png', 'R_S_yt-Rybd-sKJFz0_78.png', 'S_yt-i-1Gou9SA5U_3.png', 'R_S_pexels-mart-production-7698911.png', 'R_S_yt-yyIimWrvRyI_246.png', 'S_Person_Going_Through_A_Bible.png', 'R_S_yt-JG2OY_7B-gI_537.png', 'S_yt-s2PWkCdT-TM_258.png', 'S_ILSVRC2015_train_00457000.png', 'R_S_pexels-diva-plavalaguna-6985395.png', 'S_goAwcQiFu1Q_99.png', 'S_ILSVRC2015_train_00067003.png', 'S_yt-R-SETZtYWaA_336.png', 'S_yt-FhnT_42bV7M_11.png', 'R_S_2RTDFkjD6vI_93.png', 'S_pexels-mart-production-7698911.png', 'S_yt-KVB49z48sZU_55.png', 'R_S_yt-N1DlS9B00G0_23.png', 'S_yt-KQq7vTlXUiQ_173.png', 'S_yt-5fnd__rpWeE_396.png', 'R_S_pexels-c-technical-6753390.png', 'S_yt-M_ApPnq00iE_67.png', 'R_S_yt-i3-YlGenYmk_411.png', 'S_yt-5AI_SyK5sg8_112.png', 'S_yt-zh2yLr-o_8A_953.png', 'S_yt-2WPmM2vIuBE_41.png', 'R_S_ILSVRC2015_train_00578001.png', 'R_S_production_ID_3709168.png', 'R_S_yt-Tt_LkR4iAt4_11.png', 'S_production_ID_5144824.png', 'R_S_yt-738MRS0yI6g_177.png', 'R_S_ILSVRC2015_train_00743001.png', 'R_S_yt-xCh0LI9VKeI_28.png', 'S_yt-N7ztk2fa3Ls_137.png', 'S_yt-aiDGx4AN8J0_9.png', 'S_ILSVRC2015_train_00545000.png', 'S_ILSVRC2015_train_00693000.png', 'S_yt-bmGWhOCsvJo_128.png', 'S_wc-PsidKmkEV7Km_14.png', 'S_yt-v8e_DlCsP4w_10.png', 'S_yt-OTNdgakSIJE_97.png', 'R_S_yt-CXn1PGH67_s_20.png', 'R_S_goAwcQiFu1Q_99.png', 'R_S_yt-OFnDCbW9Ebo_31.png', 'S_yt-CJeyOFsd3lg_80.png']\n"
     ]
    },
    {
     "ename": "TypeError",
     "evalue": "object of type 'int' has no len()",
     "output_type": "error",
     "traceback": [
      "\u001b[0;31m---------------------------------------------------------------------------\u001b[0m",
      "\u001b[0;31mTypeError\u001b[0m                                 Traceback (most recent call last)",
      "\u001b[1;32m/Users/shufanzhang/Documents/PhD/Arrow_of_time/arrow_of_time/aot/notebooks/experiment_memory_design.ipynb Cell 5\u001b[0m in \u001b[0;36m<cell line: 1>\u001b[0;34m()\u001b[0m\n\u001b[0;32m----> <a href='vscode-notebook-cell:/Users/shufanzhang/Documents/PhD/Arrow_of_time/arrow_of_time/aot/notebooks/experiment_memory_design.ipynb#W4sZmlsZQ%3D%3D?line=0'>1</a>\u001b[0m gen_memory_desing_for_all()\n",
      "\u001b[1;32m/Users/shufanzhang/Documents/PhD/Arrow_of_time/arrow_of_time/aot/notebooks/experiment_memory_design.ipynb Cell 5\u001b[0m in \u001b[0;36mgen_memory_desing_for_all\u001b[0;34m()\u001b[0m\n\u001b[1;32m      <a href='vscode-notebook-cell:/Users/shufanzhang/Documents/PhD/Arrow_of_time/arrow_of_time/aot/notebooks/experiment_memory_design.ipynb#W4sZmlsZQ%3D%3D?line=3'>4</a>\u001b[0m \u001b[39mfor\u001b[39;00m ses \u001b[39min\u001b[39;00m \u001b[39mrange\u001b[39m(session_number):\n\u001b[1;32m      <a href='vscode-notebook-cell:/Users/shufanzhang/Documents/PhD/Arrow_of_time/arrow_of_time/aot/notebooks/experiment_memory_design.ipynb#W4sZmlsZQ%3D%3D?line=4'>5</a>\u001b[0m     ses \u001b[39m=\u001b[39m ses \u001b[39m+\u001b[39m \u001b[39m1\u001b[39m\n\u001b[0;32m----> <a href='vscode-notebook-cell:/Users/shufanzhang/Documents/PhD/Arrow_of_time/arrow_of_time/aot/notebooks/experiment_memory_design.ipynb#W4sZmlsZQ%3D%3D?line=5'>6</a>\u001b[0m     gen_memory_design(sub, ses)\n",
      "\u001b[1;32m/Users/shufanzhang/Documents/PhD/Arrow_of_time/arrow_of_time/aot/notebooks/experiment_memory_design.ipynb Cell 5\u001b[0m in \u001b[0;36mgen_memory_design\u001b[0;34m(subject, session)\u001b[0m\n\u001b[1;32m     <a href='vscode-notebook-cell:/Users/shufanzhang/Documents/PhD/Arrow_of_time/arrow_of_time/aot/notebooks/experiment_memory_design.ipynb#W4sZmlsZQ%3D%3D?line=28'>29</a>\u001b[0m \u001b[39m#save imgnames as settings for memory experiment yaml file\u001b[39;00m\n\u001b[1;32m     <a href='vscode-notebook-cell:/Users/shufanzhang/Documents/PhD/Arrow_of_time/arrow_of_time/aot/notebooks/experiment_memory_design.ipynb#W4sZmlsZQ%3D%3D?line=29'>30</a>\u001b[0m settings \u001b[39m=\u001b[39m settings \u001b[39m=\u001b[39m copy\u001b[39m.\u001b[39mdeepcopy(stimuli_settings_temp)\n\u001b[0;32m---> <a href='vscode-notebook-cell:/Users/shufanzhang/Documents/PhD/Arrow_of_time/arrow_of_time/aot/notebooks/experiment_memory_design.ipynb#W4sZmlsZQ%3D%3D?line=31'>32</a>\u001b[0m half_img_num \u001b[39m=\u001b[39m \u001b[39mint\u001b[39m(\u001b[39mlen\u001b[39;49m(img_number_per_session)\u001b[39m/\u001b[39m\u001b[39m2\u001b[39m)\n\u001b[1;32m     <a href='vscode-notebook-cell:/Users/shufanzhang/Documents/PhD/Arrow_of_time/arrow_of_time/aot/notebooks/experiment_memory_design.ipynb#W4sZmlsZQ%3D%3D?line=32'>33</a>\u001b[0m \u001b[39m#sample half_img_num images from imgnames\u001b[39;00m\n\u001b[1;32m     <a href='vscode-notebook-cell:/Users/shufanzhang/Documents/PhD/Arrow_of_time/arrow_of_time/aot/notebooks/experiment_memory_design.ipynb#W4sZmlsZQ%3D%3D?line=33'>34</a>\u001b[0m imgnames_used \u001b[39m=\u001b[39m random\u001b[39m.\u001b[39msample(imgnames, half_img_num)\n",
      "\u001b[0;31mTypeError\u001b[0m: object of type 'int' has no len()"
     ]
    }
   ],
   "source": [
    "gen_memory_desing_for_all()"
   ]
  }
 ],
 "metadata": {
  "kernelspec": {
   "display_name": "base",
   "language": "python",
   "name": "python3"
  },
  "language_info": {
   "codemirror_mode": {
    "name": "ipython",
    "version": 3
   },
   "file_extension": ".py",
   "mimetype": "text/x-python",
   "name": "python",
   "nbconvert_exporter": "python",
   "pygments_lexer": "ipython3",
   "version": "3.9.12"
  },
  "orig_nbformat": 4
 },
 "nbformat": 4,
 "nbformat_minor": 2
}
