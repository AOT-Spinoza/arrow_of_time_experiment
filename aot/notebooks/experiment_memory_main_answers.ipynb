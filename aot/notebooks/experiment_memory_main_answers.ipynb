{
 "cells": [
  {
   "cell_type": "code",
   "execution_count": 13,
   "metadata": {},
   "outputs": [],
   "source": [
    "import os\n",
    "import pandas as pd\n",
    "import yaml\n",
    "import copy\n",
    "import random\n",
    "from pathlib import Path\n",
    "import matplotlib.pyplot as plt\n",
    "from copy import deepcopy\n",
    "import csv\n",
    "import aot\n",
    "\n",
    "base_dir = Path(aot.__path__[0])\n",
    "core_expt_yaml_path = base_dir / \"experiment/core_exp_settings.yml\"\n",
    "stimuli_temp_path = base_dir / \"experiment/stimuli_settings_temp.yml\"\n",
    "core_settings = yaml.load(open(core_expt_yaml_path), Loader=yaml.FullLoader)\n",
    "stimuli_settings_temp = yaml.load(open(stimuli_temp_path), Loader=yaml.FullLoader)\n",
    "\n",
    "settings_root_path = base_dir / core_settings[\"paths\"][\"settings_path\"]\n",
    "video_db_path = base_dir / \"data/videos/database_originals.tsv\"\n",
    "video_db = pd.read_csv(video_db_path, sep=\"\\t\")\n",
    "\n",
    "main_settings_dir = (\n",
    "    base_dir / core_settings[\"paths\"][\"settings_path\"] / \"main\"\n",
    ")\n",
    "memory_settings_dir = (\n",
    "    base_dir / core_settings[\"paths\"][\"settings_path\"] / \"memory_main\"\n",
    ")\n",
    "subject_number = core_settings[\"various\"][\"subject_number\"]\n",
    "run_number = core_settings[\"various\"][\"run_number\"]\n",
    "session_number = core_settings[\"various\"][\"session_number\"]\n",
    "unique_video_number_per_session = core_settings[\"various\"][\n",
    "    \"unique_video_number_per_session\"\n",
    "]\n",
    "img_number_per_session = unique_video_number_per_session"
   ]
  },
  {
   "cell_type": "code",
   "execution_count": 14,
   "metadata": {},
   "outputs": [],
   "source": [
    "def answer_generate(subject, session):\n",
    "    print(f\"subject: {subject}, session: {session}\")\n",
    "    # read main experiment settings\n",
    "    main_runs_settings = []\n",
    "    main_runs_videos = []\n",
    "    main_runs_videos_name = []  # raw video name without .mp4\n",
    "\n",
    "    memory_runs_settings = []\n",
    "    memory_runs_pictures = []\n",
    "    memory_runs_pictures_name = []  # raw video name without .mp4\n",
    "\n",
    "    answer_dict = {}  # picture_name:Y/N\n",
    "\n",
    "    for ind in range(run_number):\n",
    "        run = ind + 1\n",
    "        runfile = f\"experiment_settings_sub_{str(subject).zfill(2)}_ses_{str(session).zfill(2)}_run_{str(run).zfill(2)}.yml\"\n",
    "        runfile = main_settings_dir / runfile\n",
    "        runsetting = yaml.load(open(runfile), Loader=yaml.FullLoader)\n",
    "        main_runs_settings.append(runsetting)\n",
    "    for runsetting in main_runs_settings:\n",
    "        raw_video_list = runsetting[\"stimuli\"][\"movie_files\"]\n",
    "        video_list = [video for video in raw_video_list if video != \"blank\"]\n",
    "        # print(video_list)\n",
    "        main_runs_videos.append(video_list)\n",
    "    for videos in main_runs_videos:\n",
    "        name_list = [video.split(\".\")[0] for video in videos]\n",
    "        main_runs_videos_name.append(name_list)\n",
    "\n",
    "    flat_main_runs_videos_name = [\n",
    "        item for sublist in main_runs_videos_name for item in sublist\n",
    "    ]\n",
    "\n",
    "    flat_main_runs_videos_name = [name.replace(\"_rv\", \"_fw\") for name in flat_main_runs_videos_name]\n",
    "\n",
    "    for ind in [0]:# only one run for each memory session\n",
    "        run = ind + 1\n",
    "        runfile = f\"experiment_settings_sub_{str(subject).zfill(2)}_ses_{str(session).zfill(2)}_run_{str(run).zfill(2)}.yml\"\n",
    "        runfile = memory_settings_dir / runfile\n",
    "        runsetting = yaml.load(open(runfile), Loader=yaml.FullLoader)\n",
    "        memory_runs_settings.append(runsetting)\n",
    "    for runsetting in memory_runs_settings:\n",
    "        raw_picture_list = runsetting[\"stimuli\"][\"picture_files\"]\n",
    "        picture_list = [picture for picture in raw_picture_list if picture != \"blank\"]\n",
    "        # print(video_list)\n",
    "        memory_runs_pictures.append(picture_list)\n",
    "    for pictures in memory_runs_pictures:\n",
    "        name_list = [picture.split(\".\")[0] for picture in pictures]\n",
    "        memory_runs_pictures_name.append(name_list)\n",
    "\n",
    "    flat_memory_runs_pictures_name = [\n",
    "        item for sublist in memory_runs_pictures_name for item in sublist\n",
    "    ]\n",
    "\n",
    "    for picture_name in flat_memory_runs_pictures_name:\n",
    "        if picture_name in flat_main_runs_videos_name:\n",
    "            answer_dict[picture_name] = \"Y\"\n",
    "        else:\n",
    "            answer_dict[picture_name] = \"N\"\n",
    "\n",
    "    # save answer_dict to tsv file\n",
    "    answer_dict_file_path = memory_settings_dir / \"answers\" / f\"answer_dict_sub_{str(subject).zfill(2)}_ses_{str(session).zfill(2)}.tsv\"\n",
    "    with open(answer_dict_file_path, \"w\") as f:\n",
    "        writer = csv.writer(f, delimiter=\"\\t\")\n",
    "        for key, value in answer_dict.items():\n",
    "            writer.writerow([key, value])\n",
    "    \n",
    "    print(\"answer dict for subject {subject} session {session}:\",answer_dict)\n",
    "    return answer_dict"
   ]
  },
  {
   "cell_type": "code",
   "execution_count": 15,
   "metadata": {},
   "outputs": [],
   "source": [
    "def generate_answers_for_all_subjects():\n",
    "    for subject in range(1,subject_number+1):\n",
    "        for session in range(1,session_number+1):\n",
    "            answer_generate(subject, session)   "
   ]
  },
  {
   "cell_type": "code",
   "execution_count": 16,
   "metadata": {},
   "outputs": [
    {
     "name": "stdout",
     "output_type": "stream",
     "text": [
      "subject: 1, session: 1\n"
     ]
    },
    {
     "ename": "FileNotFoundError",
     "evalue": "[Errno 2] No such file or directory: '/tank/shared/2022/arrow_of_time/arrow_of_time_exp/aot/data/experiment/settings/memory_main/answers/answer_dict_sub_01_ses_01.tsv'",
     "output_type": "error",
     "traceback": [
      "\u001b[0;31m---------------------------------------------------------------------------\u001b[0m",
      "\u001b[0;31mFileNotFoundError\u001b[0m                         Traceback (most recent call last)",
      "Input \u001b[0;32mIn [16]\u001b[0m, in \u001b[0;36m<cell line: 1>\u001b[0;34m()\u001b[0m\n\u001b[0;32m----> 1\u001b[0m \u001b[43mgenerate_answers_for_all_subjects\u001b[49m\u001b[43m(\u001b[49m\u001b[43m)\u001b[49m\n",
      "Input \u001b[0;32mIn [15]\u001b[0m, in \u001b[0;36mgenerate_answers_for_all_subjects\u001b[0;34m()\u001b[0m\n\u001b[1;32m      2\u001b[0m \u001b[38;5;28;01mfor\u001b[39;00m subject \u001b[38;5;129;01min\u001b[39;00m \u001b[38;5;28mrange\u001b[39m(\u001b[38;5;241m1\u001b[39m,subject_number\u001b[38;5;241m+\u001b[39m\u001b[38;5;241m1\u001b[39m):\n\u001b[1;32m      3\u001b[0m     \u001b[38;5;28;01mfor\u001b[39;00m session \u001b[38;5;129;01min\u001b[39;00m \u001b[38;5;28mrange\u001b[39m(\u001b[38;5;241m1\u001b[39m,session_number\u001b[38;5;241m+\u001b[39m\u001b[38;5;241m1\u001b[39m):\n\u001b[0;32m----> 4\u001b[0m         \u001b[43manswer_generate\u001b[49m\u001b[43m(\u001b[49m\u001b[43msubject\u001b[49m\u001b[43m,\u001b[49m\u001b[43m \u001b[49m\u001b[43msession\u001b[49m\u001b[43m)\u001b[49m\n",
      "Input \u001b[0;32mIn [14]\u001b[0m, in \u001b[0;36manswer_generate\u001b[0;34m(subject, session)\u001b[0m\n\u001b[1;32m     60\u001b[0m \u001b[38;5;66;03m# save answer_dict to tsv file\u001b[39;00m\n\u001b[1;32m     61\u001b[0m answer_dict_file_path \u001b[38;5;241m=\u001b[39m memory_settings_dir \u001b[38;5;241m/\u001b[39m \u001b[38;5;124m\"\u001b[39m\u001b[38;5;124manswers\u001b[39m\u001b[38;5;124m\"\u001b[39m \u001b[38;5;241m/\u001b[39m \u001b[38;5;124mf\u001b[39m\u001b[38;5;124m\"\u001b[39m\u001b[38;5;124manswer_dict_sub_\u001b[39m\u001b[38;5;132;01m{\u001b[39;00m\u001b[38;5;28mstr\u001b[39m(subject)\u001b[38;5;241m.\u001b[39mzfill(\u001b[38;5;241m2\u001b[39m)\u001b[38;5;132;01m}\u001b[39;00m\u001b[38;5;124m_ses_\u001b[39m\u001b[38;5;132;01m{\u001b[39;00m\u001b[38;5;28mstr\u001b[39m(session)\u001b[38;5;241m.\u001b[39mzfill(\u001b[38;5;241m2\u001b[39m)\u001b[38;5;132;01m}\u001b[39;00m\u001b[38;5;124m.tsv\u001b[39m\u001b[38;5;124m\"\u001b[39m\n\u001b[0;32m---> 62\u001b[0m \u001b[38;5;28;01mwith\u001b[39;00m \u001b[38;5;28;43mopen\u001b[39;49m\u001b[43m(\u001b[49m\u001b[43manswer_dict_file_path\u001b[49m\u001b[43m,\u001b[49m\u001b[43m \u001b[49m\u001b[38;5;124;43m\"\u001b[39;49m\u001b[38;5;124;43mw\u001b[39;49m\u001b[38;5;124;43m\"\u001b[39;49m\u001b[43m)\u001b[49m \u001b[38;5;28;01mas\u001b[39;00m f:\n\u001b[1;32m     63\u001b[0m     writer \u001b[38;5;241m=\u001b[39m csv\u001b[38;5;241m.\u001b[39mwriter(f, delimiter\u001b[38;5;241m=\u001b[39m\u001b[38;5;124m\"\u001b[39m\u001b[38;5;130;01m\\t\u001b[39;00m\u001b[38;5;124m\"\u001b[39m)\n\u001b[1;32m     64\u001b[0m     \u001b[38;5;28;01mfor\u001b[39;00m key, value \u001b[38;5;129;01min\u001b[39;00m answer_dict\u001b[38;5;241m.\u001b[39mitems():\n",
      "\u001b[0;31mFileNotFoundError\u001b[0m: [Errno 2] No such file or directory: '/tank/shared/2022/arrow_of_time/arrow_of_time_exp/aot/data/experiment/settings/memory_main/answers/answer_dict_sub_01_ses_01.tsv'"
     ]
    }
   ],
   "source": [
    "generate_answers_for_all_subjects()\n"
   ]
  }
 ],
 "metadata": {
  "kernelspec": {
   "display_name": "base",
   "language": "python",
   "name": "python3"
  },
  "language_info": {
   "codemirror_mode": {
    "name": "ipython",
    "version": 3
   },
   "file_extension": ".py",
   "mimetype": "text/x-python",
   "name": "python",
   "nbconvert_exporter": "python",
   "pygments_lexer": "ipython3",
   "version": "3.9.12"
  }
 },
 "nbformat": 4,
 "nbformat_minor": 2
}
