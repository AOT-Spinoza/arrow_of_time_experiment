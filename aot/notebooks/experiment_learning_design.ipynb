{
 "cells": [
  {
   "cell_type": "code",
   "execution_count": 15,
   "metadata": {},
   "outputs": [],
   "source": [
    "import os\n",
    "import pandas as pd\n",
    "import yaml\n",
    "import copy\n",
    "import random\n",
    "from pathlib import Path\n",
    "import matplotlib.pyplot as plt\n",
    "\n",
    "import aot"
   ]
  },
  {
   "cell_type": "code",
   "execution_count": 16,
   "metadata": {},
   "outputs": [],
   "source": [
    "base_dir = Path(aot.__path__[0]) \n",
    "core_expt_yaml_path = base_dir / \"experiment/core_exp_settings.yml\"\n",
    "stimuli_temp_path = base_dir / \"experiment/stimuli_settings_temp.yml\"\n",
    "core_settings = yaml.load(open(core_expt_yaml_path), Loader=yaml.FullLoader)\n",
    "stimuli_settings_temp = yaml.load(open(stimuli_temp_path), Loader=yaml.FullLoader)  \n",
    "\n",
    "settings_root_path = base_dir / core_settings[\"paths\"][\"settings_path\"] \n",
    "video_db_path = base_dir / 'data/videos/database_originals.tsv'\n",
    "video_db = pd.read_csv(video_db_path, sep='\\t')"
   ]
  },
  {
   "cell_type": "code",
   "execution_count": 17,
   "metadata": {},
   "outputs": [
    {
     "name": "stdout",
     "output_type": "stream",
     "text": [
      "videos number:  256\n"
     ]
    }
   ],
   "source": [
    "videos_names = []\n",
    "for i in range(1, len(video_db)):\n",
    "    if video_db['grade'][i] == 'k':\n",
    "        videos_names.append(video_db['video_name'][i])\n",
    "print(\"videos number: \", len(videos_names))\n",
    "\n",
    "origin_videos_number = len(videos_names)"
   ]
  },
  {
   "cell_type": "code",
   "execution_count": 18,
   "metadata": {},
   "outputs": [],
   "source": [
    "task90_movie_number = 90\n",
    "task90_blank_number = 15\n",
    "task80_movie_number = 80\n",
    "task80_blank_number = 20\n",
    "task72_movie_number = 72\n",
    "task72_blank_number = 20"
   ]
  },
  {
   "cell_type": "code",
   "execution_count": 19,
   "metadata": {},
   "outputs": [],
   "source": [
    "random.shuffle(videos_names)\n",
    "task90_videos = videos_names[:task90_movie_number]\n",
    "task80_videos = videos_names[:task80_movie_number]\n",
    "task72_videos = videos_names[:task72_movie_number]"
   ]
  },
  {
   "cell_type": "code",
   "execution_count": 20,
   "metadata": {},
   "outputs": [],
   "source": [
    "def make_pilot_session(task_number,task_videos,blank_number):\n",
    "    def distribute(videos,blank_number,type='random'):\n",
    "        if type == 'random':\n",
    "            playlist = videos+['blank']*blank_number\n",
    "            random.shuffle(playlist)\n",
    "            return playlist\n",
    "        elif type == 'uniform':\n",
    "            movie_number_per_blank = int(len(videos)/blank_number)\n",
    "            for i in range(blank_number):\n",
    "                videos.insert((i+1)*movie_number_per_blank+i,\"blank\")\n",
    "            return videos\n",
    "    \n",
    "    def make_pilot_run(run_number,task_videos,blank_number):\n",
    "        videos = copy.deepcopy(task_videos)\n",
    "        #add S_ and R_S_ to the video names with 0.5 probability for each one\n",
    "        for i in range(len(videos)):\n",
    "            videos[i] = 'S_' + videos[i]\n",
    "            '''\n",
    "            if random.random() < 0.5:\n",
    "                \n",
    "                videos[i] = 'S_' + videos[i]\n",
    "            else:\n",
    "                videos[i] = 'R_S_' + videos[i]\n",
    "            '''\n",
    "        settings = copy.deepcopy(stimuli_settings_temp)\n",
    "        random.shuffle(videos)\n",
    "        settings[\"stimuli\"][\"movie_files\"] = distribute(videos,blank_number)\n",
    "        '''\n",
    "        movie_number_per_blank = int(len(videos)/blank_number)\n",
    "        for i in range(blank_number):\n",
    "            settings['stimuli']['movie_files'].insert((i+1)*movie_number_per_blank+i,\"blank\")\n",
    "        '''\n",
    "        with open(\n",
    "            str(settings_root_path)\n",
    "            + \"/\"\n",
    "            + \"learning\"\n",
    "            + \"/experiment_settings_\"\n",
    "            + \"task_\"\n",
    "            + str(task_number).zfill(2)\n",
    "            + \"_run_\"\n",
    "            + str(run_number).zfill(2)\n",
    "            + \".yml\",\n",
    "            \"w\",\n",
    "        ) as outfile:\n",
    "            print(\n",
    "                str(settings_root_path)\n",
    "                + \"/\"\n",
    "                + \"pilot\"\n",
    "                + \"/experiment_settings_\"\n",
    "                + \"task_\"\n",
    "                + str(task_number).zfill(2)\n",
    "                + \"_run_\"\n",
    "                + str(run_number).zfill(2)\n",
    "                + \".yml\",\n",
    "                \"w\",\n",
    "            )\n",
    "            print(settings)\n",
    "            print(\" \")\n",
    "            yaml.dump(settings, outfile, default_flow_style=False)\n",
    "        return settings\n",
    "\n",
    "    run1_settings = make_pilot_run(1,task_videos,blank_number)\n",
    "    run2_settings = make_pilot_run(2,task_videos,blank_number)\n"
   ]
  },
  {
   "cell_type": "code",
   "execution_count": 21,
   "metadata": {},
   "outputs": [
    {
     "name": "stdout",
     "output_type": "stream",
     "text": [
      "/Users/shufanzhang/Documents/PhD/Arrow_of_time/arrow_of_time/aot/data/experiment/settings/pilot/experiment_settings_task_90_run_01.yml w\n",
      "{'stimuli': {'movie_files': ['S_yt-sWBjSPt7tZI_85.mp4', 'S_yt-49utbRVtx1U_16.mp4', 'S_yt-SC9QYt7AKTU_7.mp4', 'S_yt-IOA_DhIDXi8_5.mp4', 'S_yt-EOspahHAnV4_85.mp4', 'S_yt-rslgzryFIGk_71.mp4', 'blank', 'S_yt-sdsSoU6XvU4_77.mp4', 'blank', 'blank', 'S_yt-87sgrMGL5qo_40.mp4', 'S_yt-cONX-OgVhHU_1821.mp4', 'S_yt-tDRPy0Rj6AU_141.mp4', 'S_pexels-rodnae-productions-5993237_1.mp4', 'S_yt-d8svprEgK4s_14.mp4', 'S_ILSVRC2015_train_00682006.mp4', 'S_yt-vMnSbsjGK9k_62.mp4', 'S_yt-QOPuhPO1hkk_27.mp4', 'S_yt-QZI17VPi6a0_127.mp4', 'S_bing-vimeo_com_218382006_69.mp4', 'S_yt-s0lPpn3TAEo_90.mp4', 'blank', 'S_yt-1PJ1RZ0bfls_4.mp4', 'S_AWfiZJsMWQg_99.mp4', 'S_yt-nEGmBw5Bn58_18.mp4', 'S_yt-Op12PQ4bqTw_11.mp4', 'blank', 'S_yt-PMx2hhCk2d8_13.mp4', 'S_yt-oAVThIM5Bhg_241.mp4', 'S_yt-7n_ndwObq_54.mp4', 'S_yt_R-3UiB_5en3gg_145.mp4', 'S_ILSVRC2015_train_00247001.mp4', 'S_yt-9Fxa53fDUWU_34.mp4', 'S_yt-0Sph9-EZQRA_35.mp4', 'S_yt-ZfDtalvUK5k_36.mp4', 'S_yt-7sD6zc169Xo_77.mp4', 'blank', 'S_yt-KC6I552mXwM_6.mp4', 'S_yt-D99Pp5JlUQI_47.mp4', 'S_yt-oASqBTM-5fw_73.mp4', 'S_ILSVRC2015_train_00418000.mp4', 'blank', 'S_yt-j3aQHA2TVq4_38.mp4', 'blank', 'S_yt-nwa8jP9fa1Y_767.mp4', 'blank', 'S_yt-CGBD5bNhmZc_75.mp4', 'S_yt--7-rH4IBKLE_19.mp4', 'S_yt-mH-yEUYOzYY_7.mp4', 'S_10zlWVJ5aRw_5.mp4', 'S_yt-3HpAmr5BApU_35.mp4', 'S_flickr-quinn3411-4569727219_1.mp4', 'S_yt-VdS-PZIDSlM_149.mp4', 'S_yt-XbpTfwsSXc8_124.mp4', 'S_yt-7i9RoM8w7jM_4.mp4', 'S_yt-VabNGLL9gVc_52.mp4', 'S_yt-MMsrBb7W-dk_25.mp4', 'blank', 'S_yt-ie418P-Euz4_1077.mp4', 'S_3y6RUJrI0j8_35.mp4', 'S_yt-mL7eEdD-PNY_33.mp4', 'S_yt-WGxmmrlfdgI_10.mp4', 'S_yt-12WvjZ36dmU_4.mp4', 'S_yt-zRkzk1Y1eoU_50.mp4', 'S_yt-fTlJIM1TtOw_28.mp4', 'S_yt-wb0vMCXWj84_229.mp4', 'blank', 'S_yt-siUaw_L-hrw_116.mp4', 'S_yt-NNl5SiIQHsA_29.mp4', 'S_yt-FH07OivQGOM_30.mp4', 'S_yt-0RBWX9VRzaU_141.mp4', 'S_yt-7SsfOM7v3ns_56.mp4', 'S_yt-kASuBtMK7-o_79.mp4', 'S_ILSVRC2015_train_00339000.mp4', 'S_yt-yzXjWakwpPs_175.mp4', 'S_ILSVRC2015_train_00472000.mp4', 'S_yt-omUwZYZrWy0_375.mp4', 'S_yt-mWL9DHq4eRI_501.mp4', 'S_yt-AKRjrTvvxFc_1804.mp4', 'S_yt-v1PFy5uHQp0_14.mp4', 'S_yt-3tsrlES3thg_81.mp4', 'S_yt-k4B_NtWn41Y_169.mp4', 'S_yt-vT65tZPBrR0_18.mp4', 'S_yt-BLH14fgz6RM_32.mp4', 'S_wc-FHhoQVWB3MOR_1.mp4', 'S_flickr-132148318@N02-26685719802_3.mp4', 'S_yt-I2n2eo2zoZs_133.mp4', 'S_uMYzeAJiua0_199.mp4', 'blank', 'S_yt-lYhibsUW208_26.mp4', 'S_yt-oM9oaz2ytSY_140.mp4', 'S_yt-8EiMToiiXYs_55.mp4', 'S_yt--s2mcDTgwkc_65.mp4', 'blank', 'S_yt_R-0ngqGSOeXEc_415.mp4', 'S_yt-lNevNqA8sIs_54.mp4', 'S_yt--DS6U40wbF0_70.mp4', 'S_yt-auGMEMsCRJI_470.mp4', 'S_ILSVRC2015_train_00351000.mp4', 'blank', 'S_yt-Oxu6w0Zx9dQ_3.mp4', 'S_yt-sa-EMUqvd5w_245.mp4', 'S_yt-kbf7N5K5cS0_35.mp4', 'S_yt-GigCK1Gssew_185.mp4', 'blank']}}\n",
      " \n",
      "/Users/shufanzhang/Documents/PhD/Arrow_of_time/arrow_of_time/aot/data/experiment/settings/pilot/experiment_settings_task_90_run_02.yml w\n",
      "{'stimuli': {'movie_files': ['S_yt-omUwZYZrWy0_375.mp4', 'S_yt-lNevNqA8sIs_54.mp4', 'S_yt-oAVThIM5Bhg_241.mp4', 'S_yt-87sgrMGL5qo_40.mp4', 'S_yt-nwa8jP9fa1Y_767.mp4', 'blank', 'blank', 'S_yt-d8svprEgK4s_14.mp4', 'S_yt-D99Pp5JlUQI_47.mp4', 'S_yt-7i9RoM8w7jM_4.mp4', 'S_yt-k4B_NtWn41Y_169.mp4', 'S_yt-lYhibsUW208_26.mp4', 'blank', 'S_yt-7sD6zc169Xo_77.mp4', 'S_yt-auGMEMsCRJI_470.mp4', 'S_yt-VdS-PZIDSlM_149.mp4', 'S_yt-tDRPy0Rj6AU_141.mp4', 'S_yt-SC9QYt7AKTU_7.mp4', 'S_yt-VabNGLL9gVc_52.mp4', 'S_yt-7n_ndwObq_54.mp4', 'S_yt-j3aQHA2TVq4_38.mp4', 'S_yt-BLH14fgz6RM_32.mp4', 'S_yt-siUaw_L-hrw_116.mp4', 'S_yt-nEGmBw5Bn58_18.mp4', 'S_3y6RUJrI0j8_35.mp4', 'S_yt-0RBWX9VRzaU_141.mp4', 'S_yt-Op12PQ4bqTw_11.mp4', 'S_yt--7-rH4IBKLE_19.mp4', 'S_yt-mL7eEdD-PNY_33.mp4', 'S_yt-KC6I552mXwM_6.mp4', 'S_yt-sdsSoU6XvU4_77.mp4', 'blank', 'S_yt--s2mcDTgwkc_65.mp4', 'S_yt-3tsrlES3thg_81.mp4', 'S_yt-cONX-OgVhHU_1821.mp4', 'S_yt-QZI17VPi6a0_127.mp4', 'S_yt-PMx2hhCk2d8_13.mp4', 'S_ILSVRC2015_train_00418000.mp4', 'blank', 'S_yt-mH-yEUYOzYY_7.mp4', 'blank', 'S_yt-WGxmmrlfdgI_10.mp4', 'S_yt-49utbRVtx1U_16.mp4', 'blank', 'S_yt-Oxu6w0Zx9dQ_3.mp4', 'S_yt-NNl5SiIQHsA_29.mp4', 'S_yt-kbf7N5K5cS0_35.mp4', 'S_yt-I2n2eo2zoZs_133.mp4', 'S_yt-oM9oaz2ytSY_140.mp4', 'S_yt-XbpTfwsSXc8_124.mp4', 'S_yt-QOPuhPO1hkk_27.mp4', 'S_flickr-132148318@N02-26685719802_3.mp4', 'S_yt-EOspahHAnV4_85.mp4', 'S_yt-ZfDtalvUK5k_36.mp4', 'S_yt-sa-EMUqvd5w_245.mp4', 'S_yt-kASuBtMK7-o_79.mp4', 'S_ILSVRC2015_train_00339000.mp4', 'blank', 'S_yt-9Fxa53fDUWU_34.mp4', 'S_yt-mWL9DHq4eRI_501.mp4', 'S_yt-wb0vMCXWj84_229.mp4', 'blank', 'S_10zlWVJ5aRw_5.mp4', 'S_ILSVRC2015_train_00351000.mp4', 'blank', 'S_yt-12WvjZ36dmU_4.mp4', 'S_yt_R-3UiB_5en3gg_145.mp4', 'S_yt-1PJ1RZ0bfls_4.mp4', 'S_ILSVRC2015_train_00247001.mp4', 'S_uMYzeAJiua0_199.mp4', 'S_flickr-quinn3411-4569727219_1.mp4', 'S_yt-sWBjSPt7tZI_85.mp4', 'S_bing-vimeo_com_218382006_69.mp4', 'S_yt-ie418P-Euz4_1077.mp4', 'blank', 'S_yt-yzXjWakwpPs_175.mp4', 'S_yt-vMnSbsjGK9k_62.mp4', 'S_yt_R-0ngqGSOeXEc_415.mp4', 'S_AWfiZJsMWQg_99.mp4', 'S_yt-zRkzk1Y1eoU_50.mp4', 'S_yt-0Sph9-EZQRA_35.mp4', 'blank', 'S_yt-IOA_DhIDXi8_5.mp4', 'S_yt-FH07OivQGOM_30.mp4', 'S_yt-oASqBTM-5fw_73.mp4', 'S_wc-FHhoQVWB3MOR_1.mp4', 'S_yt--DS6U40wbF0_70.mp4', 'blank', 'S_yt-fTlJIM1TtOw_28.mp4', 'S_yt-s0lPpn3TAEo_90.mp4', 'S_yt-7SsfOM7v3ns_56.mp4', 'S_pexels-rodnae-productions-5993237_1.mp4', 'S_yt-GigCK1Gssew_185.mp4', 'S_yt-8EiMToiiXYs_55.mp4', 'S_yt-AKRjrTvvxFc_1804.mp4', 'S_yt-CGBD5bNhmZc_75.mp4', 'S_yt-v1PFy5uHQp0_14.mp4', 'S_yt-3HpAmr5BApU_35.mp4', 'S_yt-vT65tZPBrR0_18.mp4', 'S_yt-rslgzryFIGk_71.mp4', 'blank', 'blank', 'S_ILSVRC2015_train_00682006.mp4', 'S_ILSVRC2015_train_00472000.mp4', 'S_yt-MMsrBb7W-dk_25.mp4']}}\n",
      " \n",
      "/Users/shufanzhang/Documents/PhD/Arrow_of_time/arrow_of_time/aot/data/experiment/settings/pilot/experiment_settings_task_80_run_01.yml w\n",
      "{'stimuli': {'movie_files': ['S_yt-8EiMToiiXYs_55.mp4', 'S_yt-k4B_NtWn41Y_169.mp4', 'S_yt_R-3UiB_5en3gg_145.mp4', 'S_yt-IOA_DhIDXi8_5.mp4', 'S_yt-sWBjSPt7tZI_85.mp4', 'blank', 'blank', 'S_yt-EOspahHAnV4_85.mp4', 'blank', 'blank', 'S_yt-auGMEMsCRJI_470.mp4', 'S_ILSVRC2015_train_00472000.mp4', 'S_yt-WGxmmrlfdgI_10.mp4', 'S_yt-cONX-OgVhHU_1821.mp4', 'S_yt-omUwZYZrWy0_375.mp4', 'S_yt-49utbRVtx1U_16.mp4', 'S_yt-7n_ndwObq_54.mp4', 'S_yt-rslgzryFIGk_71.mp4', 'blank', 'S_yt-FH07OivQGOM_30.mp4', 'S_yt-tDRPy0Rj6AU_141.mp4', 'S_10zlWVJ5aRw_5.mp4', 'S_flickr-132148318@N02-26685719802_3.mp4', 'blank', 'S_yt-XbpTfwsSXc8_124.mp4', 'S_3y6RUJrI0j8_35.mp4', 'S_yt-12WvjZ36dmU_4.mp4', 'S_yt-nEGmBw5Bn58_18.mp4', 'S_yt-sdsSoU6XvU4_77.mp4', 'S_yt-Op12PQ4bqTw_11.mp4', 'S_yt-0Sph9-EZQRA_35.mp4', 'S_yt--DS6U40wbF0_70.mp4', 'blank', 'S_yt-s0lPpn3TAEo_90.mp4', 'S_ILSVRC2015_train_00682006.mp4', 'S_yt-lNevNqA8sIs_54.mp4', 'S_yt-D99Pp5JlUQI_47.mp4', 'S_ILSVRC2015_train_00247001.mp4', 'S_yt-oAVThIM5Bhg_241.mp4', 'S_yt-vT65tZPBrR0_18.mp4', 'S_yt-d8svprEgK4s_14.mp4', 'S_yt-MMsrBb7W-dk_25.mp4', 'blank', 'S_yt-siUaw_L-hrw_116.mp4', 'S_yt-kASuBtMK7-o_79.mp4', 'blank', 'blank', 'S_yt-vMnSbsjGK9k_62.mp4', 'S_yt-3HpAmr5BApU_35.mp4', 'S_yt-zRkzk1Y1eoU_50.mp4', 'S_yt-PMx2hhCk2d8_13.mp4', 'S_yt-3tsrlES3thg_81.mp4', 'S_flickr-quinn3411-4569727219_1.mp4', 'S_yt-BLH14fgz6RM_32.mp4', 'S_yt-QZI17VPi6a0_127.mp4', 'S_yt-VabNGLL9gVc_52.mp4', 'S_yt-sa-EMUqvd5w_245.mp4', 'S_yt-NNl5SiIQHsA_29.mp4', 'S_yt-nwa8jP9fa1Y_767.mp4', 'S_yt-0RBWX9VRzaU_141.mp4', 'S_yt-mWL9DHq4eRI_501.mp4', 'S_bing-vimeo_com_218382006_69.mp4', 'S_yt-Oxu6w0Zx9dQ_3.mp4', 'blank', 'blank', 'S_pexels-rodnae-productions-5993237_1.mp4', 'blank', 'S_yt-wb0vMCXWj84_229.mp4', 'S_yt-1PJ1RZ0bfls_4.mp4', 'S_yt-87sgrMGL5qo_40.mp4', 'S_yt-I2n2eo2zoZs_133.mp4', 'S_yt-ie418P-Euz4_1077.mp4', 'S_yt-7i9RoM8w7jM_4.mp4', 'blank', 'S_yt-KC6I552mXwM_6.mp4', 'blank', 'S_ILSVRC2015_train_00418000.mp4', 'S_yt-oM9oaz2ytSY_140.mp4', 'S_ILSVRC2015_train_00351000.mp4', 'blank', 'S_yt-GigCK1Gssew_185.mp4', 'S_yt-v1PFy5uHQp0_14.mp4', 'S_yt--7-rH4IBKLE_19.mp4', 'S_yt-VdS-PZIDSlM_149.mp4', 'S_ILSVRC2015_train_00339000.mp4', 'S_yt-QOPuhPO1hkk_27.mp4', 'S_yt-ZfDtalvUK5k_36.mp4', 'S_yt-mL7eEdD-PNY_33.mp4', 'S_yt-oASqBTM-5fw_73.mp4', 'S_yt--s2mcDTgwkc_65.mp4', 'S_yt-mH-yEUYOzYY_7.mp4', 'blank', 'S_yt-fTlJIM1TtOw_28.mp4', 'S_yt_R-0ngqGSOeXEc_415.mp4', 'S_yt-7sD6zc169Xo_77.mp4', 'S_uMYzeAJiua0_199.mp4', 'blank', 'blank', 'blank', 'S_yt-yzXjWakwpPs_175.mp4']}}\n",
      " \n",
      "/Users/shufanzhang/Documents/PhD/Arrow_of_time/arrow_of_time/aot/data/experiment/settings/pilot/experiment_settings_task_80_run_02.yml w\n",
      "{'stimuli': {'movie_files': ['blank', 'blank', 'S_yt-EOspahHAnV4_85.mp4', 'S_ILSVRC2015_train_00472000.mp4', 'blank', 'S_yt--DS6U40wbF0_70.mp4', 'blank', 'blank', 'S_yt-nwa8jP9fa1Y_767.mp4', 'S_yt-v1PFy5uHQp0_14.mp4', 'S_yt-mWL9DHq4eRI_501.mp4', 'S_yt-Oxu6w0Zx9dQ_3.mp4', 'S_yt-auGMEMsCRJI_470.mp4', 'blank', 'S_yt-NNl5SiIQHsA_29.mp4', 'S_yt-yzXjWakwpPs_175.mp4', 'blank', 'blank', 'S_ILSVRC2015_train_00339000.mp4', 'S_yt-7n_ndwObq_54.mp4', 'blank', 'S_yt-omUwZYZrWy0_375.mp4', 'S_yt-FH07OivQGOM_30.mp4', 'S_yt-VdS-PZIDSlM_149.mp4', 'S_yt-mH-yEUYOzYY_7.mp4', 'blank', 'S_yt-0RBWX9VRzaU_141.mp4', 'S_yt-vMnSbsjGK9k_62.mp4', 'S_yt-87sgrMGL5qo_40.mp4', 'blank', 'S_yt-sWBjSPt7tZI_85.mp4', 'S_yt-zRkzk1Y1eoU_50.mp4', 'S_yt-PMx2hhCk2d8_13.mp4', 'S_yt-cONX-OgVhHU_1821.mp4', 'S_yt-tDRPy0Rj6AU_141.mp4', 'S_yt-d8svprEgK4s_14.mp4', 'S_yt-GigCK1Gssew_185.mp4', 'S_yt-kASuBtMK7-o_79.mp4', 'S_3y6RUJrI0j8_35.mp4', 'S_bing-vimeo_com_218382006_69.mp4', 'S_yt-0Sph9-EZQRA_35.mp4', 'S_yt_R-3UiB_5en3gg_145.mp4', 'S_uMYzeAJiua0_199.mp4', 'S_yt-QZI17VPi6a0_127.mp4', 'S_yt-3HpAmr5BApU_35.mp4', 'S_pexels-rodnae-productions-5993237_1.mp4', 'S_yt-49utbRVtx1U_16.mp4', 'S_yt-s0lPpn3TAEo_90.mp4', 'S_yt-vT65tZPBrR0_18.mp4', 'S_yt-k4B_NtWn41Y_169.mp4', 'S_yt-QOPuhPO1hkk_27.mp4', 'S_yt-nEGmBw5Bn58_18.mp4', 'S_yt-ie418P-Euz4_1077.mp4', 'blank', 'S_yt-7sD6zc169Xo_77.mp4', 'blank', 'S_ILSVRC2015_train_00682006.mp4', 'blank', 'S_yt-7i9RoM8w7jM_4.mp4', 'S_flickr-quinn3411-4569727219_1.mp4', 'blank', 'S_ILSVRC2015_train_00247001.mp4', 'S_yt-1PJ1RZ0bfls_4.mp4', 'S_yt-3tsrlES3thg_81.mp4', 'S_yt-oASqBTM-5fw_73.mp4', 'S_yt--s2mcDTgwkc_65.mp4', 'S_yt-WGxmmrlfdgI_10.mp4', 'S_yt-KC6I552mXwM_6.mp4', 'S_yt-XbpTfwsSXc8_124.mp4', 'S_yt-Op12PQ4bqTw_11.mp4', 'S_yt-MMsrBb7W-dk_25.mp4', 'S_yt-oAVThIM5Bhg_241.mp4', 'blank', 'S_yt-BLH14fgz6RM_32.mp4', 'S_yt_R-0ngqGSOeXEc_415.mp4', 'S_yt-VabNGLL9gVc_52.mp4', 'S_yt-sdsSoU6XvU4_77.mp4', 'S_yt-fTlJIM1TtOw_28.mp4', 'S_yt-12WvjZ36dmU_4.mp4', 'S_ILSVRC2015_train_00418000.mp4', 'S_yt-wb0vMCXWj84_229.mp4', 'S_yt-mL7eEdD-PNY_33.mp4', 'blank', 'S_flickr-132148318@N02-26685719802_3.mp4', 'S_10zlWVJ5aRw_5.mp4', 'blank', 'S_yt-8EiMToiiXYs_55.mp4', 'blank', 'S_yt-sa-EMUqvd5w_245.mp4', 'S_ILSVRC2015_train_00351000.mp4', 'S_yt-lNevNqA8sIs_54.mp4', 'S_yt--7-rH4IBKLE_19.mp4', 'S_yt-IOA_DhIDXi8_5.mp4', 'blank', 'S_yt-siUaw_L-hrw_116.mp4', 'S_yt-I2n2eo2zoZs_133.mp4', 'S_yt-ZfDtalvUK5k_36.mp4', 'S_yt-rslgzryFIGk_71.mp4', 'S_yt-D99Pp5JlUQI_47.mp4', 'S_yt-oM9oaz2ytSY_140.mp4']}}\n",
      " \n",
      "/Users/shufanzhang/Documents/PhD/Arrow_of_time/arrow_of_time/aot/data/experiment/settings/pilot/experiment_settings_task_72_run_01.yml w\n",
      "{'stimuli': {'movie_files': ['S_yt-nEGmBw5Bn58_18.mp4', 'S_yt-0RBWX9VRzaU_141.mp4', 'blank', 'S_yt-7i9RoM8w7jM_4.mp4', 'blank', 'S_yt-12WvjZ36dmU_4.mp4', 'S_yt-49utbRVtx1U_16.mp4', 'S_yt-I2n2eo2zoZs_133.mp4', 'S_yt-lNevNqA8sIs_54.mp4', 'S_yt-wb0vMCXWj84_229.mp4', 'S_ILSVRC2015_train_00351000.mp4', 'S_yt-ZfDtalvUK5k_36.mp4', 'blank', 'S_yt-sWBjSPt7tZI_85.mp4', 'S_yt--7-rH4IBKLE_19.mp4', 'blank', 'S_yt-8EiMToiiXYs_55.mp4', 'blank', 'S_10zlWVJ5aRw_5.mp4', 'S_yt-QOPuhPO1hkk_27.mp4', 'S_yt--s2mcDTgwkc_65.mp4', 'blank', 'blank', 'S_yt-WGxmmrlfdgI_10.mp4', 'S_yt-XbpTfwsSXc8_124.mp4', 'S_ILSVRC2015_train_00472000.mp4', 'S_yt-oM9oaz2ytSY_140.mp4', 'S_ILSVRC2015_train_00339000.mp4', 'S_yt-Oxu6w0Zx9dQ_3.mp4', 'S_yt-PMx2hhCk2d8_13.mp4', 'S_yt-1PJ1RZ0bfls_4.mp4', 'S_yt-zRkzk1Y1eoU_50.mp4', 'S_yt-BLH14fgz6RM_32.mp4', 'S_yt-tDRPy0Rj6AU_141.mp4', 'blank', 'S_yt-siUaw_L-hrw_116.mp4', 'S_uMYzeAJiua0_199.mp4', 'S_yt-yzXjWakwpPs_175.mp4', 'blank', 'S_bing-vimeo_com_218382006_69.mp4', 'blank', 'S_ILSVRC2015_train_00247001.mp4', 'S_yt-d8svprEgK4s_14.mp4', 'S_3y6RUJrI0j8_35.mp4', 'blank', 'S_yt-KC6I552mXwM_6.mp4', 'S_yt-VabNGLL9gVc_52.mp4', 'S_yt-FH07OivQGOM_30.mp4', 'S_yt_R-3UiB_5en3gg_145.mp4', 'S_yt-kASuBtMK7-o_79.mp4', 'S_yt-oASqBTM-5fw_73.mp4', 'S_flickr-132148318@N02-26685719802_3.mp4', 'S_yt-NNl5SiIQHsA_29.mp4', 'S_yt-mH-yEUYOzYY_7.mp4', 'S_yt-auGMEMsCRJI_470.mp4', 'S_yt-s0lPpn3TAEo_90.mp4', 'blank', 'S_yt-ie418P-Euz4_1077.mp4', 'S_yt-cONX-OgVhHU_1821.mp4', 'S_ILSVRC2015_train_00418000.mp4', 'S_flickr-quinn3411-4569727219_1.mp4', 'S_yt_R-0ngqGSOeXEc_415.mp4', 'blank', 'S_pexels-rodnae-productions-5993237_1.mp4', 'S_yt-7n_ndwObq_54.mp4', 'S_yt-D99Pp5JlUQI_47.mp4', 'S_yt-Op12PQ4bqTw_11.mp4', 'S_yt-fTlJIM1TtOw_28.mp4', 'S_yt-oAVThIM5Bhg_241.mp4', 'S_yt-mWL9DHq4eRI_501.mp4', 'S_yt-vT65tZPBrR0_18.mp4', 'blank', 'S_yt-87sgrMGL5qo_40.mp4', 'blank', 'blank', 'S_yt-sa-EMUqvd5w_245.mp4', 'blank', 'S_yt-QZI17VPi6a0_127.mp4', 'S_yt-sdsSoU6XvU4_77.mp4', 'S_yt-7sD6zc169Xo_77.mp4', 'S_yt-k4B_NtWn41Y_169.mp4', 'S_yt-3tsrlES3thg_81.mp4', 'S_yt-EOspahHAnV4_85.mp4', 'blank', 'S_ILSVRC2015_train_00682006.mp4', 'blank', 'blank', 'S_yt-MMsrBb7W-dk_25.mp4', 'S_yt-VdS-PZIDSlM_149.mp4', 'S_yt-nwa8jP9fa1Y_767.mp4', 'S_yt-0Sph9-EZQRA_35.mp4', 'S_yt-omUwZYZrWy0_375.mp4']}}\n",
      " \n",
      "/Users/shufanzhang/Documents/PhD/Arrow_of_time/arrow_of_time/aot/data/experiment/settings/pilot/experiment_settings_task_72_run_02.yml w\n",
      "{'stimuli': {'movie_files': ['blank', 'S_yt-VabNGLL9gVc_52.mp4', 'S_yt-sdsSoU6XvU4_77.mp4', 'S_pexels-rodnae-productions-5993237_1.mp4', 'S_yt-lNevNqA8sIs_54.mp4', 'S_yt-oAVThIM5Bhg_241.mp4', 'blank', 'S_yt--7-rH4IBKLE_19.mp4', 'blank', 'blank', 'S_yt-49utbRVtx1U_16.mp4', 'S_yt-nwa8jP9fa1Y_767.mp4', 'blank', 'S_yt-tDRPy0Rj6AU_141.mp4', 'S_yt-cONX-OgVhHU_1821.mp4', 'S_yt-Op12PQ4bqTw_11.mp4', 'S_yt-I2n2eo2zoZs_133.mp4', 'blank', 'S_yt-mH-yEUYOzYY_7.mp4', 'S_yt-FH07OivQGOM_30.mp4', 'blank', 'blank', 'S_ILSVRC2015_train_00472000.mp4', 'S_yt-BLH14fgz6RM_32.mp4', 'S_yt-0RBWX9VRzaU_141.mp4', 'blank', 'S_yt-XbpTfwsSXc8_124.mp4', 'S_yt-1PJ1RZ0bfls_4.mp4', 'S_yt-ie418P-Euz4_1077.mp4', 'S_ILSVRC2015_train_00339000.mp4', 'S_yt-8EiMToiiXYs_55.mp4', 'S_yt-KC6I552mXwM_6.mp4', 'S_yt-7i9RoM8w7jM_4.mp4', 'S_yt-zRkzk1Y1eoU_50.mp4', 'S_yt-7n_ndwObq_54.mp4', 'S_yt-oM9oaz2ytSY_140.mp4', 'S_yt-sa-EMUqvd5w_245.mp4', 'S_yt-fTlJIM1TtOw_28.mp4', 'S_yt-QOPuhPO1hkk_27.mp4', 'S_ILSVRC2015_train_00682006.mp4', 'S_3y6RUJrI0j8_35.mp4', 'blank', 'blank', 'S_yt-auGMEMsCRJI_470.mp4', 'S_yt-siUaw_L-hrw_116.mp4', 'S_yt-QZI17VPi6a0_127.mp4', 'S_yt-VdS-PZIDSlM_149.mp4', 'S_yt-PMx2hhCk2d8_13.mp4', 'S_yt-87sgrMGL5qo_40.mp4', 'S_flickr-quinn3411-4569727219_1.mp4', 'S_yt-mWL9DHq4eRI_501.mp4', 'S_yt-k4B_NtWn41Y_169.mp4', 'S_yt-oASqBTM-5fw_73.mp4', 'S_yt-MMsrBb7W-dk_25.mp4', 'S_yt-0Sph9-EZQRA_35.mp4', 'S_yt-WGxmmrlfdgI_10.mp4', 'blank', 'S_ILSVRC2015_train_00351000.mp4', 'S_10zlWVJ5aRw_5.mp4', 'S_ILSVRC2015_train_00418000.mp4', 'S_yt-wb0vMCXWj84_229.mp4', 'S_yt_R-0ngqGSOeXEc_415.mp4', 'blank', 'S_yt-Oxu6w0Zx9dQ_3.mp4', 'blank', 'S_yt-7sD6zc169Xo_77.mp4', 'blank', 'S_yt-ZfDtalvUK5k_36.mp4', 'S_yt-s0lPpn3TAEo_90.mp4', 'S_yt-EOspahHAnV4_85.mp4', 'S_yt-sWBjSPt7tZI_85.mp4', 'S_yt-D99Pp5JlUQI_47.mp4', 'blank', 'S_ILSVRC2015_train_00247001.mp4', 'S_yt-d8svprEgK4s_14.mp4', 'S_uMYzeAJiua0_199.mp4', 'S_bing-vimeo_com_218382006_69.mp4', 'S_yt-NNl5SiIQHsA_29.mp4', 'S_yt-omUwZYZrWy0_375.mp4', 'S_yt-3tsrlES3thg_81.mp4', 'S_yt--s2mcDTgwkc_65.mp4', 'S_yt-12WvjZ36dmU_4.mp4', 'S_yt_R-3UiB_5en3gg_145.mp4', 'blank', 'S_yt-kASuBtMK7-o_79.mp4', 'S_yt-vT65tZPBrR0_18.mp4', 'S_yt-yzXjWakwpPs_175.mp4', 'blank', 'S_flickr-132148318@N02-26685719802_3.mp4', 'blank', 'blank', 'S_yt-nEGmBw5Bn58_18.mp4']}}\n",
      " \n"
     ]
    }
   ],
   "source": [
    "make_pilot_session(90,task90_videos,task90_blank_number)\n",
    "make_pilot_session(80,task80_videos,task80_blank_number)\n",
    "make_pilot_session(72,task72_videos,task72_blank_number) # 72 movies, 20 blanks but 72/20 = 3.6 there is a problem"
   ]
  }
 ],
 "metadata": {
  "kernelspec": {
   "display_name": "base",
   "language": "python",
   "name": "python3"
  },
  "language_info": {
   "codemirror_mode": {
    "name": "ipython",
    "version": 3
   },
   "file_extension": ".py",
   "mimetype": "text/x-python",
   "name": "python",
   "nbconvert_exporter": "python",
   "pygments_lexer": "ipython3",
   "version": "3.9.12"
  },
  "orig_nbformat": 4
 },
 "nbformat": 4,
 "nbformat_minor": 2
}
