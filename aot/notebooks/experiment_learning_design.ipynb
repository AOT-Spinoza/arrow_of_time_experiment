{
 "cells": [
  {
   "cell_type": "code",
   "execution_count": 1,
   "metadata": {},
   "outputs": [],
   "source": [
    "import os\n",
    "import pandas as pd\n",
    "import yaml\n",
    "import copy\n",
    "import random\n",
    "from pathlib import Path\n",
    "import matplotlib.pyplot as plt\n",
    "\n",
    "import aot"
   ]
  },
  {
   "cell_type": "code",
   "execution_count": 2,
   "metadata": {},
   "outputs": [],
   "source": [
    "base_dir = Path(aot.__path__[0]) \n",
    "core_expt_yaml_path = base_dir / \"experiment/core_exp_settings.yml\"\n",
    "stimuli_temp_path = base_dir / \"experiment/stimuli_settings_temp.yml\"\n",
    "core_settings = yaml.load(open(core_expt_yaml_path), Loader=yaml.FullLoader)\n",
    "stimuli_settings_temp = yaml.load(open(stimuli_temp_path), Loader=yaml.FullLoader)  \n",
    "\n",
    "settings_root_path = base_dir / core_settings[\"paths\"][\"settings_path\"] \n",
    "video_db_path = base_dir / 'data/videos/database_originals.tsv'\n",
    "video_db = pd.read_csv(video_db_path, sep='\\t')"
   ]
  },
  {
   "cell_type": "code",
   "execution_count": 3,
   "metadata": {},
   "outputs": [
    {
     "name": "stdout",
     "output_type": "stream",
     "text": [
      "videos number:  129\n"
     ]
    }
   ],
   "source": [
    "videos_names = []\n",
    "for i in range(1, len(video_db)):\n",
    "    if video_db['grade'][i] == 'k':\n",
    "        videos_names.append(video_db['video_name'][i])\n",
    "print(\"videos number: \", len(videos_names))\n",
    "\n",
    "origin_videos_number = len(videos_names)"
   ]
  },
  {
   "cell_type": "code",
   "execution_count": 4,
   "metadata": {},
   "outputs": [],
   "source": [
    "task90_movie_number = 90\n",
    "task90_blank_number = 15\n",
    "task80_movie_number = 80\n",
    "task80_blank_number = 20\n",
    "task72_movie_number = 72\n",
    "task72_blank_number = 20"
   ]
  },
  {
   "cell_type": "code",
   "execution_count": 5,
   "metadata": {},
   "outputs": [],
   "source": [
    "random.shuffle(videos_names)\n",
    "task90_videos = videos_names[:task90_movie_number]\n",
    "task80_videos = videos_names[:task80_movie_number]\n",
    "task72_videos = videos_names[:task72_movie_number]"
   ]
  },
  {
   "cell_type": "code",
   "execution_count": 6,
   "metadata": {},
   "outputs": [],
   "source": [
    "def make_pilot_session(task_number,task_videos,blank_number):\n",
    "    def distribute(videos,blank_number,type='random'):\n",
    "        if type == 'random':\n",
    "            playlist = videos+['blank']*blank_number\n",
    "            random.shuffle(playlist)\n",
    "            return playlist\n",
    "        elif type == 'uniform':\n",
    "            movie_number_per_blank = int(len(videos)/blank_number)\n",
    "            for i in range(blank_number):\n",
    "                videos.insert((i+1)*movie_number_per_blank+i,\"blank\")\n",
    "            return videos\n",
    "    \n",
    "    def make_pilot_run(run_number,task_videos,blank_number):\n",
    "        videos = copy.deepcopy(task_videos)\n",
    "        #add S_ and R_S_ to the video names with 0.5 probability for each one\n",
    "        for i in range(len(videos)):\n",
    "            videos[i] = 'S_' + videos[i]\n",
    "            '''\n",
    "            if random.random() < 0.5:\n",
    "                \n",
    "                videos[i] = 'S_' + videos[i]\n",
    "            else:\n",
    "                videos[i] = 'R_S_' + videos[i]\n",
    "            '''\n",
    "        settings = copy.deepcopy(stimuli_settings_temp)\n",
    "        random.shuffle(videos)\n",
    "        settings[\"stimuli\"][\"movie_files\"] = distribute(videos,blank_number)\n",
    "        '''\n",
    "        movie_number_per_blank = int(len(videos)/blank_number)\n",
    "        for i in range(blank_number):\n",
    "            settings['stimuli']['movie_files'].insert((i+1)*movie_number_per_blank+i,\"blank\")\n",
    "        '''\n",
    "        with open(\n",
    "            str(settings_root_path)\n",
    "            + \"/\"\n",
    "            + \"learning\"\n",
    "            + \"/experiment_settings_\"\n",
    "            + \"task_\"\n",
    "            + str(task_number).zfill(2)\n",
    "            + \"_run_\"\n",
    "            + str(run_number).zfill(2)\n",
    "            + \".yml\",\n",
    "            \"w\",\n",
    "        ) as outfile:\n",
    "            print(\n",
    "                str(settings_root_path)\n",
    "                + \"/\"\n",
    "                + \"pilot\"\n",
    "                + \"/experiment_settings_\"\n",
    "                + \"task_\"\n",
    "                + str(task_number).zfill(2)\n",
    "                + \"_run_\"\n",
    "                + str(run_number).zfill(2)\n",
    "                + \".yml\",\n",
    "                \"w\",\n",
    "            )\n",
    "            print(settings)\n",
    "            print(\" \")\n",
    "            yaml.dump(settings, outfile, default_flow_style=False)\n",
    "        return settings\n",
    "\n",
    "    run1_settings = make_pilot_run(1,task_videos,blank_number)\n",
    "    run2_settings = make_pilot_run(2,task_videos,blank_number)\n"
   ]
  },
  {
   "cell_type": "code",
   "execution_count": 7,
   "metadata": {},
   "outputs": [
    {
     "name": "stdout",
     "output_type": "stream",
     "text": [
      "/Users/shufanzhang/Documents/PhD/Arrow_of_time/arrow_of_time/aot/data/experiment/settings/pilot/experiment_settings_task_90_run_01.yml w\n",
      "{'stimuli': {'movie_files': ['S_yt-loe3Rqs8TEM_46.mp4', 'S_yt-Z_irN6cNiD4_148.mp4', 'S_yt-t9sowxGR_s4_1.mp4', 'S_yt-6_SgWsPne7M_11.mp4', 'S_yt-n12iRXTksXA_65.mp4', 'blank', 'S_yt-S6N5FyjSFZE_4.mp4', 'S_yt-sZBe-xmTySc_8.mp4', 'S_yt-qHUewJuLW4o_19.mp4', 'S_yt-YZO4_2yJLWE_1447.mp4', 'blank', 'S_yt-GpVFUM8K0yE_68.mp4', 'S_yt-Hs5HF3mTQ7A_9.mp4', 'S_yt-ZmoUDsP2y40_8.mp4', 'blank', 'blank', 'S_yt-H2y1th4WaWU_51.mp4', 'S_production_ID_4820331.mp4', 'blank', 'S_yt-fAWPQRcrXl0_38.mp4', 'blank', 'S_yt-A-RhzHTz38g_21.mp4', 'blank', 'S_yt-oypn4VCTu6U_279.mp4', 'S_ILSVRC2015_train_00661004.mp4', 'S_yt-xUPucH7kNAs_178.mp4', 'blank', 'S_yt-e5ua5Pj86E4_140.mp4', 'S_ILSVRC2015_train_00415002.mp4', 'S_yt-a_awONsLFfE_107.mp4', 'S_yt-65cexqxy5lU_35.mp4', 'S_yt-JxqSboqaUPY_5.mp4', 'S_yt-Y32yFYRmNVU_22.mp4', 'S_yt-AJypa57HKqM_28.mp4', 'S_yt-YWfInCviN1s_126.mp4', 'S_yt-Uih643A1YtA_110.mp4', 'S_ILSVRC2015_train_00552000.mp4', 'S_yt-9PTQ4U4oPUU_243.mp4', 'S_yt-VypeVQ7gJ_k_578.mp4', 'S_yt-DpLc4e4bpu0_1467.mp4', 'S_yt-sBdvBO-TPNM_8.mp4', 'blank', 'S_yt-4slVHFGPwEs_744.mp4', 'S_yt-mOQJwaPQbMg_5.mp4', 'S_yt-q8mfIumbHuo_84.mp4', 'S_yt-jovPh9BdlYI_215.mp4', 'S_yt-jsG6vM9Lkoc_318.mp4', 'S_ILSVRC2015_train_00536000.mp4', 'S_yt-DfgpLIP0jnk_105.mp4', 'S_yt-ePxv64kEqa0_177.mp4', 'S_yt-Pd3_4Z2tbFU_47.mp4', 'S_yt-A1XT1fT1c8w_24.mp4', 'blank', 'S_yt-cILZ_cB3_so_73.mp4', 'S_yt-gbDSSDcRlg4_31.mp4', 'S_yt-MXCxHM_Ms8A_15.mp4', 'S_yt-pB-AcJ71tzA_20.mp4', 'S_yt-DO1vncSoiJk_58.mp4', 'S_yt-ChAhBD9LrsU_223.mp4', 'S_yt-P2RwcXMKIbQ_1.mp4', 'S_2E67nCgRCGk_75.mp4', 'S_yt-2U5u3lLJx5M_7.mp4', 'S_yt-RL1chIcbTPQ_11.mp4', 'S_yt-u0N1IsXxLM4_103.mp4', 'S_yt-VyVvEvP6MRM_124.mp4', 'S_yt-GBqXIFjZf8w_28.mp4', 'blank', 'S_yt-hjqjWlzPRjY_76.mp4', 'S_yt-bWXohhodbjg_86.mp4', 'S_CHWw361oMSQ_195.mp4', 'S_yt-cWBQB8CxsVY_69.mp4', 'S_yt-g_RCws799LQ_52.mp4', 'S_ILSVRC2015_train_00611000.mp4', 'S_yt-p-kbRhTdyiQ_31.mp4', 'S_yt-1VTxnf2hZ0w_675.mp4', 'S_ILSVRC2015_train_00707000.mp4', 'S_yt-D9iwtEHx8M0_20.mp4', 'S_yt-2wb0b0pdSxU_59.mp4', 'S_yt-NqZHX-eOVUA_35.mp4', 'blank', 'S_flickr-thelastdon-8662706978_3.mp4', 'S_yt-e9ttJw0BUuU_40.mp4', 'S_yt-Z1ozMh4szTk_13.mp4', 'S_yt-ihCTIoE7qsk_730.mp4', 'blank', 'S_yt-PQYnj2BR17I_16.mp4', 'S_yt-be6x_357tjE_41.mp4', 'S_ILSVRC2015_train_00416000.mp4', 'S_yt-gbDSSDcRlg4_19.mp4', 'S_yt-PDNWrJ2bZ6I_79.mp4', 'S_yt-iCGU1R75BZo_52.mp4', 'blank', 'S_ILSVRC2015_train_00768002.mp4', 'S_yt-cAFx29wS_xo_130.mp4', 'S_yt-58F4cMRhSw8_69.mp4', 'S_yt-5IEO9Gn5fZ4_59.mp4', 'blank', 'S_yt-gCKmHV5tdSk_59.mp4', 'S_yt-16eN45838LU_255.mp4', 'S_yt-NVYfkMFUxMk_466.mp4', 'S_yt-iuqdW5OLSzc_6.mp4', 'S_yt-T2CzKcU8pHo_17.mp4', 'S_yt-z8fEOmzDlD4_21.mp4', 'S_yt-T2Izta7lYZg_111.mp4', 'S_yt-Y-8d31A9JXg_12.mp4']}}\n",
      " \n",
      "/Users/shufanzhang/Documents/PhD/Arrow_of_time/arrow_of_time/aot/data/experiment/settings/pilot/experiment_settings_task_90_run_02.yml w\n",
      "{'stimuli': {'movie_files': ['blank', 'blank', 'S_yt-NVYfkMFUxMk_466.mp4', 'S_yt-GBqXIFjZf8w_28.mp4', 'S_yt-hjqjWlzPRjY_76.mp4', 'S_yt-Z1ozMh4szTk_13.mp4', 'S_yt-MXCxHM_Ms8A_15.mp4', 'blank', 'S_yt-iuqdW5OLSzc_6.mp4', 'S_yt-2wb0b0pdSxU_59.mp4', 'S_yt-ZmoUDsP2y40_8.mp4', 'S_yt-H2y1th4WaWU_51.mp4', 'S_yt-e5ua5Pj86E4_140.mp4', 'S_yt-ihCTIoE7qsk_730.mp4', 'S_yt-RL1chIcbTPQ_11.mp4', 'S_yt-xUPucH7kNAs_178.mp4', 'S_yt-S6N5FyjSFZE_4.mp4', 'S_yt-gCKmHV5tdSk_59.mp4', 'S_yt-DfgpLIP0jnk_105.mp4', 'blank', 'S_CHWw361oMSQ_195.mp4', 'blank', 'S_yt-t9sowxGR_s4_1.mp4', 'blank', 'S_flickr-thelastdon-8662706978_3.mp4', 'S_yt-p-kbRhTdyiQ_31.mp4', 'S_yt-be6x_357tjE_41.mp4', 'S_ILSVRC2015_train_00611000.mp4', 'S_yt-Pd3_4Z2tbFU_47.mp4', 'S_yt-cAFx29wS_xo_130.mp4', 'S_yt-DpLc4e4bpu0_1467.mp4', 'S_yt-bWXohhodbjg_86.mp4', 'S_yt-6_SgWsPne7M_11.mp4', 'S_yt-DO1vncSoiJk_58.mp4', 'S_yt-cWBQB8CxsVY_69.mp4', 'S_yt-fAWPQRcrXl0_38.mp4', 'blank', 'S_yt-sZBe-xmTySc_8.mp4', 'S_yt-GpVFUM8K0yE_68.mp4', 'S_yt-YWfInCviN1s_126.mp4', 'S_yt-g_RCws799LQ_52.mp4', 'S_yt-gbDSSDcRlg4_31.mp4', 'S_yt-e9ttJw0BUuU_40.mp4', 'S_yt-q8mfIumbHuo_84.mp4', 'S_ILSVRC2015_train_00768002.mp4', 'S_yt-u0N1IsXxLM4_103.mp4', 'blank', 'S_yt-jovPh9BdlYI_215.mp4', 'S_2E67nCgRCGk_75.mp4', 'S_yt-z8fEOmzDlD4_21.mp4', 'S_ILSVRC2015_train_00536000.mp4', 'blank', 'S_yt-58F4cMRhSw8_69.mp4', 'S_ILSVRC2015_train_00707000.mp4', 'S_yt-AJypa57HKqM_28.mp4', 'S_yt-JxqSboqaUPY_5.mp4', 'S_yt-16eN45838LU_255.mp4', 'S_ILSVRC2015_train_00552000.mp4', 'S_yt-ChAhBD9LrsU_223.mp4', 'S_ILSVRC2015_train_00661004.mp4', 'S_yt-2U5u3lLJx5M_7.mp4', 'S_yt-Z_irN6cNiD4_148.mp4', 'S_yt-loe3Rqs8TEM_46.mp4', 'S_yt-mOQJwaPQbMg_5.mp4', 'S_yt-1VTxnf2hZ0w_675.mp4', 'blank', 'S_yt-5IEO9Gn5fZ4_59.mp4', 'S_yt-gbDSSDcRlg4_19.mp4', 'S_yt-Y-8d31A9JXg_12.mp4', 'blank', 'S_yt-VyVvEvP6MRM_124.mp4', 'S_yt-4slVHFGPwEs_744.mp4', 'S_yt-ePxv64kEqa0_177.mp4', 'blank', 'S_yt-pB-AcJ71tzA_20.mp4', 'S_yt-a_awONsLFfE_107.mp4', 'S_yt-Y32yFYRmNVU_22.mp4', 'S_yt-PDNWrJ2bZ6I_79.mp4', 'S_yt-D9iwtEHx8M0_20.mp4', 'S_yt-A-RhzHTz38g_21.mp4', 'S_yt-9PTQ4U4oPUU_243.mp4', 'S_ILSVRC2015_train_00415002.mp4', 'S_yt-jsG6vM9Lkoc_318.mp4', 'S_production_ID_4820331.mp4', 'S_yt-sBdvBO-TPNM_8.mp4', 'blank', 'S_yt-qHUewJuLW4o_19.mp4', 'S_yt-Hs5HF3mTQ7A_9.mp4', 'S_yt-Uih643A1YtA_110.mp4', 'blank', 'S_yt-NqZHX-eOVUA_35.mp4', 'S_yt-65cexqxy5lU_35.mp4', 'S_yt-T2Izta7lYZg_111.mp4', 'S_yt-PQYnj2BR17I_16.mp4', 'S_ILSVRC2015_train_00416000.mp4', 'blank', 'S_yt-oypn4VCTu6U_279.mp4', 'S_yt-iCGU1R75BZo_52.mp4', 'S_yt-cILZ_cB3_so_73.mp4', 'S_yt-A1XT1fT1c8w_24.mp4', 'S_yt-VypeVQ7gJ_k_578.mp4', 'S_yt-P2RwcXMKIbQ_1.mp4', 'S_yt-n12iRXTksXA_65.mp4', 'S_yt-T2CzKcU8pHo_17.mp4', 'S_yt-YZO4_2yJLWE_1447.mp4']}}\n",
      " \n",
      "/Users/shufanzhang/Documents/PhD/Arrow_of_time/arrow_of_time/aot/data/experiment/settings/pilot/experiment_settings_task_80_run_01.yml w\n",
      "{'stimuli': {'movie_files': ['S_yt-PQYnj2BR17I_16.mp4', 'S_yt-ihCTIoE7qsk_730.mp4', 'blank', 'S_yt-z8fEOmzDlD4_21.mp4', 'S_2E67nCgRCGk_75.mp4', 'S_yt-e5ua5Pj86E4_140.mp4', 'S_yt-AJypa57HKqM_28.mp4', 'blank', 'S_yt-GpVFUM8K0yE_68.mp4', 'S_yt-NqZHX-eOVUA_35.mp4', 'S_yt-u0N1IsXxLM4_103.mp4', 'S_yt-jsG6vM9Lkoc_318.mp4', 'blank', 'S_yt-bWXohhodbjg_86.mp4', 'blank', 'S_yt-JxqSboqaUPY_5.mp4', 'S_yt-DfgpLIP0jnk_105.mp4', 'blank', 'S_yt-P2RwcXMKIbQ_1.mp4', 'S_yt-VypeVQ7gJ_k_578.mp4', 'blank', 'S_yt-9PTQ4U4oPUU_243.mp4', 'S_yt-Y-8d31A9JXg_12.mp4', 'S_yt-q8mfIumbHuo_84.mp4', 'S_yt-e9ttJw0BUuU_40.mp4', 'blank', 'S_yt-ePxv64kEqa0_177.mp4', 'S_yt-D9iwtEHx8M0_20.mp4', 'S_yt-gCKmHV5tdSk_59.mp4', 'S_ILSVRC2015_train_00707000.mp4', 'S_yt-jovPh9BdlYI_215.mp4', 'S_yt-2wb0b0pdSxU_59.mp4', 'S_yt-sZBe-xmTySc_8.mp4', 'S_yt-Uih643A1YtA_110.mp4', 'S_yt-hjqjWlzPRjY_76.mp4', 'S_yt-gbDSSDcRlg4_31.mp4', 'S_yt-PDNWrJ2bZ6I_79.mp4', 'S_ILSVRC2015_train_00536000.mp4', 'S_yt-loe3Rqs8TEM_46.mp4', 'S_yt-g_RCws799LQ_52.mp4', 'S_yt-xUPucH7kNAs_178.mp4', 'S_ILSVRC2015_train_00768002.mp4', 'S_yt-H2y1th4WaWU_51.mp4', 'S_ILSVRC2015_train_00415002.mp4', 'S_yt-DpLc4e4bpu0_1467.mp4', 'S_yt-oypn4VCTu6U_279.mp4', 'S_yt-cWBQB8CxsVY_69.mp4', 'S_yt-ChAhBD9LrsU_223.mp4', 'S_yt-sBdvBO-TPNM_8.mp4', 'S_yt-2U5u3lLJx5M_7.mp4', 'S_yt-VyVvEvP6MRM_124.mp4', 'S_production_ID_4820331.mp4', 'blank', 'S_yt-cILZ_cB3_so_73.mp4', 'S_yt-NVYfkMFUxMk_466.mp4', 'S_yt-ZmoUDsP2y40_8.mp4', 'blank', 'S_yt-YWfInCviN1s_126.mp4', 'S_yt-iuqdW5OLSzc_6.mp4', 'blank', 'S_yt-16eN45838LU_255.mp4', 'blank', 'S_yt-GBqXIFjZf8w_28.mp4', 'S_yt-YZO4_2yJLWE_1447.mp4', 'S_yt-mOQJwaPQbMg_5.mp4', 'S_yt-a_awONsLFfE_107.mp4', 'S_yt-A-RhzHTz38g_21.mp4', 'S_yt-Y32yFYRmNVU_22.mp4', 'S_yt-fAWPQRcrXl0_38.mp4', 'blank', 'S_yt-qHUewJuLW4o_19.mp4', 'S_yt-4slVHFGPwEs_744.mp4', 'S_yt-T2Izta7lYZg_111.mp4', 'blank', 'blank', 'S_yt-T2CzKcU8pHo_17.mp4', 'S_CHWw361oMSQ_195.mp4', 'blank', 'S_yt-6_SgWsPne7M_11.mp4', 'S_yt-Z1ozMh4szTk_13.mp4', 'S_yt-5IEO9Gn5fZ4_59.mp4', 'S_yt-be6x_357tjE_41.mp4', 'S_yt-cAFx29wS_xo_130.mp4', 'S_ILSVRC2015_train_00552000.mp4', 'S_yt-Pd3_4Z2tbFU_47.mp4', 'blank', 'blank', 'S_yt-DO1vncSoiJk_58.mp4', 'S_yt-iCGU1R75BZo_52.mp4', 'blank', 'blank', 'S_yt-A1XT1fT1c8w_24.mp4', 'S_yt-58F4cMRhSw8_69.mp4', 'S_yt-S6N5FyjSFZE_4.mp4', 'S_ILSVRC2015_train_00416000.mp4', 'S_yt-pB-AcJ71tzA_20.mp4', 'S_ILSVRC2015_train_00661004.mp4', 'S_yt-RL1chIcbTPQ_11.mp4', 'S_yt-Z_irN6cNiD4_148.mp4', 'blank']}}\n",
      " \n",
      "/Users/shufanzhang/Documents/PhD/Arrow_of_time/arrow_of_time/aot/data/experiment/settings/pilot/experiment_settings_task_80_run_02.yml w\n",
      "{'stimuli': {'movie_files': ['blank', 'S_yt-sZBe-xmTySc_8.mp4', 'S_yt-ihCTIoE7qsk_730.mp4', 'S_yt-cAFx29wS_xo_130.mp4', 'blank', 'S_yt-PQYnj2BR17I_16.mp4', 'blank', 'S_yt-Uih643A1YtA_110.mp4', 'S_ILSVRC2015_train_00661004.mp4', 'blank', 'S_yt-Z_irN6cNiD4_148.mp4', 'S_yt-AJypa57HKqM_28.mp4', 'S_yt-qHUewJuLW4o_19.mp4', 'S_production_ID_4820331.mp4', 'blank', 'S_yt-58F4cMRhSw8_69.mp4', 'S_yt-RL1chIcbTPQ_11.mp4', 'S_yt-oypn4VCTu6U_279.mp4', 'S_yt-GBqXIFjZf8w_28.mp4', 'S_yt-DpLc4e4bpu0_1467.mp4', 'S_yt-ePxv64kEqa0_177.mp4', 'S_yt-16eN45838LU_255.mp4', 'S_yt-PDNWrJ2bZ6I_79.mp4', 'blank', 'S_yt-JxqSboqaUPY_5.mp4', 'S_yt-2wb0b0pdSxU_59.mp4', 'S_yt-P2RwcXMKIbQ_1.mp4', 'S_yt-YWfInCviN1s_126.mp4', 'S_yt-hjqjWlzPRjY_76.mp4', 'blank', 'S_ILSVRC2015_train_00707000.mp4', 'S_yt-cILZ_cB3_so_73.mp4', 'blank', 'S_yt-DfgpLIP0jnk_105.mp4', 'S_yt-cWBQB8CxsVY_69.mp4', 'S_yt-YZO4_2yJLWE_1447.mp4', 'S_yt-5IEO9Gn5fZ4_59.mp4', 'S_yt-D9iwtEHx8M0_20.mp4', 'S_yt-GpVFUM8K0yE_68.mp4', 'blank', 'S_yt-iuqdW5OLSzc_6.mp4', 'S_yt-VypeVQ7gJ_k_578.mp4', 'S_CHWw361oMSQ_195.mp4', 'S_yt-mOQJwaPQbMg_5.mp4', 'blank', 'blank', 'S_yt-z8fEOmzDlD4_21.mp4', 'blank', 'S_yt-9PTQ4U4oPUU_243.mp4', 'S_yt-gbDSSDcRlg4_31.mp4', 'S_yt-Y32yFYRmNVU_22.mp4', 'S_yt-NVYfkMFUxMk_466.mp4', 'blank', 'S_yt-DO1vncSoiJk_58.mp4', 'blank', 'S_ILSVRC2015_train_00768002.mp4', 'S_yt-jovPh9BdlYI_215.mp4', 'S_yt-A-RhzHTz38g_21.mp4', 'S_ILSVRC2015_train_00415002.mp4', 'S_yt-Y-8d31A9JXg_12.mp4', 'S_yt-g_RCws799LQ_52.mp4', 'S_ILSVRC2015_train_00416000.mp4', 'S_ILSVRC2015_train_00536000.mp4', 'blank', 'S_yt-NqZHX-eOVUA_35.mp4', 'S_yt-bWXohhodbjg_86.mp4', 'S_yt-e9ttJw0BUuU_40.mp4', 'blank', 'S_yt-gCKmHV5tdSk_59.mp4', 'S_yt-iCGU1R75BZo_52.mp4', 'S_yt-u0N1IsXxLM4_103.mp4', 'S_yt-be6x_357tjE_41.mp4', 'S_ILSVRC2015_train_00552000.mp4', 'S_2E67nCgRCGk_75.mp4', 'S_yt-Pd3_4Z2tbFU_47.mp4', 'S_yt-pB-AcJ71tzA_20.mp4', 'S_yt-T2Izta7lYZg_111.mp4', 'S_yt-sBdvBO-TPNM_8.mp4', 'S_yt-6_SgWsPne7M_11.mp4', 'S_yt-q8mfIumbHuo_84.mp4', 'blank', 'S_yt-H2y1th4WaWU_51.mp4', 'S_yt-fAWPQRcrXl0_38.mp4', 'S_yt-xUPucH7kNAs_178.mp4', 'S_yt-S6N5FyjSFZE_4.mp4', 'S_yt-a_awONsLFfE_107.mp4', 'S_yt-T2CzKcU8pHo_17.mp4', 'S_yt-2U5u3lLJx5M_7.mp4', 'S_yt-Z1ozMh4szTk_13.mp4', 'blank', 'blank', 'blank', 'S_yt-ZmoUDsP2y40_8.mp4', 'S_yt-VyVvEvP6MRM_124.mp4', 'S_yt-4slVHFGPwEs_744.mp4', 'S_yt-e5ua5Pj86E4_140.mp4', 'S_yt-loe3Rqs8TEM_46.mp4', 'S_yt-jsG6vM9Lkoc_318.mp4', 'S_yt-ChAhBD9LrsU_223.mp4', 'S_yt-A1XT1fT1c8w_24.mp4']}}\n",
      " \n",
      "/Users/shufanzhang/Documents/PhD/Arrow_of_time/arrow_of_time/aot/data/experiment/settings/pilot/experiment_settings_task_72_run_01.yml w\n",
      "{'stimuli': {'movie_files': ['S_yt-a_awONsLFfE_107.mp4', 'S_yt-xUPucH7kNAs_178.mp4', 'S_yt-pB-AcJ71tzA_20.mp4', 'S_yt-9PTQ4U4oPUU_243.mp4', 'blank', 'blank', 'S_yt-AJypa57HKqM_28.mp4', 'S_yt-iuqdW5OLSzc_6.mp4', 'S_yt-H2y1th4WaWU_51.mp4', 'S_yt-qHUewJuLW4o_19.mp4', 'S_yt-Uih643A1YtA_110.mp4', 'blank', 'S_yt-DfgpLIP0jnk_105.mp4', 'S_yt-cILZ_cB3_so_73.mp4', 'S_yt-gbDSSDcRlg4_31.mp4', 'S_yt-Y-8d31A9JXg_12.mp4', 'S_ILSVRC2015_train_00536000.mp4', 'S_yt-16eN45838LU_255.mp4', 'S_yt-6_SgWsPne7M_11.mp4', 'S_yt-mOQJwaPQbMg_5.mp4', 'S_yt-T2CzKcU8pHo_17.mp4', 'S_yt-YWfInCviN1s_126.mp4', 'S_yt-ZmoUDsP2y40_8.mp4', 'S_yt-iCGU1R75BZo_52.mp4', 'blank', 'S_yt-GBqXIFjZf8w_28.mp4', 'blank', 'S_yt-VyVvEvP6MRM_124.mp4', 'S_yt-u0N1IsXxLM4_103.mp4', 'S_yt-NVYfkMFUxMk_466.mp4', 'S_2E67nCgRCGk_75.mp4', 'S_ILSVRC2015_train_00415002.mp4', 'S_yt-GpVFUM8K0yE_68.mp4', 'blank', 'blank', 'blank', 'blank', 'blank', 'S_yt-hjqjWlzPRjY_76.mp4', 'S_yt-A1XT1fT1c8w_24.mp4', 'S_yt-bWXohhodbjg_86.mp4', 'blank', 'S_yt-q8mfIumbHuo_84.mp4', 'S_yt-4slVHFGPwEs_744.mp4', 'blank', 'S_yt-VypeVQ7gJ_k_578.mp4', 'S_yt-cWBQB8CxsVY_69.mp4', 'S_yt-58F4cMRhSw8_69.mp4', 'S_yt-ChAhBD9LrsU_223.mp4', 'S_yt-DO1vncSoiJk_58.mp4', 'S_ILSVRC2015_train_00416000.mp4', 'S_yt-fAWPQRcrXl0_38.mp4', 'S_yt-2wb0b0pdSxU_59.mp4', 'S_yt-ihCTIoE7qsk_730.mp4', 'S_yt-Y32yFYRmNVU_22.mp4', 'S_yt-sBdvBO-TPNM_8.mp4', 'S_yt-S6N5FyjSFZE_4.mp4', 'S_yt-Pd3_4Z2tbFU_47.mp4', 'S_yt-Z_irN6cNiD4_148.mp4', 'blank', 'S_yt-e5ua5Pj86E4_140.mp4', 'S_yt-oypn4VCTu6U_279.mp4', 'S_ILSVRC2015_train_00707000.mp4', 'S_yt-Z1ozMh4szTk_13.mp4', 'S_yt-g_RCws799LQ_52.mp4', 'S_ILSVRC2015_train_00768002.mp4', 'blank', 'blank', 'S_ILSVRC2015_train_00661004.mp4', 'S_yt-cAFx29wS_xo_130.mp4', 'blank', 'S_yt-JxqSboqaUPY_5.mp4', 'S_yt-RL1chIcbTPQ_11.mp4', 'S_CHWw361oMSQ_195.mp4', 'blank', 'S_production_ID_4820331.mp4', 'S_yt-e9ttJw0BUuU_40.mp4', 'S_yt-D9iwtEHx8M0_20.mp4', 'S_yt-PQYnj2BR17I_16.mp4', 'blank', 'S_yt-ePxv64kEqa0_177.mp4', 'S_yt-be6x_357tjE_41.mp4', 'S_yt-A-RhzHTz38g_21.mp4', 'S_yt-YZO4_2yJLWE_1447.mp4', 'S_yt-NqZHX-eOVUA_35.mp4', 'blank', 'S_yt-sZBe-xmTySc_8.mp4', 'S_yt-jsG6vM9Lkoc_318.mp4', 'S_yt-jovPh9BdlYI_215.mp4', 'S_yt-5IEO9Gn5fZ4_59.mp4', 'blank', 'S_yt-loe3Rqs8TEM_46.mp4']}}\n",
      " \n",
      "/Users/shufanzhang/Documents/PhD/Arrow_of_time/arrow_of_time/aot/data/experiment/settings/pilot/experiment_settings_task_72_run_02.yml w\n",
      "{'stimuli': {'movie_files': ['S_yt-iCGU1R75BZo_52.mp4', 'S_yt-A1XT1fT1c8w_24.mp4', 'S_yt-cAFx29wS_xo_130.mp4', 'S_yt-Uih643A1YtA_110.mp4', 'S_yt-jsG6vM9Lkoc_318.mp4', 'S_yt-58F4cMRhSw8_69.mp4', 'S_yt-4slVHFGPwEs_744.mp4', 'S_yt-JxqSboqaUPY_5.mp4', 'blank', 'S_yt-A-RhzHTz38g_21.mp4', 'blank', 'S_yt-Pd3_4Z2tbFU_47.mp4', 'S_yt-S6N5FyjSFZE_4.mp4', 'S_yt-D9iwtEHx8M0_20.mp4', 'blank', 'S_yt-sBdvBO-TPNM_8.mp4', 'S_yt-ZmoUDsP2y40_8.mp4', 'S_yt-YZO4_2yJLWE_1447.mp4', 'S_yt-mOQJwaPQbMg_5.mp4', 'S_yt-gbDSSDcRlg4_31.mp4', 'S_yt-DfgpLIP0jnk_105.mp4', 'S_yt-a_awONsLFfE_107.mp4', 'S_yt-pB-AcJ71tzA_20.mp4', 'blank', 'S_yt-fAWPQRcrXl0_38.mp4', 'S_yt-VypeVQ7gJ_k_578.mp4', 'blank', 'S_yt-2wb0b0pdSxU_59.mp4', 'S_yt-iuqdW5OLSzc_6.mp4', 'S_CHWw361oMSQ_195.mp4', 'S_yt-g_RCws799LQ_52.mp4', 'blank', 'blank', 'S_yt-GpVFUM8K0yE_68.mp4', 'S_ILSVRC2015_train_00536000.mp4', 'S_ILSVRC2015_train_00416000.mp4', 'S_yt-5IEO9Gn5fZ4_59.mp4', 'S_ILSVRC2015_train_00661004.mp4', 'S_yt-Z1ozMh4szTk_13.mp4', 'S_yt-AJypa57HKqM_28.mp4', 'S_ILSVRC2015_train_00768002.mp4', 'blank', 'blank', 'S_production_ID_4820331.mp4', 'S_yt-be6x_357tjE_41.mp4', 'S_yt-jovPh9BdlYI_215.mp4', 'S_yt-T2CzKcU8pHo_17.mp4', 'S_yt-YWfInCviN1s_126.mp4', 'S_yt-cWBQB8CxsVY_69.mp4', 'blank', 'S_ILSVRC2015_train_00707000.mp4', 'blank', 'blank', 'S_yt-PQYnj2BR17I_16.mp4', 'S_ILSVRC2015_train_00415002.mp4', 'blank', 'blank', 'S_yt-oypn4VCTu6U_279.mp4', 'S_yt-sZBe-xmTySc_8.mp4', 'S_yt-hjqjWlzPRjY_76.mp4', 'S_yt-u0N1IsXxLM4_103.mp4', 'S_yt-Y-8d31A9JXg_12.mp4', 'S_2E67nCgRCGk_75.mp4', 'S_yt-e9ttJw0BUuU_40.mp4', 'S_yt-q8mfIumbHuo_84.mp4', 'S_yt-Z_irN6cNiD4_148.mp4', 'S_yt-6_SgWsPne7M_11.mp4', 'S_yt-loe3Rqs8TEM_46.mp4', 'blank', 'S_yt-9PTQ4U4oPUU_243.mp4', 'S_yt-NqZHX-eOVUA_35.mp4', 'S_yt-ihCTIoE7qsk_730.mp4', 'blank', 'S_yt-H2y1th4WaWU_51.mp4', 'S_yt-ChAhBD9LrsU_223.mp4', 'S_yt-ePxv64kEqa0_177.mp4', 'blank', 'S_yt-GBqXIFjZf8w_28.mp4', 'blank', 'S_yt-xUPucH7kNAs_178.mp4', 'S_yt-cILZ_cB3_so_73.mp4', 'S_yt-16eN45838LU_255.mp4', 'blank', 'S_yt-DO1vncSoiJk_58.mp4', 'S_yt-VyVvEvP6MRM_124.mp4', 'S_yt-RL1chIcbTPQ_11.mp4', 'S_yt-bWXohhodbjg_86.mp4', 'S_yt-e5ua5Pj86E4_140.mp4', 'S_yt-Y32yFYRmNVU_22.mp4', 'blank', 'S_yt-NVYfkMFUxMk_466.mp4', 'S_yt-qHUewJuLW4o_19.mp4']}}\n",
      " \n"
     ]
    }
   ],
   "source": [
    "make_pilot_session(90,task90_videos,task90_blank_number)\n",
    "make_pilot_session(80,task80_videos,task80_blank_number)\n",
    "make_pilot_session(72,task72_videos,task72_blank_number) # 72 movies, 20 blanks but 72/20 = 3.6 there is a problem"
   ]
  }
 ],
 "metadata": {
  "kernelspec": {
   "display_name": "base",
   "language": "python",
   "name": "python3"
  },
  "language_info": {
   "codemirror_mode": {
    "name": "ipython",
    "version": 3
   },
   "file_extension": ".py",
   "mimetype": "text/x-python",
   "name": "python",
   "nbconvert_exporter": "python",
   "pygments_lexer": "ipython3",
   "version": "3.9.12"
  },
  "orig_nbformat": 4
 },
 "nbformat": 4,
 "nbformat_minor": 2
}
