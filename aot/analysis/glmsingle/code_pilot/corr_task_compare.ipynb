{
 "cells": [
  {
   "cell_type": "code",
   "execution_count": 6,
   "metadata": {},
   "outputs": [],
   "source": [
    "import sys\n",
    "import os\n",
    "import numpy as np\n",
    "import cortex\n",
    "import matplotlib.pyplot as plt\n",
    "import pickle\n",
    "from nilearn.plotting import view_img\n",
    "import nibabel as nib\n",
    "import subprocess as sp\n",
    "import shlex\n",
    "\n"
   ]
  },
  {
   "cell_type": "code",
   "execution_count": 7,
   "metadata": {},
   "outputs": [],
   "source": [
    "corr_dict_72_path = '/tank/shared/2022/arrow_of_time/arrow_of_time/aot/analysis/glmsingle/outputon7_voxels/corrolation_dict_72.pkl'\n",
    "corr_dict_72 = pickle.load(open(corr_dict_72_path, 'rb'))\n",
    "corr_dict_80_path = '/tank/shared/2022/arrow_of_time/arrow_of_time/aot/analysis/glmsingle/outputon7_voxels/corrolation_dict_80.pkl'\n",
    "corr_dict_80 = pickle.load(open(corr_dict_80_path, 'rb'))\n",
    "corr_dict_90_path = '/tank/shared/2022/arrow_of_time/arrow_of_time/aot/analysis/glmsingle/outputon7_voxels/corrolation_dict_90.pkl'\n",
    "corr_dict_90 = pickle.load(open(corr_dict_90_path, 'rb'))\n"
   ]
  },
  {
   "cell_type": "code",
   "execution_count": 8,
   "metadata": {},
   "outputs": [
    {
     "name": "stdout",
     "output_type": "stream",
     "text": [
      "{70: 0.818352768723874, 41: 0.7629270258717203, 18: 0.7815484835358977, 11: 0.8595130139397165, 77: 0.7481040122009787, 80: 0.7929186766519768, 64: 0.6143540165610353, 32: 0.7720371470834654, 42: 0.3392226318129356, 78: 0.8265548111661217, 35: 0.8237463212997175, 29: 0.8029145390534792, 28: 0.7089609152860543, 23: 0.7824869643545529, 33: 0.7869682912197975, 71: 0.6915103750697009, 26: 0.7983021625787556, 40: 0.8327262605594185, 7: 0.8403618167879309, 52: 0.7201626572477696, 1: 0.8052569639531029, 88: 0.6164252470992965, 86: 0.613291915490339, 90: 0.8437138736270653, 27: 0.6477099871775026, 14: 0.7653932879880955, 55: 0.7122823037373532, 84: 0.7886774054636333, 17: 0.5408907633986543, 82: 0.7441592693411944, 16: 0.7672743786140928, 21: 0.8052687553535777, 74: 0.8684462315490009, 43: 0.7691203188350955, 12: 0.8602048283846457, 75: 0.7572804423751054, 63: 0.560543779211593, 30: 0.759893133863015, 65: 0.45107094761269795, 87: 0.8527617325150524, 46: 0.7464751084388452, 79: 0.5245639156511597, 31: 0.8798929077863406, 69: 0.7337124261768804, 9: 0.8621627489147161, 53: 0.8661473934822309, 3: 0.8415915912701664, 34: 0.7955746430765606, 36: 0.6878436326166887, 54: 0.586121022059629, 66: 0.7687903149600971, 2: 0.7854381466656581, 72: 0.8123200724046205, 6: 0.8635880794387965, 56: 0.7433254777432005, 19: 0.5208790973631415, 13: 0.6698177907528848, 59: 0.3972183606584828, 22: 0.26228909077350054, 4: 0.8370285553289778, 73: 0.8187714198785707, 48: 0.6729827883672823, 47: 0.4248491712381361, 51: 0.8359284593432009, 10: 0.79382691602052, 15: 0.5715845080808867, 62: 0.8239157375316735, 45: 0.7742423082454039, 81: 0.8783025257617023, 61: 0.8758840631174801, 60: 0.8435482717945629, 50: 0.7224146873832222}\n"
     ]
    }
   ],
   "source": [
    "print(corr_dict_72)"
   ]
  },
  {
   "cell_type": "code",
   "execution_count": 9,
   "metadata": {},
   "outputs": [],
   "source": [
    "def average_corr(dict):\n",
    "    corrs = []\n",
    "    for key in dict:\n",
    "        corrs.append(dict[key])\n",
    "    return np.mean(corrs)\n"
   ]
  },
  {
   "cell_type": "code",
   "execution_count": 10,
   "metadata": {},
   "outputs": [
    {
     "name": "stdout",
     "output_type": "stream",
     "text": [
      "Average correlation for task 72:  0.7340884679016698\n",
      "Average correlation for task 90:  0.6928543535395417\n",
      "Average correlation for task 80:  0.7249206701968677\n"
     ]
    }
   ],
   "source": [
    "average_72 = average_corr(corr_dict_72)\n",
    "average_90 = average_corr(corr_dict_90)\n",
    "average_80 = average_corr(corr_dict_80)\n",
    "\n",
    "print('Average correlation for task 72: ', average_72)\n",
    "print('Average correlation for task 90: ', average_90)\n",
    "print('Average correlation for task 80: ', average_80)\n"
   ]
  }
 ],
 "metadata": {
  "kernelspec": {
   "display_name": "base",
   "language": "python",
   "name": "python3"
  },
  "language_info": {
   "codemirror_mode": {
    "name": "ipython",
    "version": 3
   },
   "file_extension": ".py",
   "mimetype": "text/x-python",
   "name": "python",
   "nbconvert_exporter": "python",
   "pygments_lexer": "ipython3",
   "version": "3.9.12"
  },
  "orig_nbformat": 4
 },
 "nbformat": 4,
 "nbformat_minor": 2
}
