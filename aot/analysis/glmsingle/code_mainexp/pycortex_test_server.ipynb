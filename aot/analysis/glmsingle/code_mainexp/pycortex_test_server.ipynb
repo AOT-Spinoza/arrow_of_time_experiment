{
 "cells": [
  {
   "cell_type": "code",
   "execution_count": 1,
   "metadata": {},
   "outputs": [],
   "source": [
    "import os, sys\n",
    "from pathlib import Path\n",
    "import cortex\n",
    "import nibabel as nib\n",
    "import numpy as np\n",
    "import matplotlib.colors as colors\n",
    "import matplotlib.pyplot as pl\n",
    "import time\n",
    "import platform\n",
    "import subprocess"
   ]
  },
  {
   "cell_type": "code",
   "execution_count": 2,
   "metadata": {},
   "outputs": [],
   "source": [
    "data_dir = Path(\"/tank/shared/2024/visual/AOT/derivatives\")\n",
    "\n",
    "subj_nr = 2\n",
    "sub = 'sub-{0:03d}'.format(subj_nr)\n",
    "cx_sub = \"AOT_\" + sub \n",
    "\n",
    "fs_dir = data_dir/ \"fmripreps/aotfull_preprocs/fullpreproc1/sourcedata/freesurfer\"\n",
    "fs_subj_dir = Path(fs_dir, sub)\n",
    "\n",
    "glm_dir = data_dir / 'glmsingle'     \n",
    "# glm_subj_dir = glm_dir / sub\n",
    "# glm_subj_gfeat_dir = glm_subj_dir / 'func' / 'sub-01_task-ER_space-T1w_desc-preproc_bold.gfeat'\n",
    "\n",
    "ctx_dir = data_dir / 'cortex' / 'outputs'"
   ]
  },
  {
   "cell_type": "code",
   "execution_count": 3,
   "metadata": {},
   "outputs": [
    {
     "name": "stdout",
     "output_type": "stream",
     "text": [
      "cortex.database.default_filestore: /tank/zhangs/locallib/pycortex/cortex/../filestore/db\n",
      "cortex.options.usercfg: /tank/zhangs/.config/pycortex/options.cfg\n"
     ]
    }
   ],
   "source": [
    "print('cortex.database.default_filestore: {}'.format(cortex.database.default_filestore))\n",
    "print('cortex.options.usercfg: {}'.format(cortex.options.usercfg))"
   ]
  },
  {
   "cell_type": "code",
   "execution_count": 4,
   "metadata": {},
   "outputs": [
    {
     "name": "stdout",
     "output_type": "stream",
     "text": [
      "b'created by heij on Thu Jul  6 14:30:42 2023\\n'\n",
      "b'created by heij on Thu Jul  6 15:47:40 2023\\n'\n",
      "b'created by heij on Thu Jul  6 14:30:42 2023\\n'\n",
      "b'created by heij on Thu Jul  6 16:40:28 2023\\n'\n"
     ]
    }
   ],
   "source": [
    "\n",
    "cortex.freesurfer.import_subj(freesurfer_subject=sub,\n",
    "                                pycortex_subject=cx_sub,\n",
    "                                freesurfer_subject_dir=fs_dir)\n",
    "\n",
    "#cortex.freesurfer.import_subj?\n",
    "\n"
   ]
  },
  {
   "cell_type": "code",
   "execution_count": 5,
   "metadata": {},
   "outputs": [
    {
     "name": "stdout",
     "output_type": "stream",
     "text": [
      "ls: cannot access '/tank/shared/2024/visual/AOT/derivatives/fmripreps/aotfull_preprocs/fullpreproc1/sourcedata/freesurfer/sub-01/mri/': No such file or directory\n"
     ]
    }
   ],
   "source": [
    "!ls /tank/shared/2024/visual/AOT/derivatives/fmripreps/aotfull_preprocs/fullpreproc1/sourcedata/freesurfer/sub-01/mri/"
   ]
  },
  {
   "cell_type": "code",
   "execution_count": 6,
   "metadata": {},
   "outputs": [],
   "source": [
    "example_R2 = \"/tank/shared/2024/visual/AOT/derivatives/glmsingle/mainexp/sub-002_ses-01_T1W_nordicstc_mainfull/niiaftersync/R2_syns.nii.gz\"\n",
    "bref = nib.load(example_R2)\n",
    "transform = cortex.xfm.Transform(np.identity(4), bref)\n",
    "transform.save(cx_sub, 'fmriprep', 'magnet')"
   ]
  },
  {
   "cell_type": "code",
   "execution_count": 7,
   "metadata": {},
   "outputs": [
    {
     "name": "stdout",
     "output_type": "stream",
     "text": [
      "/tank/shared/2024/visual/AOT/derivatives/fmripreps/aotfull_preprocs/fullpreproc1/sourcedata/freesurfer/sub-002/mri/T2.mgz\n"
     ]
    }
   ],
   "source": [
    "example_anat_fn = (\n",
    "    fs_subj_dir / \"mri\" / \"T2.mgz\"\n",
    ")  # /tank/shared/2024/visual/AOT/derivatives/fmripreps/aotfull_preprocs/fullpreproc1/sourcedata/freesurfer/sub-002/mri/T2.mgz\n",
    "print(example_anat_fn)\n",
    "aref = nib.load(example_anat_fn)\n",
    "transform = cortex.xfm.Transform(np.identity(4), aref)\n",
    "transform.save(cx_sub, 'anat', 'magnet')"
   ]
  },
  {
   "cell_type": "code",
   "execution_count": 10,
   "metadata": {},
   "outputs": [],
   "source": [
    "mean_func_vcx = cortex.Volume(\n",
    "    str(example_R2), cx_sub, \"fmriprep\", cmap=\"bone\", vmin=0, vmax=16000\n",
    ")\n",
    "T1_anat_vcx = cortex.Volume(str(fs_subj_dir / 'mri' / 'T2.mgz'), cx_sub, 'anat', cmap='Greens', vmin=0, vmax=1)\n",
    "\n",
    "ds = {\"R2\": mean_func_vcx, \"myelin\": T1_anat_vcx}\n",
    "'''\n",
    "for cope, name in zip((1,2,3,4), [\"positive\", \"negative\", \"pos-neg\", \"neg-pos\"]):\n",
    "    fracvalue = \"/tank/shared/2024/visual/AOT/derivatives/glmsingle/mainexp/sub-002_ses-01_T1W_nordicstc_mainfull/TYPED_FITHRF_GLMDENOISE_RR/FRACvalue.nii\"\n",
    "    cope_vcx = cortex.Volume(str(fracvalue), cx_sub, 'fmriprep', cmap='coolwarm', vmin=-4.5, vmax=4.5)\n",
    "    ds[name] = cope_vcx\n",
    "'''\n",
    "\n",
    "# cortex.webgl.show(ds)\n",
    "cortex.webgl.make_static(ctx_dir / sub, ds)"
   ]
  }
 ],
 "metadata": {
  "kernelspec": {
   "display_name": "suppr_pRF",
   "language": "python",
   "name": "python3"
  },
  "language_info": {
   "codemirror_mode": {
    "name": "ipython",
    "version": 3
   },
   "file_extension": ".py",
   "mimetype": "text/x-python",
   "name": "python",
   "nbconvert_exporter": "python",
   "pygments_lexer": "ipython3",
   "version": "3.9.12"
  }
 },
 "nbformat": 4,
 "nbformat_minor": 2
}
