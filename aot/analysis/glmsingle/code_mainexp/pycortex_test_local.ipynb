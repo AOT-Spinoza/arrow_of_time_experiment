{
 "cells": [
  {
   "cell_type": "code",
   "execution_count": 9,
   "metadata": {},
   "outputs": [],
   "source": [
    "import os, sys\n",
    "from pathlib import Path\n",
    "import cortex\n",
    "import nibabel as nib\n",
    "import numpy as np\n",
    "import matplotlib.colors as colors\n",
    "import matplotlib.pyplot as pl\n",
    "import time\n",
    "import platform\n",
    "import subprocess"
   ]
  },
  {
   "cell_type": "code",
   "execution_count": 10,
   "metadata": {},
   "outputs": [],
   "source": [
    "data_dir = Path(\"/Users/shufanzhang/disks/rom_Sh/2024/visual/AOT/derivatives\")\n",
    "\n",
    "subj_nr = 1\n",
    "sub = 'sub-{0:02d}'.format(subj_nr)\n",
    "cx_sub = \"EO_\" + sub\n",
    "\n",
    "fs_dir = data_dir/ \"fmripreps/aotfull_preprocs/fullpreproc1/sourcedata/freesurfer\"\n",
    "fs_subj_dir = Path(fs_dir, sub)\n",
    "\n",
    "glm_dir = data_dir / 'glmsingle'     \n",
    "#glm_subj_dir = glm_dir / sub\n",
    "#glm_subj_gfeat_dir = glm_subj_dir / 'func' / 'sub-01_task-ER_space-T1w_desc-preproc_bold.gfeat'\n",
    "\n",
    "ctx_dir = data_dir / 'cortex' / 'outputs'"
   ]
  },
  {
   "cell_type": "code",
   "execution_count": 11,
   "metadata": {},
   "outputs": [
    {
     "name": "stdout",
     "output_type": "stream",
     "text": [
      "cortex.database.default_filestore: /Users/shufanzhang/opt/anaconda3/share/pycortex/db\n",
      "cortex.options.usercfg: /Users/shufanzhang/Library/Application Support/pycortex/options.cfg\n"
     ]
    }
   ],
   "source": [
    "print('cortex.database.default_filestore: {}'.format(cortex.database.default_filestore))\n",
    "print('cortex.options.usercfg: {}'.format(cortex.options.usercfg))"
   ]
  },
  {
   "cell_type": "code",
   "execution_count": 12,
   "metadata": {},
   "outputs": [
    {
     "ename": "ValueError",
     "evalue": "Do not overwrite",
     "output_type": "error",
     "traceback": [
      "\u001b[0;31m---------------------------------------------------------------------------\u001b[0m",
      "\u001b[0;31mValueError\u001b[0m                                Traceback (most recent call last)",
      "Input \u001b[0;32mIn [12]\u001b[0m, in \u001b[0;36m<cell line: 1>\u001b[0;34m()\u001b[0m\n\u001b[0;32m----> 1\u001b[0m \u001b[43mcortex\u001b[49m\u001b[38;5;241;43m.\u001b[39;49m\u001b[43mfreesurfer\u001b[49m\u001b[38;5;241;43m.\u001b[39;49m\u001b[43mimport_subj\u001b[49m\u001b[43m(\u001b[49m\u001b[43mfs_subject\u001b[49m\u001b[38;5;241;43m=\u001b[39;49m\u001b[43msub\u001b[49m\u001b[43m,\u001b[49m\n\u001b[1;32m      2\u001b[0m \u001b[43m                                \u001b[49m\u001b[43mcx_subject\u001b[49m\u001b[38;5;241;43m=\u001b[39;49m\u001b[43mcx_sub\u001b[49m\u001b[43m,\u001b[49m\n\u001b[1;32m      3\u001b[0m \u001b[43m                                \u001b[49m\u001b[43mfreesurfer_subject_dir\u001b[49m\u001b[38;5;241;43m=\u001b[39;49m\u001b[43mfs_dir\u001b[49m\u001b[43m)\u001b[49m\n",
      "File \u001b[0;32m~/opt/anaconda3/lib/python3.9/site-packages/cortex/freesurfer.py:173\u001b[0m, in \u001b[0;36mimport_subj\u001b[0;34m(fs_subject, cx_subject, freesurfer_subject_dir, whitematter_surf)\u001b[0m\n\u001b[1;32m    171\u001b[0m     cx_subject \u001b[38;5;241m=\u001b[39m fs_subject\n\u001b[1;32m    172\u001b[0m \u001b[38;5;66;03m# Create and/or replace extant subject. Throws a warning that this will happen.\u001b[39;00m\n\u001b[0;32m--> 173\u001b[0m \u001b[43mdatabase\u001b[49m\u001b[38;5;241;43m.\u001b[39;49m\u001b[43mdb\u001b[49m\u001b[38;5;241;43m.\u001b[39;49m\u001b[43mmake_subj\u001b[49m\u001b[43m(\u001b[49m\u001b[43mcx_subject\u001b[49m\u001b[43m)\u001b[49m\n\u001b[1;32m    175\u001b[0m \u001b[38;5;28;01mimport\u001b[39;00m \u001b[38;5;21;01mnibabel\u001b[39;00m\n\u001b[1;32m    176\u001b[0m surfs \u001b[38;5;241m=\u001b[39m os\u001b[38;5;241m.\u001b[39mpath\u001b[38;5;241m.\u001b[39mjoin(database\u001b[38;5;241m.\u001b[39mdefault_filestore, cx_subject, \u001b[38;5;124m\"\u001b[39m\u001b[38;5;124msurfaces\u001b[39m\u001b[38;5;124m\"\u001b[39m, \u001b[38;5;124m\"\u001b[39m\u001b[38;5;132;01m{name}\u001b[39;00m\u001b[38;5;124m_\u001b[39m\u001b[38;5;132;01m{hemi}\u001b[39;00m\u001b[38;5;124m.gii\u001b[39m\u001b[38;5;124m\"\u001b[39m)\n",
      "File \u001b[0;32m~/opt/anaconda3/lib/python3.9/site-packages/cortex/database.py:701\u001b[0m, in \u001b[0;36mDatabase.make_subj\u001b[0;34m(self, subject)\u001b[0m\n\u001b[1;32m    699\u001b[0m         shutil\u001b[38;5;241m.\u001b[39mrmtree(os\u001b[38;5;241m.\u001b[39mpath\u001b[38;5;241m.\u001b[39mjoin(\u001b[38;5;28mself\u001b[39m\u001b[38;5;241m.\u001b[39mfilestore, subject))\n\u001b[1;32m    700\u001b[0m     \u001b[38;5;28;01melse\u001b[39;00m:\n\u001b[0;32m--> 701\u001b[0m         \u001b[38;5;28;01mraise\u001b[39;00m \u001b[38;5;167;01mValueError\u001b[39;00m(\u001b[38;5;124m'\u001b[39m\u001b[38;5;124mDo not overwrite\u001b[39m\u001b[38;5;124m'\u001b[39m)\n\u001b[1;32m    703\u001b[0m \u001b[38;5;28;01mfor\u001b[39;00m dirname \u001b[38;5;129;01min\u001b[39;00m [\u001b[38;5;124m'\u001b[39m\u001b[38;5;124mtransforms\u001b[39m\u001b[38;5;124m'\u001b[39m, \u001b[38;5;124m'\u001b[39m\u001b[38;5;124manatomicals\u001b[39m\u001b[38;5;124m'\u001b[39m, \u001b[38;5;124m'\u001b[39m\u001b[38;5;124mcache\u001b[39m\u001b[38;5;124m'\u001b[39m, \u001b[38;5;124m'\u001b[39m\u001b[38;5;124msurfaces\u001b[39m\u001b[38;5;124m'\u001b[39m, \u001b[38;5;124m'\u001b[39m\u001b[38;5;124msurface-info\u001b[39m\u001b[38;5;124m'\u001b[39m,\u001b[38;5;124m'\u001b[39m\u001b[38;5;124mviews\u001b[39m\u001b[38;5;124m'\u001b[39m]:\n\u001b[1;32m    704\u001b[0m     \u001b[38;5;28;01mtry\u001b[39;00m:\n",
      "\u001b[0;31mValueError\u001b[0m: Do not overwrite"
     ]
    }
   ],
   "source": [
    "cortex.freesurfer.import_subj(fs_subject=sub,\n",
    "                                cx_subject=cx_sub,\n",
    "                                freesurfer_subject_dir=fs_dir)"
   ]
  },
  {
   "cell_type": "code",
   "execution_count": null,
   "metadata": {},
   "outputs": [],
   "source": [
    "example_R2_fn = \"/Users/shufanzhang/disks/rom_Sh/2024/visual/AOT/derivatives/glmsingle/mainexp/sub-001_ses-01_T1W_nordicstc_mainfull/TYPED_FITHRF_GLMDENOISE_RR/R2.nii\"\n",
    "bref = nib.load(example_R2_fn)\n",
    "transform = cortex.xfm.Transform(np.identity(4), bref)\n",
    "transform.save(cx_sub, 'fmriprep', 'magnet')"
   ]
  },
  {
   "cell_type": "code",
   "execution_count": null,
   "metadata": {},
   "outputs": [],
   "source": [
    "example_anat_fn = fs_subj_dir / 'mri' / 'T1.mgz'\n",
    "aref = nib.load(example_anat_fn)\n",
    "transform = cortex.xfm.Transform(np.identity(4), aref)\n",
    "transform.save(cx_sub, 'anat', 'magnet')"
   ]
  },
  {
   "cell_type": "code",
   "execution_count": null,
   "metadata": {},
   "outputs": [
    {
     "name": "stdout",
     "output_type": "stream",
     "text": [
      "Started server on port 43159\n"
     ]
    },
    {
     "name": "stdout",
     "output_type": "stream",
     "text": [
      "Stopping server\n"
     ]
    }
   ],
   "source": [
    "mean_func_vcx = cortex.Volume(str(example_R2_fn), cx_sub, 'fmriprep', cmap='bone', vmin=0, vmax=16000)\n",
    "T1_anat_vcx = cortex.Volume(str(fs_subj_dir / 'mri' / 'T1.mgz'), cx_sub, 'anat', cmap='Greens', vmin=0, vmax=1)\n",
    "\n",
    "ds = {\"mean_func\": mean_func_vcx, \"myelin\": T1_anat_vcx}\n",
    "for cope, name in zip((1,2,3,4), [\"positive\", \"negative\", \"pos-neg\", \"neg-pos\"]):\n",
    "    fracvalue = \"/Users/shufanzhang/disks/rom_Sh/2024/visual/AOT/derivatives/glmsingle/mainexp/sub-001_ses-01_T1W_nordicstc_mainfull/TYPED_FITHRF_GLMDENOISE_RR/FRACvalue.nii\"\n",
    "    cope_vcx = cortex.Volume(str(fracvalue), cx_sub, 'fmriprep', cmap='coolwarm', vmin=-4.5, vmax=4.5)\n",
    "    ds[name] = cope_vcx\n",
    "\n",
    "cortex.webgl.show(ds)\n",
    "cortex.webgl.make_static(ctx_dir / sub, ds)"
   ]
  }
 ],
 "metadata": {
  "kernelspec": {
   "display_name": "suppr_pRF",
   "language": "python",
   "name": "python3"
  },
  "language_info": {
   "codemirror_mode": {
    "name": "ipython",
    "version": 3
   },
   "file_extension": ".py",
   "mimetype": "text/x-python",
   "name": "python",
   "nbconvert_exporter": "python",
   "pygments_lexer": "ipython3",
   "version": "3.9.12"
  }
 },
 "nbformat": 4,
 "nbformat_minor": 2
}
