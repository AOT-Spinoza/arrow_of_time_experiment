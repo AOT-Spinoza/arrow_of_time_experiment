{
 "cells": [
  {
   "cell_type": "code",
   "execution_count": 2,
   "metadata": {},
   "outputs": [],
   "source": [
    "import sys\n",
    "import os\n",
    "import numpy as np\n",
    "import cortex\n",
    "import matplotlib.pyplot as plt\n",
    "import pickle\n",
    "from nilearn.plotting import view_img\n",
    "import nibabel as nib\n",
    "import subprocess as sp\n",
    "import shlex\n",
    "\n"
   ]
  },
  {
   "cell_type": "code",
   "execution_count": null,
   "metadata": {},
   "outputs": [],
   "source": [
    "\n",
    "#test_data_path = '/tank/shared/2022/arrow_of_time/arrow_of_time_exp/aot/analysis/glmsingle/outputs/mainexp/sub-002_ses-01_voxel/TYPED_FITHRF_GLMDENOISE_RR.npy'\n",
    "test_data_path = '/tank/shared/2022/arrow_of_time/arrow_of_time_exp/aot/analysis/glmsingle/outputs/mainexp/sub-002_ses-01_voxel/TYPEC_FITHRF_GLMDENOISE.npy'\n",
    "fs_dir = '/tank/shared/2022/arrow_of_time/derivatives/fmripreps/aotfull_preprocs/fullpreproc03/sourcedata/freesurfer'      \n",
    "\n",
    "\n",
    "test_data = np.load(test_data_path, allow_pickle=True).item()\n",
    "#print(test_data)\n",
    "\n",
    "\n",
    "for key in test_data:\n",
    "    print(key)\n",
    "#R2 = test_data['onoffR2']\n",
    "R2 = test_data['R2']\n",
    "##meanvol = test_data['meanvol']\n",
    "#noisepool = test_data['noisepool']\n",
    "#HRFindex = test_data['HRFindex']\n",
    "#fracvalue = test_data['FRACvalue']\n",
    "# print(test_data['meanvol'])\n",
    "#print(test_data['noisepool'].shape)\n",
    "#print(test_data['R2'].shape)\n",
    "#print(noisepool)\n",
    "\n",
    "betas = test_data['betasmd']\n",
    "print(betas.shape)\n",
    "# #switch the first and second dimension\n",
    "# betas = np.swapaxes(betas,0,1)\n",
    "\n",
    "#betamean = np.mean(betas,axis=3)\n",
    "#print(betamean.shape)\n",
    "\n",
    "subject = \"fsaverage_tk\"\n",
    "r2vol = cortex.Volume(R2.T,subject,\"fmriprep_T1w\",cmap = \"inferno\")\n",
    "#project the volume onto the surface\n",
    "r2surf = cortex.db.get_surfinfo(subject, \"fiducial\", \"flat\")\n",
    "\n",
    "\n",
    "\n"
   ]
  }
 ],
 "metadata": {
  "kernelspec": {
   "display_name": "base",
   "language": "python",
   "name": "python3"
  },
  "language_info": {
   "codemirror_mode": {
    "name": "ipython",
    "version": 3
   },
   "file_extension": ".py",
   "mimetype": "text/x-python",
   "name": "python",
   "nbconvert_exporter": "python",
   "pygments_lexer": "ipython3",
   "version": "3.9.12"
  }
 },
 "nbformat": 4,
 "nbformat_minor": 2
}
