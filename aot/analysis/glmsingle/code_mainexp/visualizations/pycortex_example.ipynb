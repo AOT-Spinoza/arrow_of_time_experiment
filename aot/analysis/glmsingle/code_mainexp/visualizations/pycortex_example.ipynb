{
 "cells": [
  {
   "cell_type": "code",
   "execution_count": 5,
   "metadata": {},
   "outputs": [],
   "source": [
    "import os, sys\n",
    "from pathlib import Path\n",
    "import cortex\n",
    "import nibabel as nib\n",
    "import numpy as np\n",
    "import matplotlib.colors as colors\n",
    "import matplotlib.pyplot as pl\n",
    "import time\n",
    "import platform\n",
    "import subprocess"
   ]
  },
  {
   "cell_type": "code",
   "execution_count": 16,
   "metadata": {},
   "outputs": [],
   "source": [
    "data_dir = Path('/Users/knapen/projects/EO_ES/derivatives')\n",
    "\n",
    "subj_nr = 1\n",
    "sub = 'sub-{0:02d}'.format(subj_nr)\n",
    "cx_sub = \"EO_\" + sub\n",
    "\n",
    "fs_dir = data_dir / 'freesurfer'\n",
    "fs_subj_dir = Path(fs_dir, sub)\n",
    "\n",
    "glm_dir = data_dir / 'GLM'\n",
    "glm_subj_dir = glm_dir / sub\n",
    "glm_subj_gfeat_dir = glm_subj_dir / 'func' / 'sub-01_task-ER_space-T1w_desc-preproc_bold.gfeat'\n",
    "\n",
    "ctx_dir = data_dir / 'cortex' / 'outputs'"
   ]
  },
  {
   "cell_type": "code",
   "execution_count": 3,
   "metadata": {},
   "outputs": [
    {
     "name": "stdout",
     "output_type": "stream",
     "text": [
      "cortex.database.default_filestore: /Users/knapen/projects/EO_ES/derivatives/cortex/db\n",
      "cortex.options.usercfg: /Users/knapen/Library/Application Support/pycortex/options.cfg\n"
     ]
    }
   ],
   "source": [
    "print('cortex.database.default_filestore: {}'.format(cortex.database.default_filestore))\n",
    "print('cortex.options.usercfg: {}'.format(cortex.options.usercfg))"
   ]
  },
  {
   "cell_type": "code",
   "execution_count": 4,
   "metadata": {},
   "outputs": [
    {
     "name": "stdout",
     "output_type": "stream",
     "text": [
      "b'created by tkn219 on Fri Dec  1 02:37:01 2023\\n'\n",
      "b'created by tkn219 on Fri Dec  1 06:39:06 2023\\n'\n",
      "b'created by tkn219 on Fri Dec  1 04:18:14 2023\\n'\n",
      "b'created by tkn219 on Fri Dec  1 06:37:36 2023\\n'\n",
      "b'created by tkn219 on Fri Dec  1 02:37:01 2023\\n'\n",
      "b'created by tkn219 on Fri Dec  1 04:18:14 2023\\n'\n",
      "b'created by tkn219 on Fri Dec  1 06:39:06 2023\\n'\n",
      "b'created by tkn219 on Fri Dec  1 06:37:36 2023\\n'\n",
      "b'created by tkn219 on Fri Dec  1 02:37:36 2023\\n'\n",
      "b'created by tkn219 on Fri Dec  1 04:18:49 2023\\n'\n"
     ]
    }
   ],
   "source": [
    "cortex.freesurfer.import_subj(fs_subject=sub,\n",
    "                                cx_subject=cx_sub,\n",
    "                                freesurfer_subject_dir=fs_dir)"
   ]
  },
  {
   "cell_type": "code",
   "execution_count": 9,
   "metadata": {},
   "outputs": [],
   "source": [
    "example_func_fn = glm_subj_gfeat_dir / 'mean_func.nii.gz'\n",
    "bref = nib.load(example_func_fn)\n",
    "transform = cortex.xfm.Transform(np.identity(4), bref)\n",
    "transform.save(cx_sub, 'fmriprep', 'magnet')"
   ]
  },
  {
   "cell_type": "code",
   "execution_count": 18,
   "metadata": {},
   "outputs": [],
   "source": [
    "example_anat_fn = fs_subj_dir / 'mri' / 'T1.nii.gz'\n",
    "aref = nib.load(example_anat_fn)\n",
    "transform = cortex.xfm.Transform(np.identity(4), aref)\n",
    "transform.save(cx_sub, 'anat', 'magnet')"
   ]
  },
  {
   "cell_type": "code",
   "execution_count": 20,
   "metadata": {},
   "outputs": [
    {
     "name": "stdout",
     "output_type": "stream",
     "text": [
      "Started server on port 43159\n"
     ]
    },
    {
     "name": "stdout",
     "output_type": "stream",
     "text": [
      "Stopping server\n"
     ]
    }
   ],
   "source": [
    "mean_func_vcx = cortex.Volume(str(example_func_fn), cx_sub, 'fmriprep', cmap='bone', vmin=0, vmax=16000)\n",
    "T12_anat_vcx = cortex.Volume(str(fs_subj_dir / 'mri' / 'T12.nii.gz'), cx_sub, 'anat', cmap='Greens', vmin=0, vmax=1)\n",
    "\n",
    "ds = {\"mean_func\": mean_func_vcx, \"myelin\": T12_anat_vcx}\n",
    "for cope, name in zip((1,2,3,4), [\"positive\", \"negative\", \"pos-neg\", \"neg-pos\"]):\n",
    "    cope_fn = glm_subj_gfeat_dir / 'cope{}.feat'.format(cope) / 'stats' / 'zstat1.nii.gz'\n",
    "    cope_vcx = cortex.Volume(str(cope_fn), cx_sub, 'fmriprep', cmap='coolwarm', vmin=-4.5, vmax=4.5)\n",
    "    ds[name] = cope_vcx\n",
    "\n",
    "cortex.webgl.show(ds)\n",
    "cortex.webgl.make_static(ctx_dir / sub, ds)"
   ]
  }
 ],
 "metadata": {
  "kernelspec": {
   "display_name": "suppr_pRF",
   "language": "python",
   "name": "python3"
  },
  "language_info": {
   "codemirror_mode": {
    "name": "ipython",
    "version": 3
   },
   "file_extension": ".py",
   "mimetype": "text/x-python",
   "name": "python",
   "nbconvert_exporter": "python",
   "pygments_lexer": "ipython3",
   "version": "3.11.6"
  }
 },
 "nbformat": 4,
 "nbformat_minor": 2
}
